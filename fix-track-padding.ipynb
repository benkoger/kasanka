{
 "cells": [
  {
   "cell_type": "code",
   "execution_count": null,
   "metadata": {},
   "outputs": [],
   "source": [
    "import numpy as np\n",
    "import os\n",
    "import glob\n",
    "import matplotlib.pyplot as plt\n",
    "import sys\n",
    "\n",
    "sys.path.append('.../bats-code')\n",
    "from bat_functions import draw_tracks_on_frame"
   ]
  },
  {
   "cell_type": "code",
   "execution_count": null,
   "metadata": {},
   "outputs": [],
   "source": [
    "root_folder = '.../kasanka-bats/processed/deep-learning'"
   ]
  },
  {
   "cell_type": "code",
   "execution_count": null,
   "metadata": {},
   "outputs": [],
   "source": []
  },
  {
   "cell_type": "code",
   "execution_count": null,
   "metadata": {},
   "outputs": [],
   "source": [
    "for date in ['16Nov', '17Nov', '18Nov', '19Nov', '20Nov']:\n",
    "    folders = sorted(glob.glob(os.path.join(root_folder, date, '*')))\n",
    "    for folder in folders:\n",
    "        centers = np.load(os.path.join(folder, 'centers_unpadded.npy'), allow_pickle=True)\n",
    "        shift = 48\n",
    "        new_centers = centers + shift\n",
    "        new_file = os.path.join(folder, 'centers.npy')\n",
    "        np.save(new_file, new_centers)"
   ]
  },
  {
   "cell_type": "code",
   "execution_count": null,
   "metadata": {},
   "outputs": [],
   "source": [
    "def shift_tracks(tracks, shift):\n",
    "    \"\"\" Shift all positional track values by shift in both x and y.\"\"\"\n",
    "    \n",
    "    for track in tracks:\n",
    "        for c in track['contour']:\n",
    "            c += shift\n",
    "        for t in track['track']:\n",
    "            t += shift"
   ]
  },
  {
   "cell_type": "code",
   "execution_count": null,
   "metadata": {},
   "outputs": [],
   "source": [
    "for date in ['18Nov', '19Nov', '20Nov']:\n",
    "    folders = sorted(glob.glob(os.path.join(root_folder, date, '*')))\n",
    "    print(date)\n",
    "    for folder in folders[:]:\n",
    "        camera = os.path.basename(folder)\n",
    "        crossing_tracks = np.load(os.path.join(folder, 'crossing_tracks_unpadded.npy'), allow_pickle=True)\n",
    "        tracks = np.load(os.path.join(folder, 'raw_tracks_unpadded.npy'), allow_pickle=True)\n",
    "        shift = 48\n",
    "        shift_tracks(crossing_tracks, shift)\n",
    "        shift_tracks(tracks, shift)\n",
    "        print(f'camera: {camera}')\n",
    "        \n",
    "        np.save(os.path.join(folder, 'raw_tracks.npy'), tracks)\n",
    "        np.save(os.path.join(folder, 'crossing_tracks.npy'), crossing_tracks)"
   ]
  },
  {
   "cell_type": "code",
   "execution_count": null,
   "metadata": {},
   "outputs": [],
   "source": [
    "for track_ind, track in enumerate(tracks):\n",
    "    if type(track['track']) == list:\n",
    "        continue\n",
    "    else:\n",
    "        print('broke')\n",
    "        break\n",
    "\n"
   ]
  },
  {
   "cell_type": "code",
   "execution_count": null,
   "metadata": {},
   "outputs": [],
   "source": [
    "for date in ['17Nov']:\n",
    "    frames_root = os.path.join('.../Elements/bats', date) \n",
    "    folders = sorted(glob.glob(os.path.join(root_folder, date, '*')))\n",
    "    for folder in folders[4:5]:\n",
    "        camera = os.path.basename(folder)\n",
    "        frame_files = sorted(glob.glob(os.path.join(frames_root, camera, '*', '*.jpg')))\n",
    "        crossing_tracks = np.load(os.path.join(folder, 'crossing_tracks.npy'), allow_pickle=True)\n",
    "        tracks = np.load(os.path.join(folder, 'raw_tracks.npy'), allow_pickle=True)\n",
    "        first_frame = 30000\n",
    "        frame_shift = cameras_frame_shift[date][camera]\n",
    "        frame = plt.imread(frame_files[first_frame])\n",
    "        \n",
    "        draw_tracks_on_frame(frame, first_frame+frame_shift, \n",
    "                                 crossing_tracks, figure_scale=100, shift=0,\n",
    "                            draw_whole_track=False)\n",
    "        draw_tracks_on_frame(frame, first_frame+frame_shift, \n",
    "                                 tracks, figure_scale=100, shift=0,\n",
    "                            draw_whole_track=False)\n",
    "        print(f'camera: {camera}')"
   ]
  },
  {
   "cell_type": "code",
   "execution_count": null,
   "metadata": {},
   "outputs": [],
   "source": [
    "tracks[0]['contour'][0].shape\n",
    "tracks[0].keys()"
   ]
  },
  {
   "cell_type": "code",
   "execution_count": null,
   "metadata": {},
   "outputs": [],
   "source": [
    "frame = plt.imread(frame_files[first_frame])\n",
    "#         plt.imshow(frame)\n",
    "        if first_frame+frame_shift >= 0:\n",
    "            draw_tracks_on_frame(frame, first_frame+frame_shift, \n",
    "                                 tracks, figure_scale=100, shift=shift)"
   ]
  },
  {
   "cell_type": "code",
   "execution_count": null,
   "metadata": {},
   "outputs": [],
   "source": [
    "cameras_frame_shift = {'16Nov':{'Chyniangale': 0,\n",
    "               'BBC': -1209,\n",
    "               'FibwePublic': 0,\n",
    "               'MusoleTower': 0,\n",
    "               'Puku': 0,\n",
    "               'FibweParking': 0,\n",
    "               'MusoleParking': 0,\n",
    "               'MusolePath': 0,\n",
    "               'Sunset': 0,\n",
    "               'NotChyniangale': 0,\n",
    "               },\n",
    "               '17Nov':{'Chyniangale': 0,\n",
    "               'BBC': 0,\n",
    "               'FibwePublic': 0,\n",
    "               'MusoleTower': 0,\n",
    "               'Puku': 0,\n",
    "               'FibweParking2': -805,\n",
    "               'MusoleParking': 0,\n",
    "               'MusolePath2': 0,\n",
    "               'Sunset': 0,\n",
    "               'NotChyniangale': 0,\n",
    "               }\n",
    "              }"
   ]
  },
  {
   "cell_type": "code",
   "execution_count": null,
   "metadata": {},
   "outputs": [],
   "source": [
    "for date in ['16Nov', '17Nov']:\n",
    "    folders = sorted(glob.glob(os.path.join(root_folder, date, '*')))\n",
    "    for folder in folders:\n",
    "        new_file = os.path.join(folder, 'centers.npy')\n",
    "        new_centers = np.load(new_file, allow_pickle=True)\n",
    "        frames_root = os.path.join('.../Elements/bats', date)\n",
    "        camera = os.path.basename(folder)\n",
    "        frame_files = sorted(glob.glob(os.path.join(frames_root, camera, '*', '*.jpg')))\n",
    "        frame_ind = 30000\n",
    "        frame = plt.imread(frame_files[frame_ind])\n",
    "        plt.figure(figsize=(20,20))\n",
    "        plt.imshow(frame)\n",
    "        frame_shift = cameras_frame_shift[date][camera]\n",
    "        plt.scatter(new_centers[frame_ind+frame_shift][:,0], new_centers[frame_ind+frame_shift][:,1])\n",
    "        plt.title(f'{date}, {os.path.basename(folder)}')"
   ]
  },
  {
   "cell_type": "code",
   "execution_count": null,
   "metadata": {},
   "outputs": [],
   "source": [
    "date = '17Nov'\n",
    "camera = 'Chyniangale'"
   ]
  },
  {
   "cell_type": "code",
   "execution_count": null,
   "metadata": {},
   "outputs": [],
   "source": [
    "folder = os.path.join(root_folder, date, camera)\n",
    "\n",
    "new_file = os.path.join(folder, 'centers.npy')"
   ]
  },
  {
   "cell_type": "code",
   "execution_count": null,
   "metadata": {},
   "outputs": [],
   "source": [
    "new_centers = np.load(new_file, allow_pickle=True)"
   ]
  },
  {
   "cell_type": "code",
   "execution_count": null,
   "metadata": {},
   "outputs": [],
   "source": []
  },
  {
   "cell_type": "code",
   "execution_count": null,
   "metadata": {},
   "outputs": [],
   "source": [
    "frames_root = os.path.join('.../Elements/bats', date) \n",
    "frame_files = sorted(glob.glob(os.path.join(frames_root, camera, '*', '*.jpg')))"
   ]
  },
  {
   "cell_type": "code",
   "execution_count": null,
   "metadata": {},
   "outputs": [],
   "source": [
    "frame_ind = 20000\n",
    "frame = plt.imread(frame_files[frame_ind])\n",
    "plt.figure(figsize=(20,20))\n",
    "plt.imshow(frame)\n",
    "plt.scatter(new_centers[frame_ind][:,0], new_centers[frame_ind][:,1])"
   ]
  },
  {
   "cell_type": "code",
   "execution_count": null,
   "metadata": {},
   "outputs": [],
   "source": []
  }
 ],
 "metadata": {
  "kernelspec": {
   "display_name": "Python 3",
   "language": "python",
   "name": "python3"
  },
  "language_info": {
   "codemirror_mode": {
    "name": "ipython",
    "version": 3
   },
   "file_extension": ".py",
   "mimetype": "text/x-python",
   "name": "python",
   "nbconvert_exporter": "python",
   "pygments_lexer": "ipython3",
   "version": "3.8.10"
  }
 },
 "nbformat": 4,
 "nbformat_minor": 4
}
