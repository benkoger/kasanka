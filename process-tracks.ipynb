{
 "cells": [
  {
   "cell_type": "markdown",
   "metadata": {},
   "source": [
    "This notebook takes the raw tracks for each observation and finds all crossing tracks and extracts all nessisary assosiated information for population estimates including things like bat size, frame darkness etc. All this information is saved in one dictionary for each observation which can be used in other notebooks for further processing."
   ]
  },
  {
   "cell_type": "code",
   "execution_count": null,
   "metadata": {},
   "outputs": [],
   "source": [
    "import numpy as np\n",
    "import matplotlib.pyplot as plt\n",
    "import glob\n",
    "import os\n",
    "\n",
    "from bat_functions import mark_bats_on_image, draw_tracks_on_frame\n",
    "from bat_functions import get_bat_accumulation, piecewise_linear\n",
    "from bat_functions import threshold_short_tracks, calculate_height\n",
    "from bat_functions import calculate_bat_multiplier, combined_bat_multiplier\n",
    "from bat_functions import measure_crossing_bats\n",
    "from CountLine import CountLine\n",
    "import cv2\n",
    "import matplotlib as mpl\n",
    "import utm\n",
    "import matplotlib.pyplot as plt\n",
    "# import rasterio"
   ]
  },
  {
   "cell_type": "code",
   "execution_count": null,
   "metadata": {},
   "outputs": [],
   "source": []
  },
  {
   "cell_type": "code",
   "execution_count": null,
   "metadata": {},
   "outputs": [],
   "source": [
    "shift = 0 # loss on each side from not padding during detection\n",
    "\n",
    "HFOV = 85.8 # degrees\n",
    "HCONST = 1454.9 # pixels\n",
    "WCONST = 1453.7 # pixels\n",
    "FRAME_WIDTH = 2704 - (2 * shift)\n",
    "WINGSPAN = .8 # meters, max extent while flying \n",
    "\n",
    "image_file = '.../bats/saved_frames/Musole_Tower/GP029057/GP029057_new03-0000-circle-alt-thresh.jpg'\n",
    "image_file = '.../kasanka-bats/processed/deep-learning/19Nov/BBC/example-frames/19Nov_BBC_obs-ind_40500.jpg'\n",
    "frame_height = plt.imread(image_file).shape[0]\n",
    "frame_width = plt.imread(image_file).shape[1]"
   ]
  },
  {
   "cell_type": "code",
   "execution_count": null,
   "metadata": {},
   "outputs": [],
   "source": [
    "# camera_distances = {'Chyniangale': 306.009,\n",
    "#                     'Chinyingale': 306.009,\n",
    "#                     'Puku': 383,\n",
    "#                     'FibweParking': 1002,\n",
    "#                     'FibweParking2':1003,\n",
    "#                     'Sunset': 448,\n",
    "#                     'NotChyniangale': 266,\n",
    "#                     'NotChipingale': 266,\n",
    "#                     'NotChinyingale': 266,\n",
    "#                     'Musole_Parking': 408,\n",
    "#                     'MusolaParking': 408,\n",
    "#                     'Musole_path': 185,\n",
    "#                     'MusolaPath': 286,\n",
    "#                     'Musole_Path2': 286,\n",
    "#                     'FibwePublic': 1024,\n",
    "#                     'Fibwe_Public': 1024,\n",
    "                    \n",
    "#                     'MusoleTower': 256,\n",
    "#                     'MusolaTower': 256,\n",
    "#                     'BBC': 521}\n",
    "camera_distances = {'Chyniangale': 306.009,\n",
    "                    'Puku': 383,\n",
    "                    'FibweParking': 1002,\n",
    "                    'FibweParking2':1003,\n",
    "                    'Sunset': 448,\n",
    "                    'NotChyniangale': 266,\n",
    "                    'MusoleParking': 408,\n",
    "                    'MusolePath': 185,\n",
    "                    'MusolePath2': 286,\n",
    "                    'FibwePublic': 1024,\n",
    "                    'MusoleTower': 256,\n",
    "                    'BBC': 521}"
   ]
  },
  {
   "cell_type": "code",
   "execution_count": null,
   "metadata": {},
   "outputs": [],
   "source": [
    "root_folder = \".../kasanka-bats/processed/deep-learning\""
   ]
  },
  {
   "cell_type": "markdown",
   "metadata": {},
   "source": [
    "## Show demo image"
   ]
  },
  {
   "cell_type": "code",
   "execution_count": null,
   "metadata": {},
   "outputs": [],
   "source": [
    "root_frame_folder = \".../Elements/bats\"\n",
    "date = \"17Nov\"\n",
    "observation_name = \"BBC\"\n",
    "\n",
    "frame_files = sorted(\n",
    "    glob.glob(os.path.join(root_frame_folder,\n",
    "                           date,\n",
    "                           observation_name, \n",
    "                           \"*/*.jpg\"\n",
    "                    )\n",
    "    )\n",
    ")\n",
    "positions = np.load(os.path.join(root_folder, \n",
    "                                 date, observation_name, \n",
    "                                 'centers.npy'), \n",
    "                    allow_pickle=True)\n",
    "print(len(frame_files), len(positions))"
   ]
  },
  {
   "cell_type": "code",
   "execution_count": null,
   "metadata": {},
   "outputs": [],
   "source": [
    "frame_ind = 20000\n",
    "plt.figure(figsize=(20,20))\n",
    "im = plt.imread(frame_files[frame_ind])\n",
    "plt.imshow(im / im.max())\n",
    "plt.scatter(shift + positions[frame_ind][:,0], \n",
    "            shift + positions[frame_ind][:,1], \n",
    "            s=1, c='r')"
   ]
  },
  {
   "cell_type": "markdown",
   "metadata": {},
   "source": [
    "## Find crossing tracks"
   ]
  },
  {
   "cell_type": "code",
   "execution_count": null,
   "metadata": {},
   "outputs": [],
   "source": [
    "with_multiplier= True\n",
    "should_save = False\n",
    "num_cameras = None\n",
    "\n",
    "calc_crossing = True\n",
    "\n",
    "if calc_crossing:\n",
    "    folders = glob.glob(\n",
    "        '.../kasanka-bats/processed/deep-learning/*Nov'\n",
    "    )\n",
    "    day_folders = sorted(folders)\n",
    "        \n",
    "    observations = {}\n",
    "    for day_folder in day_folders[:1]:\n",
    "        print(day_folder)\n",
    "        \n",
    "        date = os.path.basename(day_folder)\n",
    "        track_files = sorted(\n",
    "            glob.glob(os.path.join(day_folder, '*/raw_tracks.npy'))\n",
    "        )\n",
    "        observations[date] = {}\n",
    "        for track_file in track_files[:num_cameras]:\n",
    "            crossing_track_file = os.path.join(os.path.dirname(track_file), \n",
    "                                           'crossing_tracks.npy')\n",
    "            if os.path.exists(crossing_track_file):\n",
    "                continue\n",
    "            try:\n",
    "                raw_track_list = np.load(track_file, allow_pickle=True)\n",
    "                tracks_list = threshold_short_tracks(raw_track_list, min_length_threshold=2)\n",
    "                crossing_tracks_list = measure_crossing_bats(\n",
    "                    tracks_list, frame_height=frame_height,\n",
    "                    frame_width=frame_width, count_across=True, \n",
    "                    count_out=True, num_frames=None, with_rects=with_multiplier\n",
    "                )\n",
    "                if should_save:\n",
    "                    np.save(crossing_track_file, \n",
    "                            np.array(crossing_tracks_list, dtype=object)\n",
    "                           )\n",
    "            except:\n",
    "                print('failed')\n",
    "\n"
   ]
  },
  {
   "cell_type": "code",
   "execution_count": null,
   "metadata": {},
   "outputs": [],
   "source": [
    "\n"
   ]
  },
  {
   "cell_type": "code",
   "execution_count": null,
   "metadata": {},
   "outputs": [],
   "source": []
  },
  {
   "cell_type": "code",
   "execution_count": null,
   "metadata": {},
   "outputs": [],
   "source": []
  },
  {
   "cell_type": "code",
   "execution_count": null,
   "metadata": {},
   "outputs": [],
   "source": []
  },
  {
   "cell_type": "code",
   "execution_count": null,
   "metadata": {},
   "outputs": [],
   "source": [
    "day_folders = sorted(glob.glob('.../kasanka-bats/processed/deep-learning/*Nov'))\n",
    "observations = {}\n",
    "for day_folder in day_folders[:]:\n",
    "    print(day_folder)\n",
    "\n",
    "    date = os.path.basename(day_folder)\n",
    "    track_files = sorted(glob.glob(os.path.join(day_folder, '*/crossing_tracks.npy')))\n",
    "    observations[date] = {}\n",
    "    \n",
    "    for track_file in track_files: \n",
    "        camera = track_file.split('/')[-2]\n",
    "        obs = {'date': date,\n",
    "               'camera': camera,\n",
    "               }\n",
    "        crossing_tracks_list = np.load(track_file, allow_pickle=True)\n",
    "        darkness_means = np.load(os.path.join(day_folder, camera, 'blue-means.npy'))\n",
    "        passing_bat_frame = []\n",
    "        passing_bat_size = []\n",
    "        passing_bat_track_ind = []\n",
    "        passing_bat_direction = []\n",
    "        passing_bat_track_id = []\n",
    "        passing_bat_darkness = []\n",
    "        passing_track_length = []\n",
    "        for track_ind, track in enumerate(crossing_tracks_list):\n",
    "            if track['crossed'] > 0:\n",
    "                passing_bat_frame.append(track['crossed'])\n",
    "                passing_bat_size.append(track['mean_wing'])\n",
    "                passing_bat_track_id.append(track_ind)\n",
    "                passing_bat_direction.append(1)\n",
    "                passing_bat_darkness.append(darkness_means[track['crossed']])\n",
    "                passing_track_length.append(len(track['track']))\n",
    "\n",
    "            elif track['crossed'] < 0:\n",
    "                passing_bat_frame.append(track['crossed'])\n",
    "                passing_bat_size.append(track['mean_wing'])\n",
    "                passing_bat_track_id.append(track_ind)\n",
    "                passing_bat_direction.append(-1)\n",
    "                passing_bat_darkness.append(darkness_means[-track['crossed']])\n",
    "                passing_track_length.append(len(track['track']))\n",
    "\n",
    "        obs['frames'] = np.array(passing_bat_frame)\n",
    "        obs['mean_wing'] = np.array(passing_bat_size)\n",
    "        obs['ids'] = np.array(passing_bat_track_id)\n",
    "        obs['direction'] = np.array(passing_bat_direction)\n",
    "        obs['darkness'] = np.array(passing_bat_darkness)\n",
    "        obs['track_length'] = np.array(passing_track_length)\n",
    "        observations[date][camera] = obs\n",
    "\n",
    "day_folders = sorted(glob.glob('.../kasanka-bats/processed/deep-learning/*Nov'))\n",
    "observations = {}\n",
    "for day_folder in day_folders[:]:\n",
    "    print(day_folder)\n",
    "\n",
    "    date = os.path.basename(day_folder)\n",
    "    track_files = sorted(glob.glob(os.path.join(day_folder, '*/crossing_tracks.npy')))\n",
    "    observations[date] = {}\n",
    "    \n",
    "    for track_file in track_files: \n",
    "        camera = track_file.split('/')[-2]\n",
    "        obs = {'date': date,\n",
    "               'camera': camera,\n",
    "               }\n",
    "        crossing_tracks_list = np.load(track_file, allow_pickle=True)\n",
    "        darkness_means = np.load(os.path.join(day_folder, camera, 'blue-means.npy'))\n",
    "        passing_bat_frame = []\n",
    "        passing_bat_size = []\n",
    "        passing_bat_track_ind = []\n",
    "        passing_bat_direction = []\n",
    "        passing_bat_track_id = []\n",
    "        passing_bat_darkness = []\n",
    "        for track_ind, track in enumerate(crossing_tracks_list):\n",
    "            if track['crossed'] > 0:\n",
    "                passing_bat_frame.append(track['crossed'])\n",
    "                passing_bat_size.append(track['mean_wing'])\n",
    "                passing_bat_track_id.append(track_ind)\n",
    "                passing_bat_direction.append(1)\n",
    "                passing_bat_darkness.append(darkness_means[track['crossed']])\n",
    "\n",
    "            elif track['crossed'] < 0:\n",
    "                passing_bat_frame.append(track['crossed'])\n",
    "                passing_bat_size.append(track['mean_wing'])\n",
    "                passing_bat_track_id.append(track_ind)\n",
    "                passing_bat_direction.append(-1)\n",
    "                passing_bat_darkness.append(darkness_means[-track['crossed']])\n",
    "\n",
    "        obs['frames'] = np.array(passing_bat_frame)\n",
    "        obs['mean_wing'] = np.array(passing_bat_size)\n",
    "        obs['ids'] = np.array(passing_bat_track_id)\n",
    "        obs['direction'] = np.array(passing_bat_direction)\n",
    "        obs['darkness'] = np.array(passing_bat_darkness)\n",
    "        observations[date][camera] = obs"
   ]
  },
  {
   "cell_type": "code",
   "execution_count": null,
   "metadata": {},
   "outputs": [],
   "source": [
    "obs.keys()"
   ]
  },
  {
   "cell_type": "code",
   "execution_count": null,
   "metadata": {},
   "outputs": [],
   "source": [
    "observation_root = '.../kasanka-bats/processed/deep-learning/observations'\n",
    "for date, day_obs in observations.items():\n",
    "    day_folder = os.path.join(observation_root, date)\n",
    "    os.makedirs(day_folder, exist_ok=True)\n",
    "    for cam_ind, (cam_name, obs) in enumerate(day_obs.items()):\n",
    "        obs_name = f'{date}-observation-{cam_name}.npy'\n",
    "        obs_file = os.path.join(day_folder, obs_name)\n",
    "        np.save(obs_file, obs)"
   ]
  },
  {
   "cell_type": "code",
   "execution_count": null,
   "metadata": {},
   "outputs": [],
   "source": []
  },
  {
   "cell_type": "code",
   "execution_count": null,
   "metadata": {},
   "outputs": [],
   "source": []
  },
  {
   "cell_type": "code",
   "execution_count": null,
   "metadata": {},
   "outputs": [],
   "source": [
    "camera_locations = {'FibweParking2': [-12.5903393, 30.2525047],\t\n",
    "                    'FibweParking': [-12.5903393, 30.2525047],\n",
    "                    'Chyniangale': [-12.5851284, 30.245529],\t\n",
    "                    'BBC': [-12.5863538, 30.2484985],\n",
    "                    'Sunset': [-12.585784, 30.240003],\n",
    "                    'NotChyniangale': [-12.5849206,\t30.2436135],\n",
    "                    'MusoleParking': [-12.58787, 30.2401],\t\n",
    "                    'MusolePath2': [-12.589544,\t30.242488],\t\n",
    "                    'MusolePath': [-12.589544,\t30.242488],\n",
    "                    'Puku': [-12.584838, 30.24137],\t\n",
    "                    'FibwePublic': [-12.592537, 30.2515924],\t\n",
    "                    'MusoleTower': [-12.589434, 30.244736],\n",
    "                    }\n",
    "\n",
    "forest_border = [[-12.585957, 30.242762],\n",
    "                 [-12.586763, 30.246229],\n",
    "                 [-12.589854, 30.250597],\n",
    "                 [-12.591381, 30.249095],\n",
    "                 [-12.589182, 30.245566],\n",
    "                 [-12.587557, 30.241598]\n",
    "                ]\n",
    "\n",
    "center = [-12.587444, 30.244290]"
   ]
  },
  {
   "cell_type": "code",
   "execution_count": null,
   "metadata": {},
   "outputs": [],
   "source": [
    "# def get_camera_angles(camera_utms, center_utm):\n",
    "#     camera_angles = {}\n",
    "#     for camera, camera_utm in camera_utms.items():\n",
    "#         dif = camera_utm - center_utm\n",
    "#         camera_angles[camera] = np.arctan2(dif[1], dif[0])\n",
    "#     return camera_angles\n",
    "\n",
    "# def get_camera_distances(camera_utms, center_utm):\n",
    "#     camera_distances = {}\n",
    "#     for camera, camera_utm in camera_utms.items():\n",
    "#         diff = camera_utm - center_utm\n",
    "#         camera_distances[camera] = np.sum(np.sqrt(diff ** 2))\n",
    "#     return camera_distances\n",
    "\n",
    "# def get_camera_borders(camera_utms, camera_angles):\n",
    "#     camera_border = {}\n",
    "#     for camera, camera_utm in camera_utms.items():\n",
    "#         min_neg = -10000\n",
    "#         min_pos = 100000\n",
    "#         max_pos = 0 # for border case where focal is positive angle and closest cclock is negative\n",
    "#         all_pos = True # for same case a last comment\n",
    "#         max_neg = 0 # for border case where focal is positive angle and closest cclock is negative\n",
    "#         all_neg = True # for same case a last comment\n",
    "#         max_camera = None\n",
    "#         camera_border[camera] = {'cclock': None,\n",
    "#                                  'cclock_angle': None,\n",
    "#                                  'clock': None,\n",
    "#                                  'clock_angle': None\n",
    "#                                 }\n",
    "#         for alt_camera, alt_camera_utm in camera_utms.items():\n",
    "            \n",
    "#             if camera == alt_camera:\n",
    "#                 continue\n",
    "\n",
    "#             dif = camera_angles[camera] - camera_angles[alt_camera]\n",
    "#             if dif < 0:\n",
    "#                 all_pos = False\n",
    "#                 if dif > min_neg:\n",
    "#                     min_neg = dif\n",
    "#                     camera_border[camera]['cclock'] = alt_camera\n",
    "#                     camera_border[camera]['cclock_angle'] = dif / 2\n",
    "#                 if dif < max_neg:\n",
    "#                     max_neg = dif \n",
    "#                     max_camera = alt_camera\n",
    "\n",
    "#             if dif > 0:\n",
    "#                 all_neg = False\n",
    "#                 if dif < min_pos:\n",
    "#                     min_pos = dif\n",
    "#                     camera_border[camera]['clock'] = alt_camera\n",
    "#                     camera_border[camera]['clock_angle'] = dif / 2\n",
    "#                 if dif > max_pos:\n",
    "#                     max_pos = dif \n",
    "#                     max_camera = alt_camera\n",
    "\n",
    "#         if all_pos:\n",
    "#             camera_border[camera]['cclock'] = max_camera\n",
    "#             camera_border[camera]['cclock_angle'] = (max_pos - 2*np.pi) / 2\n",
    "#         if all_neg:\n",
    "#             camera_border[camera]['clock'] = max_camera\n",
    "#             camera_border[camera]['clock_angle'] = (max_neg + 2*np.pi) / 2\n",
    "            \n",
    "#     return camera_border"
   ]
  },
  {
   "cell_type": "code",
   "execution_count": null,
   "metadata": {},
   "outputs": [],
   "source": [
    "all_camera_utms = latlong_dict_to_utm(camera_locations)\n",
    "forest_utms = []\n",
    "for f_latlon in forest_border:\n",
    "    f_utm = utm.from_latlon(*f_latlon)\n",
    "    forest_utms.append([f_utm[0], f_utm[1]])\n",
    "forest_utms = np.array(forest_utms)\n",
    "    \n",
    "# center_utm = utm.from_latlon(*center)\n",
    "# center_utm = np.array([center_utm[0], center_utm[1]])"
   ]
  },
  {
   "cell_type": "code",
   "execution_count": null,
   "metadata": {},
   "outputs": [],
   "source": [
    "# angles = get_camera_angles(all_camera_utms, center_utm)"
   ]
  },
  {
   "cell_type": "code",
   "execution_count": null,
   "metadata": {},
   "outputs": [],
   "source": [
    "camera_utm_array = []\n",
    "for utm in all_camera_utms.values():\n",
    "    camera_utm_array.append(utm)\n",
    "camera_utm_array = np.array(camera_utm_array)\n",
    "max_area_x = (np.max(camera_utm_array[:,0]) - np.min(camera_utm_array[:,0])).astype(int)\n",
    "max_area_y = (np.max(camera_utm_array[:,1]) - np.min(camera_utm_array[:,1])).astype(int)\n",
    "area = np.zeros((max_area_y, max_area_x), dtype=np.uint8)"
   ]
  },
  {
   "cell_type": "code",
   "execution_count": null,
   "metadata": {},
   "outputs": [],
   "source": [
    "norm_forest = np.copy(forest_utms)\n",
    "area_x_origin = np.min(camera_utm_array[:, 0])\n",
    "area_y_origin = np.min(camera_utm_array[:, 1])\n",
    "norm_forest[:, 0] = forest_utms[:, 0] - area_x_origin\n",
    "norm_forest[:, 1] = forest_utms[:, 1] - area_y_origin\n",
    "area = cv2.drawContours(area, [norm_forest.astype(np.int32)], -1, 255, -1)"
   ]
  },
  {
   "cell_type": "code",
   "execution_count": null,
   "metadata": {},
   "outputs": [],
   "source": [
    "plt.imshow(area)"
   ]
  },
  {
   "cell_type": "code",
   "execution_count": null,
   "metadata": {},
   "outputs": [],
   "source": [
    "map_file = '.../bats-data/maps/kasanka-utm.tiff'\n",
    "forest_map_dataset = rasterio.open(map_file)"
   ]
  },
  {
   "cell_type": "code",
   "execution_count": null,
   "metadata": {},
   "outputs": [],
   "source": [
    "forest_map_dataset.transform\n",
    "forest_map_dataset.count"
   ]
  },
  {
   "cell_type": "code",
   "execution_count": null,
   "metadata": {},
   "outputs": [],
   "source": [
    "forest_map = [forest_map_dataset.read(band_ind) for band_ind in range(1, 4)]\n",
    "forest_map = np.array(forest_map)\n",
    "forest_map = forest_map.transpose(1, 2, 0)"
   ]
  },
  {
   "cell_type": "code",
   "execution_count": null,
   "metadata": {},
   "outputs": [],
   "source": [
    "plt.imshow(forest_map)"
   ]
  },
  {
   "cell_type": "code",
   "execution_count": null,
   "metadata": {},
   "outputs": [],
   "source": [
    "width = np.abs(forest_map_dataset.bounds.left - forest_map_dataset.bounds.right).astype(int)\n",
    "height = np.abs(forest_map_dataset.bounds.top - forest_map_dataset.bounds.bottom).astype(int)\n",
    "area = np.zeros((height, width), dtype=np.uint8)"
   ]
  },
  {
   "cell_type": "code",
   "execution_count": null,
   "metadata": {},
   "outputs": [],
   "source": [
    "norm_forest = np.copy(forest_utms)\n",
    "area_x_origin = forest_map_dataset.bounds.left\n",
    "area_y_origin = forest_map_dataset.bounds.bottom\n",
    "norm_forest[:, 0] = forest_utms[:, 0] - area_x_origin\n",
    "norm_forest[:, 1] = forest_utms[:, 1] - area_y_origin\n",
    "area = cv2.drawContours(area, [norm_forest.astype(np.int32)], -1, 255, -1)"
   ]
  },
  {
   "cell_type": "code",
   "execution_count": null,
   "metadata": {},
   "outputs": [],
   "source": [
    "forest_map_dataset.bounds"
   ]
  },
  {
   "cell_type": "code",
   "execution_count": null,
   "metadata": {},
   "outputs": [],
   "source": [
    "plt.imshow(area)"
   ]
  },
  {
   "cell_type": "code",
   "execution_count": null,
   "metadata": {},
   "outputs": [],
   "source": [
    "plt.imshow(forest_map)\n",
    "for point in forest_utms:\n",
    "    row, col = forest_map_dataset.index(point[0], point[1])\n",
    "    print(point[1], point[0], row, col)\n",
    "    plt.scatter(col, row)"
   ]
  },
  {
   "cell_type": "code",
   "execution_count": null,
   "metadata": {},
   "outputs": [],
   "source": [
    "# def get_camera_locations(observations, all_camera_locations, exclude=False):\n",
    "#     \"\"\"Return dict of all camera locations used in observation\"\"\"\n",
    "#     camera_locations = {}\n",
    "#     for camera, obs in observations.items():\n",
    "#         if exclude:\n",
    "#             if 'exclude' in obs.keys():\n",
    "#                 if obs['exclude']:\n",
    "#                     continue\n",
    "#         camera_locations[obs['camera']] = all_camera_locations[obs['camera']]\n",
    "#     return camera_locations\n",
    "    \n",
    "\n",
    "\n",
    "# def get_day_total(observations, center_utm, all_camera_utms, \n",
    "#                   frame_width, wingspan, exclude=False, \n",
    "#                   correct_darkness=False, wing_scale=1):\n",
    "#     \"\"\" exlude: to manually remove certain cameras\n",
    "#         correct_darkness: divide by accuracy estimated for given darkness\"\"\"\n",
    "\n",
    "#     parameters = [1.57454778e+01, 9.37398964e-01, 7.18914388e-02, -1.27575036e-04]\n",
    "    \n",
    "#     frac_sum = 0\n",
    "#     total = 0\n",
    "#     obs_totals = []\n",
    "    \n",
    "#     camera_utms = get_camera_locations(observations, all_camera_utms, exclude=True)\n",
    "#     for obs in observations.values():\n",
    "#         if exclude:\n",
    "#             if 'exclude' in obs.keys():\n",
    "#                 if obs['exclude']:\n",
    "#                     continue\n",
    "#         camera_distances = get_camera_distances(camera_utms, center_utm)\n",
    "#         obs['multiplier'] = combined_bat_multiplier(frame_width, \n",
    "#                                                     wingspan, \n",
    "#                                                     obs['mean_wing']*wing_scale, \n",
    "#                                                     camera_distances[obs['camera']]\n",
    "#                                                    )\n",
    "#         if correct_darkness:\n",
    "#             acc = piecewise_linear(\n",
    "#                 obs['darkness'], *parameters)\n",
    "#             obs['total_darkness'] = np.sum(obs['multiplier'] * obs['direction'] * (1/acc))\n",
    "#         obs['total'] = np.sum(obs['multiplier'] * obs['direction'])\n",
    "#         obs['total_unscaled'] = np.sum(obs['direction'])\n",
    "#         camera_angles = get_camera_angles(camera_utms, center_utm)\n",
    "#         camera_border = get_camera_borders(camera_utms, camera_angles)\n",
    "#         angle = (-camera_border[obs['camera']]['cclock_angle'] \n",
    "#                  + camera_border[obs['camera']]['clock_angle']\n",
    "#                 )\n",
    "#         frac = angle / (np.pi * 2)\n",
    "#         obs['fraction_total'] = frac\n",
    "#         frac_sum += frac\n",
    "#         if correct_darkness:\n",
    "#             total += obs['total_darkness'] * frac\n",
    "#             obs_totals.append(obs['total_darkness'])\n",
    "#         else:\n",
    "#             total += obs['total'] * frac\n",
    "#             obs_totals.append(obs['total'])\n",
    "\n",
    "#     if len(obs_totals) > 0:\n",
    "#         mean_total = np.mean(obs_totals)\n",
    "#     else:\n",
    "#         mean_total = 0\n",
    "\n",
    "#     return total, mean_total\n",
    "    "
   ]
  },
  {
   "cell_type": "code",
   "execution_count": null,
   "metadata": {},
   "outputs": [],
   "source": [
    "obs['multiplier'][:10]"
   ]
  },
  {
   "cell_type": "code",
   "execution_count": null,
   "metadata": {},
   "outputs": [],
   "source": []
  },
  {
   "cell_type": "code",
   "execution_count": null,
   "metadata": {},
   "outputs": [],
   "source": [
    "parameters = [1.57454778e+01, 9.37398964e-01, 7.18914388e-02, -1.27575036e-04]\n",
    "parameters_alt = [ 2.53107930e+01,  9.59547293e-01,  2.70747111e-02, -1.18602475e-03]\n",
    "parameters_alt2 = [1.03891791e+01, 8.78179573e-01, 1.86387502e-01, 1.77968688e-04]\n",
    "should_save=False\n",
    "show_alt_params = True\n",
    "save_folder = os.path.join(plot_folder, 'bat-accumulation')\n",
    "\n",
    "fontsize = 15\n",
    "\n",
    "num_cols = 5\n",
    "\n",
    "max_bats = 0\n",
    "# so all plots have same scale\n",
    "for date, day_obs in observations.items():\n",
    "    get_day_total(day_obs, center_utm['middle'], \n",
    "                  all_camera_utms, FRAME_WIDTH, WINGSPAN, \n",
    "                  exclude=exclude, correct_darkness=True\n",
    "                 )                                         \n",
    "    for cam_ind, (cam_name, obs) in enumerate(day_obs.items()):\n",
    "        bat_accumulation = get_bat_accumulation(obs['frames'], obs, parameters_alt)\n",
    "        if bat_accumulation[-1] > max_bats:\n",
    "            max_bats = bat_accumulation[-1]\n",
    "max_bats += 1000  \n",
    "\n",
    "\n",
    "for date, day_obs in observations.items():\n",
    "    fig, axs = plt.subplots(2, num_cols, figsize=(20,20))\n",
    "    \n",
    "    total = 0\n",
    "    total0 = 0\n",
    "    total1 = 0\n",
    "    total2 = 0\n",
    "    for cam_ind, (cam_name, obs) in enumerate(day_obs.items()):\n",
    "        darkness_means = np.load(\n",
    "            os.path.join(root_folder, date, cam_name, 'blue-means.npy')\n",
    "        )\n",
    "        c0 = 'b'\n",
    "        bat_accumulation = get_bat_accumulation(obs['frames'], obs, parameters)\n",
    "        axs[cam_ind//num_cols, cam_ind%num_cols].plot(bat_accumulation, label='corrected', c=c0)\n",
    "        total0 += bat_accumulation[-1]\n",
    "        bat_accumulation = get_bat_accumulation(obs['frames'], obs, parameters, w_darkness=False)\n",
    "        axs[cam_ind//num_cols, cam_ind%num_cols].plot(bat_accumulation, label='raw', c='k')\n",
    "        total += bat_accumulation[-1]\n",
    "        beginning_error_frame = np.argmax(darkness_means < parameters[0])\n",
    "        axs[cam_ind//num_cols, cam_ind%num_cols].axvline(beginning_error_frame, c=c0)\n",
    "        if show_alt_params:\n",
    "            c1 = 'r'\n",
    "            bat_accumulation = get_bat_accumulation(obs['frames'], obs, parameters_alt)\n",
    "            axs[cam_ind//num_cols, cam_ind%num_cols].plot(bat_accumulation, label='alt params', c=c1)\n",
    "            beginning_error_frame = np.argmax(darkness_means < parameters_alt[0])\n",
    "            axs[cam_ind//num_cols, cam_ind%num_cols].axvline(beginning_error_frame, c=c1)\n",
    "            total1 += bat_accumulation[-1]\n",
    "            \n",
    "            c2 = 'g'\n",
    "            bat_accumulation = get_bat_accumulation(obs['frames'], obs, parameters_alt2)\n",
    "            axs[cam_ind//num_cols, cam_ind%num_cols].plot(bat_accumulation, label='alt params', c=c2)\n",
    "            beginning_error_frame = np.argmax(darkness_means < parameters_alt2[0])\n",
    "            axs[cam_ind//num_cols, cam_ind%num_cols].axvline(beginning_error_frame, c=c2)\n",
    "            total2 += bat_accumulation[-1]\n",
    "        axs[cam_ind//num_cols, cam_ind%num_cols].set_title(cam_name, fontsize=fontsize*1.5)\n",
    "    for ax_ind, ax in enumerate(axs.reshape(-1)):\n",
    "        ax.set_ylim(top=max_bats)\n",
    "        ax.set_xlabel('frame number', fontsize=fontsize)\n",
    "        ax.tick_params(axis='y', labelsize=fontsize)\n",
    "        ax.yaxis.set_major_formatter(\n",
    "            mpl.ticker.StrMethodFormatter('{x:,.0f}'))\n",
    "        if ax_ind % num_cols != 0:\n",
    "            ax.tick_params(labelleft=False)  \n",
    "    for r in range(len(axs)):\n",
    "        axs[r, 0].set_ylabel('number of bats seen', fontsize=fontsize)\n",
    "    fig.suptitle(f'{date} total bats: \\n raw: {total:,.0f}, blue: {total0:,.0f}, red: {total1:,.0f}, green: {total2:,.0f}', size=fontsize*2)\n",
    "    if show_alt_params:\n",
    "        plot_name = 'bat-accumulation-scaled-break-{}-comparison-{}.png'.format(parameters[0], date)\n",
    "    else:\n",
    "        plot_name = 'bat-accumulation-scaled-break-{}-{}.png'.format(parameters[0], date)\n",
    "    plot_file = os.path.join(save_folder, plot_name)\n",
    "    if should_save:\n",
    "        fig.savefig(plot_file, bbox_inches='tight')\n",
    "\n",
    "\n",
    "\n",
    "# day = '16Nov'\n",
    "\n",
    "# for cam_ind, (cam_name, obs) in enumerate(observations['16Nov'].items()):\n",
    "    \n",
    "#     darkness_means = np.load(os.path.join(root_folder, day, cam_name, 'blue-means.npy'))\n",
    "#     beginning_error_frame = np.argmax(darkness_means < parameters[0])\n",
    "#     plt.figure()\n",
    "#     plt.axvline(beginning_error_frame)\n",
    "#     bat_accumulation = get_bat_accumulation(obs['frames'], obs)\n",
    "#     plt.plot(bat_accumulation, label='estimate')\n",
    "#     bat_accumulation = get_bat_accumulation(obs['frames'], obs, w_darkness=False)\n",
    "#     plt.plot(bat_accumulation, label='without error scaling')\n",
    "#     plt.legend()\n",
    "#     plt.title(cam_name)\n",
    "        \n"
   ]
  },
  {
   "cell_type": "code",
   "execution_count": null,
   "metadata": {},
   "outputs": [],
   "source": []
  },
  {
   "cell_type": "code",
   "execution_count": null,
   "metadata": {},
   "outputs": [],
   "source": [
    "plot_folder = '.../bats-data/plots'\n",
    "plt.style.use('default')"
   ]
  },
  {
   "cell_type": "code",
   "execution_count": null,
   "metadata": {},
   "outputs": [],
   "source": [
    "save_folder = os.path.join(plot_folder, 'bat-accumulation')\n",
    "os.makedirs(save_folder, exist_ok=True)\n",
    "should_save = False\n",
    "fontsize = 15\n",
    "\n",
    "num_cols = 5\n",
    "\n",
    "max_bats = 0\n",
    "# so all plots have same scale\n",
    "for date, day_obs in observations.items():\n",
    "    for cam_ind, (cam_name, obs) in enumerate(day_obs.items()):\n",
    "        bat_accumulation = get_bat_accumulation(obs['frames'])\n",
    "        if bat_accumulation[-1] > max_bats:\n",
    "            max_bats = bat_accumulation[-1]\n",
    "max_bats += 1000           \n",
    "            \n",
    "for date, day_obs in observations.items():\n",
    "    fig, axs = plt.subplots(2, num_cols, figsize=(20,20))\n",
    "    for cam_ind, (cam_name, obs) in enumerate(day_obs.items()):\n",
    "        bat_accumulation = get_bat_accumulation(obs['frames'])\n",
    "        axs[cam_ind//num_cols, cam_ind%num_cols].plot(bat_accumulation)\n",
    "        axs[cam_ind//num_cols, cam_ind%num_cols].set_title(cam_name, fontsize=fontsize*1.5)\n",
    "    for ax_ind, ax in enumerate(axs.reshape(-1)):\n",
    "        ax.set_ylim(top=max_bats)\n",
    "        ax.set_xlabel('frame number', fontsize=fontsize)\n",
    "        ax.tick_params(axis='y', labelsize=fontsize)\n",
    "        ax.yaxis.set_major_formatter(\n",
    "            mpl.ticker.StrMethodFormatter('{x:,.0f}'))\n",
    "        if ax_ind % num_cols != 0:\n",
    "            ax.tick_params(labelleft=False)  \n",
    "    for r in range(len(axs)):\n",
    "        axs[r, 0].set_ylabel('number of bats seen', fontsize=fontsize)\n",
    "    fig.suptitle(date, size=fontsize*3)\n",
    "    plot_name = 'bat-accumulation-{}.png'.format(date)\n",
    "    plot_file = os.path.join(save_folder, plot_name)\n",
    "    if should_save:\n",
    "        fig.savefig(plot_file, bbox_inches='tight')"
   ]
  },
  {
   "cell_type": "code",
   "execution_count": null,
   "metadata": {},
   "outputs": [],
   "source": [
    "parameters = [1.57454778e+01, 9.37398964e-01, 7.18914388e-02, -1.27575036e-04]\n",
    "# parameters_alt = [ 2.53107930e+01,  9.59547293e-01,  2.70747111e-02, -1.18602475e-03]\n",
    "# parameters_alt2 = [1.03891791e+01, 8.78179573e-01, 1.86387502e-01, 1.77968688e-04]\n",
    "should_save = True\n",
    "show_alt_params = False\n",
    "save_folder = os.path.join(plot_folder, 'bat-accumulation')\n",
    "\n",
    "fontsize = 15\n",
    "\n",
    "num_cols = 5\n",
    "\n",
    "max_bats = 0\n",
    "# so all plots have same scale\n",
    "for date, day_obs in observations.items():\n",
    "    get_day_total(day_obs, center_utm['middle'], \n",
    "                  all_camera_utms, FRAME_WIDTH, WINGSPAN, \n",
    "                  exclude=exclude, correct_darkness=True,\n",
    "                  wing_scale=1.15\n",
    "\n",
    "                 )                                         \n",
    "    for cam_ind, (cam_name, obs) in enumerate(day_obs.items()):\n",
    "        bat_accumulation = get_bat_accumulation(obs['frames'], obs, parameters_alt)\n",
    "        if bat_accumulation[-1] > max_bats:\n",
    "            max_bats = bat_accumulation[-1]\n",
    "max_bats += 1000  \n",
    "\n",
    "\n",
    "for date, day_obs in observations.items():\n",
    "    fig, axs = plt.subplots(2, num_cols, figsize=(20,20))\n",
    "    \n",
    "    wing_scales = [0.85, 1.0, 1.15]\n",
    "    totals = [0 for _ in wing_scales]\n",
    "    colors = ['r', 'b', 'r']\n",
    "    for cam_ind, (cam_name, obs) in enumerate(day_obs.items()):\n",
    "        \n",
    "        for scale_ind, wing_scale in enumerate(wing_scales):\n",
    "            \n",
    "            camera_distances = get_camera_distances(all_camera_utms, center_utm['middle'])\n",
    "            \n",
    "#             print(scale_ind, cam_ind)\n",
    "            obs['multiplier'] = combined_bat_multiplier(FRAME_WIDTH, \n",
    "                                                            WINGSPAN, \n",
    "                                                            obs['mean_wing']*wing_scale, \n",
    "                                                            camera_distances[obs['camera']]\n",
    "                                                           )\n",
    "            bat_accumulation = get_bat_accumulation(obs['frames'], obs, parameters)\n",
    "            axs[cam_ind//num_cols, cam_ind%num_cols].plot(bat_accumulation, c=colors[scale_ind])\n",
    "            totals[scale_ind] += bat_accumulation[-1]\n",
    "        axs[cam_ind//num_cols, cam_ind%num_cols].set_title(cam_name, fontsize=fontsize*1.5)\n",
    "    for ax_ind, ax in enumerate(axs.reshape(-1)):\n",
    "        ax.set_ylim(top=max_bats)\n",
    "        ax.set_xlabel('frame number', fontsize=fontsize)\n",
    "        ax.tick_params(axis='y', labelsize=fontsize)\n",
    "        ax.yaxis.set_major_formatter(\n",
    "            mpl.ticker.StrMethodFormatter('{x:,.0f}'))\n",
    "        if ax_ind % num_cols != 0:\n",
    "            ax.tick_params(labelleft=False)  \n",
    "    for r in range(len(axs)):\n",
    "        axs[r, 0].set_ylabel('number of bats seen', fontsize=fontsize)\n",
    "    fig.suptitle(f'{date} wing error: \\n total bats .85: {totals[0]:,.0f}, 1.0: {totals[1]:,.0f}, 1.15: {totals[2]:,.0f}', size=fontsize*2)\n",
    "\n",
    "    plot_name = 'bat-accumulation-wing-error-{}.png'.format(date)\n",
    "    plot_file = os.path.join(save_folder, plot_name)\n",
    "    if should_save:\n",
    "        fig.savefig(plot_file, bbox_inches='tight')"
   ]
  },
  {
   "cell_type": "code",
   "execution_count": null,
   "metadata": {},
   "outputs": [],
   "source": [
    "np.mean(obs['mean_wing']*1.0)"
   ]
  },
  {
   "cell_type": "code",
   "execution_count": null,
   "metadata": {},
   "outputs": [],
   "source": [
    "# Manually exclude cameras that had issues\n",
    "observations['18Nov']['MusolePath']['exclude'] = True\n",
    "observations['20Nov']['MusolePath']['exclude'] = True"
   ]
  },
  {
   "cell_type": "code",
   "execution_count": null,
   "metadata": {},
   "outputs": [],
   "source": []
  },
  {
   "cell_type": "code",
   "execution_count": null,
   "metadata": {},
   "outputs": [],
   "source": [
    "exclude = True\n",
    "scale = 10\n",
    "total_mean_maps = []\n",
    "total_weighted_maps = []\n",
    "for _ in range(len(observations)):\n",
    "    total_mean_maps.append(np.zeros(((int(area.shape[0]/scale)+1, int(area.shape[1]/scale)+1))))\n",
    "    total_weighted_maps.append(np.zeros(((int(area.shape[0]/scale)+1, int(area.shape[1]/scale)+1))))\n",
    "                      \n",
    "for x_ind, x in enumerate(range(0, area.shape[1], scale)):\n",
    "    for y_ind, y in enumerate(range(0, area.shape[0], scale)):\n",
    "        if area[y, x] == 0:\n",
    "            continue\n",
    "        x_utm = x + area_x_origin\n",
    "        y_utm = y + area_y_origin\n",
    "        center_utm = np.array([x_utm, y_utm])\n",
    "        for day_ind, day in enumerate(observations.values()):\n",
    "            day_total, day_total_mean = get_day_total(day, center_utm, all_camera_utms, \n",
    "                                                      FRAME_WIDTH, WINGSPAN, exclude=exclude)\n",
    "            \n",
    "            total_mean_maps[day_ind][y_ind, x_ind] = day_total_mean\n",
    "            total_weighted_maps[day_ind][y_ind, x_ind] = day_total\n",
    "                         \n",
    "                \n",
    "for map_ind, total_map in enumerate(total_mean_maps):\n",
    "    total_mean_maps[map_ind] = cv2.resize(total_map, (area.shape[1], area.shape[0]), \n",
    "                                          interpolation=cv2.INTER_NEAREST)\n",
    "for map_ind, total_map in enumerate(total_weighted_maps):\n",
    "    total_weighted_maps[map_ind] = cv2.resize(total_map, (area.shape[1], area.shape[0]), \n",
    "                                          interpolation=cv2.INTER_NEAREST)      "
   ]
  },
  {
   "cell_type": "code",
   "execution_count": null,
   "metadata": {},
   "outputs": [],
   "source": []
  },
  {
   "cell_type": "code",
   "execution_count": null,
   "metadata": {},
   "outputs": [],
   "source": [
    "max_count = 0\n",
    "for mean_map, weighted_map in zip(total_mean_maps, total_weighted_maps):\n",
    "    day_max = np.max([np.max(mean_map), np.max(weighted_map)])\n",
    "    if day_max > max_count:\n",
    "        max_count = day_max\n",
    "print(max_count)"
   ]
  },
  {
   "cell_type": "code",
   "execution_count": null,
   "metadata": {},
   "outputs": [],
   "source": [
    "weighted.shape"
   ]
  },
  {
   "cell_type": "code",
   "execution_count": null,
   "metadata": {},
   "outputs": [],
   "source": [
    "# area_x_origin = forest_map_dataset.bounds.left \n",
    "# area_y_origin = forest_map_dataset.bounds.top\n",
    "\n",
    "# total_weighted_maps = [np.copy(forest_map), np.copy(forest_map)]\n",
    "# total_mean_maps = [np.copy(forest_map), np.copy(forest_map)]"
   ]
  },
  {
   "cell_type": "code",
   "execution_count": null,
   "metadata": {},
   "outputs": [],
   "source": [
    "# im = np.ones((20,20,3), dtype=np.uint8)\n",
    "# print(type(im[0,0,0]), im.shape)\n",
    "# im = total_mean_maps[0]\n",
    "# # cv2.circle(im, \n",
    "# #            (int(utm[0] - area_x_origin), int(utm[1] - area_y_origin)), \n",
    "# #            15, (255,255,255), -1)\n",
    "# print(type(im[0,0,0]), im.shape)"
   ]
  },
  {
   "cell_type": "code",
   "execution_count": null,
   "metadata": {},
   "outputs": [],
   "source": [
    "plt.imshow(forest_map)\n",
    "mean_maps = cv2.resize(total_mean_maps[0], (forest_map.shape[1], forest_map.shape[0]))\n",
    "alpha_mask = np.where(mean_maps>0, 1.0, 0.0)\n",
    "plt.imshow(mean_maps[::-1], alpha=alpha_mask[::-1]*.4)"
   ]
  },
  {
   "cell_type": "code",
   "execution_count": null,
   "metadata": {},
   "outputs": [],
   "source": [
    "mean_maps.shape"
   ]
  },
  {
   "cell_type": "code",
   "execution_count": null,
   "metadata": {},
   "outputs": [],
   "source": [
    "import matplotlib.cm as cm\n",
    "import matplotlib\n",
    "\n",
    "alpha=1.0\n",
    "\n",
    "save_folder = os.path.join(plot_folder, 'various-centers')\n",
    "os.makedirs(save_folder, exist_ok=True)\n",
    "\n",
    "cmap = cm.seismic\n",
    "for weighted, mean, (date, day_obs) in zip(total_weighted_maps, total_mean_maps, observations.items()):\n",
    "    fig, axs = plt.subplots(1, 2, figsize=(20,7))\n",
    "    camera_utms = get_camera_locations(day_obs, all_camera_utms, exclude=exclude)\n",
    "    print(camera_utms.keys())\n",
    "    for camera, utm in camera_utms.items():\n",
    "        cv2.circle(weighted, (int(utm[0] - area_x_origin), int(utm[1] - area_y_origin)), 15, 800000, -1)\n",
    "        cv2.circle(mean, (int(utm[0] - area_x_origin), int(utm[1] - area_y_origin)), 15, 800000, -1)\n",
    "    axs[0].imshow(forest_map)\n",
    "    weighted = cv2.resize(weighted, (forest_map.shape[1], forest_map.shape[0]))\n",
    "    alpha_mask = np.where(weighted>0, 1.0, 0.0) * alpha\n",
    "    n = axs[0].imshow(weighted[::-1], cmap=cmap, vmin=0, vmax=max_count, alpha=alpha_mask[::-1])\n",
    "    axs[0].set_aspect('equal', adjustable='box')\n",
    "    axs[0].set_xticks([]) \n",
    "    axs[0].set_yticks([]) \n",
    "    axs[0].set_title('Weighted Cameras', fontsize=15)\n",
    "    axs[1].set_aspect('equal', adjustable='box')\n",
    "    axs[1].imshow(forest_map)\n",
    "    mean = cv2.resize(mean, (forest_map.shape[1], forest_map.shape[0]))\n",
    "    alpha_mask = np.where(mean>0, 1.0, 0.0) * alpha\n",
    "    m = axs[1].imshow(mean[::-1], cmap=cmap, vmin=0, vmax=max_count, alpha=alpha_mask[::-1])\n",
    "    axs[1].set_xticks([]) \n",
    "    axs[1].set_yticks([]) \n",
    "    axs[1].set_title('Straight Average', fontsize=15)\n",
    "    norm = matplotlib.colors.Normalize(vmin=0, vmax=max_count)\n",
    "    sm = cm.ScalarMappable(norm=norm, cmap=cmap)\n",
    "    cbar = fig.colorbar(sm)\n",
    "    cbar.set_label('total bats', rotation=270, labelpad=15, fontsize=15)\n",
    "#     l, y=1.05, rotation=0\n",
    "    title = 'total-bats-from-various-centers-map-{}'.format(date)\n",
    "    fig.suptitle(title.replace('-', ' '), size=30)\n",
    "    if should_save:\n",
    "        fig.savefig(os.path.join(save_folder, title + '.png'), bbox_inches='tight')"
   ]
  },
  {
   "cell_type": "code",
   "execution_count": null,
   "metadata": {},
   "outputs": [],
   "source": [
    "center_utm = {'middle': np.array([200450, 8606950]),\n",
    "              'right': np.array([200800, 8606900])}"
   ]
  },
  {
   "cell_type": "code",
   "execution_count": null,
   "metadata": {},
   "outputs": [],
   "source": [
    "center = 'middle'\n",
    "\n",
    "save_folder = os.path.join(plot_folder, 'camera-weighting-diagram')\n",
    "os.makedirs(save_folder, exist_ok=True)\n",
    "\n",
    "def rotate(vec, angle):\n",
    "    new_x = vec[0] * np.cos(angle) - vec[1] * np.sin(angle)\n",
    "    new_y = vec[0] * np.sin(angle) + vec[1] * np.cos(angle)\n",
    "    return np.array([new_x, new_y])\n",
    "\n",
    "import matplotlib.cm as cm\n",
    "\n",
    "for center in ['middle', 'right']:\n",
    "    if center == 'middle':\n",
    "        color = 'r'\n",
    "    elif center == 'right':\n",
    "        color = 'r'\n",
    "    total_angle = 0\n",
    "    \n",
    "    fig, ax = plt.subplots(figsize=(20,20))\n",
    "    ax.imshow(forest_map)\n",
    "\n",
    "    camera_utms = get_camera_locations(observations['17Nov'], all_camera_utms, exclude=True)\n",
    "    camera_border = get_camera_borders(camera_utms, center_utm[center])\n",
    "    \n",
    "    for camera, camera_utm in camera_utms.items():\n",
    "    #     c = cm.viridis((camera_angles[camera] + np.pi)/ (2*np.pi))\n",
    "        camera_plot = forest_map_dataset.index(*camera_utm)\n",
    "        camera_plot = [camera_plot[1], camera_plot[0]]\n",
    "        ax.scatter(*camera_plot, c='w', s=100)\n",
    "        cclock = camera_border[camera]['cclock']\n",
    "        clock = camera_border[camera]['clock']\n",
    "        ax.annotate(camera, camera_plot, fontsize=15, \n",
    "                    xytext=[camera_plot[0], camera_plot[1]-40], \n",
    "                    ha='center', va='top', color='white', \n",
    "                    bbox=dict(boxstyle = \"square\",\n",
    "                      facecolor = \"gray\", alpha=.7))\n",
    "\n",
    "        mid = rotate(np.array(camera_utms[camera])-np.array(center_utm[center]), \n",
    "                     -camera_border[camera]['clock_angle'])\n",
    "        mid = mid + np.array(center_utm[center])\n",
    "        mid_plot = forest_map_dataset.index(*mid)\n",
    "        mid_plot = [mid_plot[1], mid_plot[0]]\n",
    "        center_plot = forest_map_dataset.index(*center_utm[center])\n",
    "        center_plot = [center_plot[1], center_plot[0]]\n",
    "        ax.plot([mid_plot[0], center_plot[0]], [mid_plot[1], center_plot[1]], c=color)\n",
    "\n",
    "        mid = rotate(np.array(camera_utms[camera])-np.array(center_utm[center]), \n",
    "                     -camera_border[camera]['cclock_angle'])\n",
    "        mid = mid + np.array(center_utm[center])\n",
    "        mid_plot = forest_map_dataset.index(*mid)\n",
    "        mid_plot = [mid_plot[1], mid_plot[0]]\n",
    "        ax.plot([mid_plot[0], center_plot[0]], [mid_plot[1], center_plot[1]], c=color)\n",
    "    #     ax.scatter(*(mid + np.array(center_utm)), c='r', s=50)\n",
    "        ax.set_aspect('equal', adjustable='box')\n",
    "        ax.get_xaxis().set_visible(False)\n",
    "        ax.get_yaxis().set_visible(False)\n",
    "    #     ax.set_xlabel('Meters (UTM)', fontsize=15)\n",
    "    #     ax.set_ylabel('Meters (UTM)', fontsize=15)\n",
    "\n",
    "        total_angle += -camera_border[camera]['cclock_angle']\n",
    "        total_angle += camera_border[camera]['clock_angle']\n",
    "    print(total_angle / np.pi)\n",
    "    ax.scatter(*center_plot, s=100, c='r')\n",
    "    ax.set_aspect('equal', adjustable='box')\n",
    "    title = 'camera-weighting-center-{}'.format(center)\n",
    "    ax.set_title(title.replace('-', ' '), size=30)\n",
    "    if should_save:\n",
    "        fig.savefig(os.path.join(save_folder, title + '.png'), bbox_inches='tight')"
   ]
  },
  {
   "cell_type": "code",
   "execution_count": null,
   "metadata": {},
   "outputs": [],
   "source": [
    "center = 'middle'\n",
    "for day_ind, (date, day) in enumerate(observations.items()):\n",
    "    if not day:\n",
    "        continue\n",
    "        \n",
    "    print('--')\n",
    "    for cd in [True, False]:\n",
    "        day_total, day_total_mean = get_day_total(day, center_utm[center], all_camera_utms, \n",
    "                                                  FRAME_WIDTH, WINGSPAN, exclude=exclude,\n",
    "                                                  correct_darkness=cd\n",
    "                                                 )\n",
    "        print(day_total)\n",
    "        "
   ]
  },
  {
   "cell_type": "code",
   "execution_count": null,
   "metadata": {},
   "outputs": [],
   "source": [
    "for center in ['middle', 'right']:\n",
    "\n",
    "    save_folder = os.path.join(plot_folder, 'center-summary-figure')\n",
    "    os.makedirs(save_folder, exist_ok=True)\n",
    "\n",
    "    fig, axs = plt.subplots(len(observations), 3, figsize=(20, 6*len(observations)), \n",
    "                            subplot_kw=dict(polar=True))\n",
    "\n",
    "    max_bats_per_degree = 0\n",
    "    max_bats_per_camera = 0\n",
    "\n",
    "    for day_ind, (date, day) in enumerate(observations.items()):\n",
    "        if not day:\n",
    "            continue\n",
    "        day_total, day_total_mean = get_day_total(day, center_utm[center], all_camera_utms, \n",
    "                                                  FRAME_WIDTH, WINGSPAN, exclude=exclude,\n",
    "                                                  correct_darkness=True\n",
    "                                                 )\n",
    "        fractions = []\n",
    "        cameras = []\n",
    "        totals = []\n",
    "        contribution = []\n",
    "        angles = []\n",
    "\n",
    "        camera_angles = get_camera_angles(all_camera_utms, center_utm[center])\n",
    "        for camera, obs in day.items():\n",
    "            if exclude:\n",
    "                if 'exclude' in obs.keys():\n",
    "                    continue\n",
    "            fractions.append(obs['fraction_total'])\n",
    "            cameras.append(camera)\n",
    "            totals.append(obs['total_darkness']/360)\n",
    "            contribution.append(obs['total_darkness'] * obs['fraction_total'])\n",
    "            angles.append(camera_angles[camera])\n",
    "\n",
    "        max_bats_per_degree_day = np.max(totals)\n",
    "        if max_bats_per_degree_day > max_bats_per_degree:\n",
    "            max_bats_per_degree = max_bats_per_degree_day\n",
    "        max_bats_per_camera_day = np.max(contribution)\n",
    "        if max_bats_per_camera_day > max_bats_per_camera:\n",
    "            max_bats_per_camera = max_bats_per_camera_day\n",
    "\n",
    "        # fractions = [f for _,f in sorted(zip(angles,fractions))]\n",
    "        frac_ind = 2\n",
    "        axs[day_ind, frac_ind].set_thetalim(-np.pi, np.pi)\n",
    "        axs[day_ind, frac_ind].scatter(angles, fractions, s=30)\n",
    "        axs[day_ind, frac_ind].set_xticks(angles)\n",
    "        _ = axs[day_ind, frac_ind].set_xticklabels(cameras)\n",
    "        axs[day_ind, frac_ind].set_title('Fraction', size='x-large')\n",
    "\n",
    "        total_ind = 1\n",
    "        axs[day_ind, total_ind].set_thetalim(-np.pi, np.pi)\n",
    "        axs[day_ind, total_ind].scatter(angles, totals, s=30)\n",
    "        axs[day_ind, total_ind].set_xticks(angles)\n",
    "        _ = axs[day_ind, total_ind].set_xticklabels(cameras)\n",
    "        axs[day_ind, total_ind].set_title('Bats per degree', size='x-large')\n",
    "\n",
    "        contrib_ind = 0\n",
    "        axs[day_ind, contrib_ind].set_thetalim(-np.pi, np.pi)\n",
    "        axs[day_ind, contrib_ind].scatter(angles, contribution, s=30)\n",
    "        axs[day_ind, contrib_ind].set_xticks(angles)\n",
    "        _ = axs[day_ind, contrib_ind].set_xticklabels(cameras)\n",
    "        axs[day_ind, contrib_ind].set_title('Bats from camera', size='x-large')\n",
    "\n",
    "        pad = 60\n",
    "        left_label = f'{date} \\n {int(np.sum(contribution)):,} bats'\n",
    "        axs[day_ind,0].annotate(left_label, xy=(0, 0.5), \n",
    "                                xytext=(-axs[day_ind,0].yaxis.labelpad - pad, 0),\n",
    "                                xycoords=axs[day_ind,0].yaxis.label, \n",
    "                                textcoords='offset points',\n",
    "                                size='xx-large', ha='right', va='center'\n",
    "                               )\n",
    "    for day_ind, (date, day) in enumerate(observations.items()):\n",
    "        axs[day_ind, contrib_ind].set_rlim(0, max_bats_per_camera)\n",
    "        axs[day_ind, total_ind].set_rlim(0, max_bats_per_degree)\n",
    "\n",
    "    title = f'summary-for-center-{center}'\n",
    "    fig.suptitle(title.replace('-', ' '), size=30, va='center')\n",
    "    if should_save:\n",
    "        fig.savefig(os.path.join(save_folder, title + '.png'), bbox_inches='tight')"
   ]
  },
  {
   "cell_type": "code",
   "execution_count": null,
   "metadata": {},
   "outputs": [],
   "source": [
    "axis_labels_day_ind = 0\n",
    "\n",
    "for center in ['middle', 'right'][:]:\n",
    "\n",
    "    save_folder = os.path.join(plot_folder, 'center-summary-figure')\n",
    "    os.makedirs(save_folder, exist_ok=True)\n",
    "\n",
    "    fig, axs = plt.subplots(1, 3, figsize=(20, 6), \n",
    "                            subplot_kw=dict(polar=True))\n",
    "\n",
    "    max_bats_per_degree = 0\n",
    "    max_bats_per_camera = 0\n",
    "\n",
    "    for day_ind, (date, day) in enumerate(observations.items()):\n",
    "        if not day:\n",
    "            continue\n",
    "        day_total, day_total_mean = get_day_total(day, center_utm[center], all_camera_utms, \n",
    "                                                  FRAME_WIDTH, WINGSPAN, exclude=exclude)\n",
    "        fractions = []\n",
    "        cameras = []\n",
    "        totals = []\n",
    "        contribution = []\n",
    "        angles = []\n",
    "        \n",
    "        camera_angles = get_camera_angles(all_camera_utms, center_utm[center])\n",
    "        for camera, obs in day.items():\n",
    "            if exclude:\n",
    "                if 'exclude' in obs.keys():\n",
    "                    continue\n",
    "            fractions.append(obs['fraction_total'])\n",
    "            cameras.append(camera)\n",
    "            totals.append(obs['total']/360)\n",
    "            contribution.append(obs['total'] * obs['fraction_total'])\n",
    "            angles.append(camera_angles[camera])\n",
    "\n",
    "        max_bats_per_degree_day = np.max(totals)\n",
    "        if max_bats_per_degree_day > max_bats_per_degree:\n",
    "            max_bats_per_degree = max_bats_per_degree_day\n",
    "        max_bats_per_camera_day = np.max(contribution)\n",
    "        if max_bats_per_camera_day > max_bats_per_camera:\n",
    "            max_bats_per_camera = max_bats_per_camera_day\n",
    "\n",
    "        # fractions = [f for _,f in sorted(zip(angles,fractions))]\n",
    "        frac_ind = 2\n",
    "        axs[frac_ind].set_thetalim(-np.pi, np.pi)\n",
    "        axs[frac_ind].scatter(angles, fractions, s=30)\n",
    "        if axis_labels_day_ind ==day_ind:\n",
    "            axs[frac_ind].set_xticks(angles)\n",
    "            _ = axs[frac_ind].set_xticklabels(cameras)\n",
    "            axs[frac_ind].set_title('Fraction', size='x-large')\n",
    "\n",
    "        total_ind = 1\n",
    "        axs[total_ind].set_thetalim(-np.pi, np.pi)\n",
    "        axs[total_ind].scatter(angles, totals, s=30)\n",
    "        if axis_labels_day_ind ==day_ind:\n",
    "            axs[total_ind].set_xticks(angles)\n",
    "            _ = axs[total_ind].set_xticklabels(cameras)\n",
    "            axs[total_ind].set_title('Bats per degree', size='x-large')\n",
    "\n",
    "        contrib_ind = 0\n",
    "        axs[contrib_ind].set_thetalim(-np.pi, np.pi)\n",
    "        axs[contrib_ind].scatter(angles, contribution, s=30)\n",
    "        if axis_labels_day_ind ==day_ind:\n",
    "            axs[contrib_ind].set_xticks(angles)\n",
    "            _ = axs[contrib_ind].set_xticklabels(cameras)\n",
    "            axs[contrib_ind].set_title('Bats from camera', size='x-large')\n",
    "\n",
    "        pad = 60\n",
    "#         left_label = f'{date} \\n {int(np.sum(contribution)):,} bats'\n",
    "#         axs[day_ind,0].annotate(left_label, xy=(0, 0.5), \n",
    "#                                 xytext=(-axs[day_ind,0].yaxis.labelpad - pad, 0),\n",
    "#                                 xycoords=axs[day_ind,0].yaxis.label, \n",
    "#                                 textcoords='offset points',\n",
    "#                                 size='xx-large', ha='right', va='center'\n",
    "#                                )\n",
    "    for day_ind, (date, day) in enumerate(observations.items()):\n",
    "        axs[contrib_ind].set_rlim(0, max_bats_per_camera * 1.1)\n",
    "        axs[total_ind].set_rlim(0, max_bats_per_degree * 1.1)\n",
    "\n",
    "    title = f'summary-for-days-combined-center-{center}'\n",
    "    fig.suptitle(title.replace('-', ' '), size=30, va='center')\n",
    "    if should_save:\n",
    "        fig.savefig(os.path.join(save_folder, title + '.png'), bbox_inches='tight')"
   ]
  },
  {
   "cell_type": "code",
   "execution_count": null,
   "metadata": {},
   "outputs": [],
   "source": [
    "30.24, -12.6\n"
   ]
  },
  {
   "cell_type": "code",
   "execution_count": null,
   "metadata": {},
   "outputs": [],
   "source": [
    "sorted(angles)"
   ]
  },
  {
   "cell_type": "code",
   "execution_count": null,
   "metadata": {},
   "outputs": [],
   "source": [
    "for camera, utm in all_camera_utms.items():\n",
    "    cv2.circle(big_total_mean, (int(utm[0] - area_x_origin), int(utm[1] - area_y_origin)), 5, 800000, -1)"
   ]
  },
  {
   "cell_type": "code",
   "execution_count": null,
   "metadata": {},
   "outputs": [],
   "source": [
    "from scipy.stats import vonmises"
   ]
  },
  {
   "cell_type": "code",
   "execution_count": null,
   "metadata": {},
   "outputs": [],
   "source": [
    "data = np.zeros(1000)\n",
    "data[:250] = -.5\n",
    "data[250:500] = .5\n",
    "# data[:500] = 0\n",
    "data[500:750] = -1.0\n",
    "data[750:] = 1.0\n",
    "\n",
    "# data[:500] = .5\n",
    "# data[500:] = .3"
   ]
  },
  {
   "cell_type": "code",
   "execution_count": null,
   "metadata": {},
   "outputs": [],
   "source": [
    "\n",
    "kappa, loc, scale = vonmises.fit(data, fscale=1)\n",
    "rv = vonmises(kappa, loc=loc)\n",
    "x = np.linspace(rv.ppf(0.01),\n",
    "                rv.ppf(0.99), 100)\n",
    "plt.plot(x, rv.pdf(x), 'k-', lw=2, label='frozen pdf')\n",
    "plt.hist(data, density=True, histtype='stepfilled', alpha=0.2)\n",
    "print(kappa)\n",
    "# mean, var, skew, kurt = vonmises.stats(kappa, moments='mvsk')\n",
    "# kappa = 0.1\n",
    "# r = vonmises.rvs(kappa, size=10, scale = 1)\n",
    "# plt.hist(r,alpha=0.2)\n"
   ]
  },
  {
   "cell_type": "code",
   "execution_count": null,
   "metadata": {},
   "outputs": [],
   "source": [
    "camera_utms"
   ]
  },
  {
   "cell_type": "code",
   "execution_count": null,
   "metadata": {},
   "outputs": [],
   "source": [
    "camera_utms = {}\n",
    "for camera, obs in observations['17Nov'].items():\n",
    "    camera_utms[obs['camera']] = all_camera_utms[obs['camera']]\n",
    "\n",
    "center_utm = np.array([200800, 8606900])\n"
   ]
  },
  {
   "cell_type": "code",
   "execution_count": null,
   "metadata": {},
   "outputs": [],
   "source": []
  },
  {
   "cell_type": "code",
   "execution_count": null,
   "metadata": {},
   "outputs": [],
   "source": [
    "camera_border"
   ]
  },
  {
   "cell_type": "code",
   "execution_count": null,
   "metadata": {},
   "outputs": [],
   "source": [
    "num_cameras = None"
   ]
  },
  {
   "cell_type": "code",
   "execution_count": null,
   "metadata": {},
   "outputs": [],
   "source": [
    "bms = []\n",
    "for obs in observations['17Nov'].values():\n",
    "    obs['multiplier'] = combined_bat_multiplier(FRAME_WIDTH, WINGSPAN, obs['mean_wing'], camera_distances[obs['camera']])\n",
    "    print(np.sum(obs['multiplier'] * obs['direction']))"
   ]
  },
  {
   "cell_type": "code",
   "execution_count": null,
   "metadata": {},
   "outputs": [],
   "source": [
    "for obs in "
   ]
  },
  {
   "cell_type": "code",
   "execution_count": null,
   "metadata": {},
   "outputs": [],
   "source": [
    "frac_sum = 0\n",
    "al = []\n",
    "for days in observations.values():\n",
    "    total = 0\n",
    "    frac_sum = 0\n",
    "    al = []\n",
    "    for obs in days.values():\n",
    "        angle = -camera_border[obs['camera']]['cclock_angle'] + camera_border[obs['camera']]['clock_angle']\n",
    "        frac = angle / (np.pi * 2)\n",
    "        frac_sum += frac\n",
    "        obs_total = np.sum(obs['multiplier'] * obs['direction'])\n",
    "        total += obs_total * frac\n",
    "        al.append(obs_total)\n",
    "    print(total, 'total weighted')\n",
    "    print(frac_sum, 'frac sum')\n",
    "    print(np.mean(al), 'total mean')\n"
   ]
  },
  {
   "cell_type": "code",
   "execution_count": null,
   "metadata": {},
   "outputs": [],
   "source": [
    "observations['20Nov']['MusolePath']\n"
   ]
  },
  {
   "cell_type": "code",
   "execution_count": null,
   "metadata": {},
   "outputs": [],
   "source": [
    "cols = 5\n",
    "fig, axs = plt.subplots(cols, 2, figsize=(20,20), sharey=True)\n",
    "days_sums = []\n",
    "day_camera_num = []\n",
    "for day in observations.values():\n",
    "    days_sums.append([])\n",
    "    day_camera_num.append([])\n",
    "    for obs_ind, obs in enumerate(day.values()): \n",
    "        axs[obs_ind%cols, obs_ind//cols].set_title(obs['camera'])\n",
    "    #     ax.plot(np.cumsum(obs['bats_raw_array']))\n",
    "        axs[obs_ind%cols, obs_ind//cols].scatter(\n",
    "            0, np.cumsum(obs['total_unscaled']), s=30, label=obs['date'])\n",
    "        axs[obs_ind%cols, obs_ind//cols].yaxis.set_major_formatter(\n",
    "            mpl.ticker.StrMethodFormatter('{x:,.0f}'))\n",
    "        axs[obs_ind%cols, obs_ind//cols].legend()\n",
    "#         if len(obs['passing_bats_scaled']) > 0:\n",
    "#             days_sums[-1].append(np.cumsum(obs['passing_bats_scaled'])[-1])\n",
    "#             day_camera_num.append(1)"
   ]
  },
  {
   "cell_type": "code",
   "execution_count": null,
   "metadata": {},
   "outputs": [],
   "source": [
    "for d in days_sums:\n",
    "    if d:\n",
    "        print(np.mean(d))"
   ]
  },
  {
   "cell_type": "code",
   "execution_count": null,
   "metadata": {},
   "outputs": [],
   "source": [
    "for d in days_sums:\n",
    "    if d:\n",
    "        print(np.mean(d))"
   ]
  },
  {
   "cell_type": "code",
   "execution_count": null,
   "metadata": {},
   "outputs": [],
   "source": []
  },
  {
   "cell_type": "code",
   "execution_count": null,
   "metadata": {},
   "outputs": [],
   "source": [
    "def cross_angle(vec1, vec2):\n",
    "    uvec1 = vec1 / np.linalg.norm(vec1)\n",
    "    uvec2 = vec2 / np.linalg.norm(vec2)\n",
    "    dot_product = np.cross(uvec1, uvec2)\n",
    "    return np.arcsin(dot_product)\n",
    "\n",
    "def angle(vec1, vec2):\n",
    "    uvec1 = vec1 / np.linalg.norm(vec1)\n",
    "    uvec2 = vec2 / np.linalg.norm(vec2)\n",
    "    dot_product = np.dot(uvec1, uvec2)\n",
    "    return np.arccos(dot_product)"
   ]
  },
  {
   "cell_type": "code",
   "execution_count": null,
   "metadata": {},
   "outputs": [],
   "source": [
    "center_utm = utm.from_latlon(*center)\n",
    "center_utm = [center_utm[0], center_utm[1]]"
   ]
  },
  {
   "cell_type": "code",
   "execution_count": null,
   "metadata": {},
   "outputs": [],
   "source": []
  },
  {
   "cell_type": "code",
   "execution_count": null,
   "metadata": {},
   "outputs": [],
   "source": [
    "x = [1, 1]\n",
    "y = [-1,-.5]\n",
    "print(angle(x, y) * 180 / np.pi)\n",
    "print(cross_angle(y, x) * 180 / np.pi)"
   ]
  },
  {
   "cell_type": "code",
   "execution_count": null,
   "metadata": {},
   "outputs": [],
   "source": []
  },
  {
   "cell_type": "code",
   "execution_count": null,
   "metadata": {},
   "outputs": [],
   "source": []
  },
  {
   "cell_type": "code",
   "execution_count": null,
   "metadata": {},
   "outputs": [],
   "source": [
    "import matplotlib.cm as cm\n",
    "fig, ax = plt.subplots()\n",
    "\n",
    "for camera, camera_utm in camera_utms.items():\n",
    "    c = cm.viridis((camera_angles[camera] + np.pi)/ (2*np.pi))\n",
    "    ax.scatter(*camera_utm, c=[c])\n",
    "    ax.annotate(camera, camera_utm)"
   ]
  },
  {
   "cell_type": "code",
   "execution_count": null,
   "metadata": {},
   "outputs": [],
   "source": [
    "\n",
    "        "
   ]
  },
  {
   "cell_type": "code",
   "execution_count": null,
   "metadata": {},
   "outputs": [],
   "source": [
    "camera_border"
   ]
  },
  {
   "cell_type": "code",
   "execution_count": null,
   "metadata": {},
   "outputs": [],
   "source": []
  },
  {
   "cell_type": "code",
   "execution_count": null,
   "metadata": {},
   "outputs": [],
   "source": []
  },
  {
   "cell_type": "code",
   "execution_count": null,
   "metadata": {},
   "outputs": [],
   "source": [
    "camera_border['Sunset']"
   ]
  },
  {
   "cell_type": "code",
   "execution_count": null,
   "metadata": {},
   "outputs": [],
   "source": [
    "\n",
    "\n",
    "processed_folder = '.../kasanka-bats/processed/deep-learning/19Nov'\n",
    "track_files = sorted(glob.glob(os.path.join(processed_folder, '*/raw_tracks.npy')))\n",
    "positions_files = sorted(glob.glob(os.path.join(processed_folder, '*/centers.npy')))\n",
    "\n",
    "size_error_list = [0]\n",
    "wing_error_list = [0]\n",
    "with_multiplier= True\n",
    "\n",
    "num_cameras = 1\n",
    "\n",
    "observations = {}\n",
    "\n",
    "for track_file, pos_file in zip(track_files[:num_cameras], positions_files[:num_cameras]):\n",
    "\n",
    "    \n",
    "\n",
    "    raw_track_list = np.load(track_file, allow_pickle=True)\n",
    "    positions = np.load(pos_file, allow_pickle=True)\n",
    "    num_frames = positions.shape[0]\n",
    "    camera = track_file.split('/')[-2]\n",
    "    \n",
    "    obs = {'date': track_file.split('/')[-3],\n",
    "           'camera': camera,\n",
    "           'passing_bats_raw': np.zeros(num_frames),\n",
    "           'passing_bats_scaled': np.zeros(num_frames)\n",
    "          }\n",
    "\n",
    "    tracks_list = threshold_short_tracks(raw_track_list, min_length_threshold=2)\n",
    "    crossing_tracks_list = measure_crossing_bats(tracks_list, num_frames, frame_height, with_rects=with_multiplier)\n",
    "\n",
    "    total_bats = 0\n",
    "\n",
    "    for track in crossing_tracks_list:\n",
    "        if with_multiplier:\n",
    "            bat_multiplier = combined_bat_multiplier(FRAME_WIDTH, WINGSPAN, track['mean_wing'], camera_distances[camera])\n",
    "        if track['crossed'] > 0:\n",
    "            if with_multiplier:\n",
    "                total_bats += bat_multiplier\n",
    "            obs['passing_bats_raw'][track['crossed']] += 1\n",
    "            if with_multiplier:\n",
    "                obs['passing_bats_scaled'][track['crossed']] += bat_multiplier\n",
    "        \n",
    "        if track['crossed'] < 0:\n",
    "            if with_multiplier:\n",
    "                total_bats -= bat_multiplier \n",
    "            obs['passing_bats_raw'][-track['crossed']] -= 1\n",
    "            if with_multiplier:\n",
    "                obs['passing_bats_scaled'][-track['crossed']] -= bat_multiplier\n",
    "    print(total_bats, camera)\n",
    "    \n",
    "    obs['frames'] = np.argwhere(obs['passing_bats_raw'] != 0)\n",
    "    obs['passing_bats_raw'] = obs['passing_bats_raw'][obs['frames']]\n",
    "    obs['passing_bats_scaled'] = obs['passing_bats_scaled'][obs['frames']]\n",
    "    observations.append(obs)\n",
    "    \n",
    "for obs in observations:\n",
    "#     plt.figure()\n",
    "    fig, ax = plt.subplots(1,1)\n",
    "    ax.set_title(obs['camera'])\n",
    "#     ax.plot(np.cumsum(obs['bats_raw_array']))\n",
    "    ax.scatter(obs['frames'], np.cumsum(obs['passing_bats_scaled']), s=1)\n",
    "    ax.yaxis.set_major_formatter(mpl.ticker.StrMethodFormatter('{x:,.0f}'))"
   ]
  },
  {
   "cell_type": "code",
   "execution_count": null,
   "metadata": {},
   "outputs": [],
   "source": [
    "for obs in observations:\n",
    "#     plt.figure()\n",
    "    fig, ax = plt.subplots(1,1)\n",
    "    ax.set_title(obs['camera'])\n",
    "#     ax.plot(np.cumsum(obs['bats_raw_array']))\n",
    "    ax.scatter(obs['frames'], np.cumsum(obs['passing_bats_scaled']), s=1)\n",
    "    ax.yaxis.set_major_formatter(mpl.ticker.StrMethodFormatter('{x:,.0f}'))"
   ]
  },
  {
   "cell_type": "code",
   "execution_count": null,
   "metadata": {},
   "outputs": [],
   "source": [
    "plt.plot(np.cumsum(cross))\n",
    "plt.figure()\n",
    "plt.plot(inds, np.cumsum(vals))"
   ]
  },
  {
   "cell_type": "code",
   "execution_count": null,
   "metadata": {},
   "outputs": [],
   "source": [
    "processed_folder = '.../Elements/bats/processed' \n",
    "\n",
    "track_files = sorted(glob.glob(os.path.join(processed_folder, '*/raw_tracks.npy')))\n",
    "positions_files = sorted(glob.glob(os.path.join(processed_folder, '*/centers.npy')))\n",
    "num_observations = None\n",
    "\n",
    "observation_names = []\n",
    "observations = {}\n",
    "for track_file, pos_file in zip(track_files[0:num_observations], positions_files[0:num_observations]):\n",
    "    observation_name = track_file.split('/')[-2]\n",
    "    \n",
    "#     if name in list(observations.keys()):\n",
    "#         print(observations[name]['frames_in_prev_clips'])\n",
    "        \n",
    "#         tracks = np.load(track_file, allow_pickle=True)\n",
    "#         print(len(tracks))\n",
    "#         positions_file = os.path.join(os.path.dirname(track_file), 'positions.npy')\n",
    "#         if os.path.exists(positions_file):\n",
    "#             positions = np.load(positions_file, allow_pickle=True)\n",
    "#         else:\n",
    "#             print('{} doesn\\'t have positions file. Skipping.'.format(name))\n",
    "# #         for track in tracks:\n",
    "# #             track['first_frame'] += observations[name]['frames_in_prev_clips']\n",
    "# #             track['last_frame'] += observations[name]['frames_in_prev_clips']\n",
    "            \n",
    "#         observations[name]['frames_in_prev_clips'] += len(positions)\n",
    "#         observations[name]['tracks'] = np.concatenate((observations[name]['tracks'], \n",
    "#                                                       tracks))\n",
    "#         observations[name]['positions']= np.concatenate((observations[name]['positions'],\n",
    "#                                                         positions))\n",
    "#         observations[name]['files'].append(track_file)\n",
    "        \n",
    "        \n",
    "#     else:\n",
    "    tracks = np.load(track_file, allow_pickle=True)\n",
    "#     positions_file = os.path.join(os.path.dirname(track_file), 'positions.npy')\n",
    "#     position_files = sorted(glob.glob(os.path.join(processed_folder, observation_name, '*/positions-final.npy')))\n",
    "#     positions = np.concatenate([np.load(file, allow_pickle=True) for file in position_files]) \n",
    "    positions = np.load(pos_file, allow_pickle=True)\n",
    "    obs_dict = {'tracks': tracks,\n",
    "                'files': [track_file], \n",
    "                'positions': positions,\n",
    "                'frames_in_prev_clips': len(positions),\n",
    "                'name': observation_name}\n",
    "    observations[observation_name] = obs_dict\n",
    "    observation_names.append(observation_name)\n",
    "    print(observation_name, observations[observation_name]['positions'].shape)"
   ]
  },
  {
   "cell_type": "code",
   "execution_count": null,
   "metadata": {},
   "outputs": [],
   "source": []
  },
  {
   "cell_type": "code",
   "execution_count": null,
   "metadata": {},
   "outputs": [],
   "source": [
    "size_error_list = [0]\n",
    "wing_error_list = [0]\n",
    "with_multiplier= True\n",
    "\n",
    "\n",
    "    \n",
    "\n",
    "for camera in observations.keys():\n",
    "# for camera in ['Sunset']:\n",
    "\n",
    "    obs = observations[camera]\n",
    "\n",
    "    raw_track_list = obs['tracks']\n",
    "    num_frames = obs['positions'].shape[0]\n",
    "    \n",
    "    bats_raw_array = np.zeros(num_frames)\n",
    "    bats_scaled_array = np.zeros(num_frames)\n",
    "\n",
    "            \n",
    "#     error = np.ones((len(size_error_list), len(wing_error_list), num_frames))\n",
    "    \n",
    "    frames_in_prev_clips = obs['frames_in_prev_clips']\n",
    "\n",
    "    tracks_list = threshold_short_tracks(raw_track_list, min_length_threshold=2)\n",
    "    crossing_tracks_list = measure_crossing_bats(tracks_list, num_frames, frame_height, with_rects=with_multiplier)\n",
    "\n",
    "    total_bats = 0\n",
    "\n",
    "    # for wing_width_pixels in forward_mean_wing:\n",
    "    for track in crossing_tracks_list:\n",
    "#         for size_error_ind, size_error in enumerate(size_error_list):\n",
    "#     for wing_error_ind, wing_error in enumerate(wing_error_list):\n",
    "#         height = calculate_height(track['mean_wing'], HCONST, WINGSPAN)\n",
    "#         height += size_error\n",
    "#         height = np.max(height, 0)\n",
    "#         if np.isnan(height):\n",
    "#             print(wing_width_pixels)\n",
    "#         bat_multiplier = calculate_bat_multiplier(height, HFOV, camera_distances[camera])\n",
    "        if with_multiplier:\n",
    "            bat_multiplier = combined_bat_multiplier(FRAME_WIDTH, WINGSPAN, track['mean_wing'], camera_distances[camera])\n",
    "        if track['crossed'] > 0:\n",
    "            if with_multiplier:\n",
    "                total_bats += bat_multiplier\n",
    "            obs['bats_raw_array'][track['crossed']] += 1\n",
    "#             obs['bats_scaled_array'][track['crossed']] += bat_multiplier\n",
    "            if with_multiplier:\n",
    "                obs['bats_new_scaled_array'][track['crossed']] += bat_multiplier\n",
    "#             error[size_error_ind, wing_error_ind, track['crossed']] += bat_multiplier\n",
    "        \n",
    "        if track['crossed'] < 0:\n",
    "            if with_multiplier:\n",
    "                total_bats -= bat_multiplier \n",
    "            obs['bats_raw_array'][-track['crossed']] -= 1\n",
    "#             obs['bats_scaled_array'][-track['crossed']] -= bat_multiplier\n",
    "            if with_multiplier:\n",
    "                obs['bats_new_scaled_array'][-track['crossed']] -= bat_multiplier\n",
    "#             error[size_error_ind, wing_error_ind, -track['crossed']] += -bat_multiplier\n",
    "    print(total_bats, camera)"
   ]
  },
  {
   "cell_type": "code",
   "execution_count": null,
   "metadata": {},
   "outputs": [],
   "source": [
    "import matplotlib as mpl\n",
    "for obs in observations.values():\n",
    "#     plt.figure()\n",
    "    fig, ax = plt.subplots(1,1)\n",
    "    ax.set_title(obs['name'])\n",
    "#     ax.plot(np.cumsum(obs['bats_raw_array']))\n",
    "    ax.plot(np.cumsum(obs['bats_new_scaled_array']))\n",
    "    ax.yaxis.set_major_formatter(mpl.ticker.StrMethodFormatter('{x:,.0f}'))"
   ]
  },
  {
   "cell_type": "code",
   "execution_count": null,
   "metadata": {},
   "outputs": [],
   "source": [
    "root_frame_folder = \".../Elements/bats/16Nov\"\n",
    "observation_name = \"Sunset\"\n",
    "\n",
    "frame_files = sorted(glob.glob(os.path.join(root_frame_folder, observation_name, \"*/*.jpg\")))\n"
   ]
  },
  {
   "cell_type": "code",
   "execution_count": null,
   "metadata": {},
   "outputs": [],
   "source": []
  },
  {
   "cell_type": "code",
   "execution_count": null,
   "metadata": {},
   "outputs": [],
   "source": [
    "frame_ind = 20001\n",
    "frame = cv2.imread(frame_files[frame_ind])\n",
    "frame = cv2.cvtColor(frame, cv2.COLOR_BGR2RGB)\n",
    "draw_tracks_on_frame(frame, frame_ind, \n",
    "                     observations[observation_name]['tracks'], \n",
    "                     observations[observation_name]['positions'],\n",
    "                     draw_whole_track=False)"
   ]
  },
  {
   "cell_type": "code",
   "execution_count": null,
   "metadata": {},
   "outputs": [],
   "source": [
    "\n"
   ]
  },
  {
   "cell_type": "code",
   "execution_count": null,
   "metadata": {},
   "outputs": [],
   "source": [
    "\n",
    "    \n"
   ]
  },
  {
   "cell_type": "code",
   "execution_count": null,
   "metadata": {},
   "outputs": [],
   "source": []
  },
  {
   "cell_type": "code",
   "execution_count": null,
   "metadata": {},
   "outputs": [],
   "source": [
    "print('number of tracks without min threshold' , len(raw_track_list))\n",
    "\n",
    "\n",
    "    \n",
    "plt.hist(track_lengths, bins=100)\n",
    "plt.show()\n",
    "print('number of tracks above min threshold' , len(track_lengths))"
   ]
  },
  {
   "cell_type": "code",
   "execution_count": null,
   "metadata": {},
   "outputs": [],
   "source": [
    "\n",
    "\n"
   ]
  },
  {
   "cell_type": "code",
   "execution_count": null,
   "metadata": {},
   "outputs": [],
   "source": []
  },
  {
   "cell_type": "code",
   "execution_count": null,
   "metadata": {},
   "outputs": [],
   "source": [
    "\n"
   ]
  },
  {
   "cell_type": "code",
   "execution_count": null,
   "metadata": {},
   "outputs": [],
   "source": [
    "# D_CHYNIANGALE = 306.0099 # meters\n",
    "# D_PUKU = 383\n",
    "# D_FIBWE_PARKING = 1002\n",
    "# D_SUNSET = 448\n",
    "# D_NOT_CHYNIANGALE = 266\n",
    "# D_MUSOLE_PARKING = 408\n",
    "# D_MUSOLE_PATH = 185\n",
    "# D_FIBWE_PUBLIC = 1024\n",
    "# D_MUSOLE_TOWER = 256\n"
   ]
  },
  {
   "cell_type": "code",
   "execution_count": null,
   "metadata": {},
   "outputs": [],
   "source": [
    "print(observations.keys())\n"
   ]
  },
  {
   "cell_type": "code",
   "execution_count": null,
   "metadata": {},
   "outputs": [],
   "source": []
  },
  {
   "cell_type": "code",
   "execution_count": null,
   "metadata": {},
   "outputs": [],
   "source": [
    "observations['BBC'].keys()"
   ]
  },
  {
   "cell_type": "code",
   "execution_count": null,
   "metadata": {},
   "outputs": [],
   "source": [
    "# r = []\n",
    "# for c in track['contour']:\n",
    "#     if len(c.shape) >  1:\n",
    "#         rect = cv2.minAreaRect(c)\n",
    "#         r.append(rect[1])\n",
    "#     else:\n",
    "#         r.append((np.nan, np.nan))\n",
    "# r = np.array(r)    "
   ]
  },
  {
   "cell_type": "code",
   "execution_count": null,
   "metadata": {},
   "outputs": [],
   "source": [
    "# np.array(r).shape"
   ]
  },
  {
   "cell_type": "code",
   "execution_count": null,
   "metadata": {},
   "outputs": [],
   "source": [
    "# max_edge = np.nanmax(r, 1)\n",
    "# print(max_edge)"
   ]
  },
  {
   "cell_type": "code",
   "execution_count": null,
   "metadata": {},
   "outputs": [],
   "source": []
  },
  {
   "cell_type": "code",
   "execution_count": null,
   "metadata": {},
   "outputs": [],
   "source": [
    "sorted(glob.glob('.../kasanka-bats/gopros/17Nov/card-g/*.MP4'))"
   ]
  },
  {
   "cell_type": "code",
   "execution_count": null,
   "metadata": {},
   "outputs": [],
   "source": [
    "sorted(glob.glob('.../kasanka-bats/processed/17Nov/*/GH062505*'))"
   ]
  },
  {
   "cell_type": "code",
   "execution_count": null,
   "metadata": {},
   "outputs": [],
   "source": []
  },
  {
   "cell_type": "code",
   "execution_count": null,
   "metadata": {},
   "outputs": [],
   "source": [
    "for obs in observations.values():\n",
    "    plt.figure()\n",
    "    plt.title(obs['name'])\n",
    "    plt.plot(np.cumsum(obs['bats_scaled_array']))\n",
    "    plt.plot(np.cumsum(obs['bats_new_scaled_array']))"
   ]
  },
  {
   "cell_type": "code",
   "execution_count": null,
   "metadata": {},
   "outputs": [],
   "source": [
    "bat_wingspan = np.array([[.819, .810, .792, .8063, np.nan],\n",
    "          [.794, .817, .804, .760, .803],\n",
    "          [.755, .775, .769, .754, .784],\n",
    "          [.906, .882, .885, .902, .878],\n",
    "          [.828, .813, .834, .842, .828]])"
   ]
  },
  {
   "cell_type": "code",
   "execution_count": null,
   "metadata": {},
   "outputs": [],
   "source": [
    "mean_wingspan = np.nanmean(bat_wingspan, 1)\n"
   ]
  },
  {
   "cell_type": "code",
   "execution_count": null,
   "metadata": {},
   "outputs": [],
   "source": [
    "bat_masses_plosone = [284,244,274,246,239,277,247,321,300,270,310,305,300,292,255,280]\n",
    "bat_masses_jeb = [254, 266, 278, 326, 332]\n"
   ]
  },
  {
   "cell_type": "code",
   "execution_count": null,
   "metadata": {},
   "outputs": [],
   "source": [
    "plt.scatter(bat_masses_jeb, mean_wingspan)\n",
    "plt.figure()\n",
    "plt.hist(bat_masses_plosone)\n",
    "plt.hist(bat_masses_jeb)"
   ]
  },
  {
   "cell_type": "code",
   "execution_count": null,
   "metadata": {},
   "outputs": [],
   "source": [
    "plt.plot(np.cumsum(bats_raw_array))\n",
    "plt.figure()\n",
    "for size_error_ind in range(len(size_error_list)):\n",
    "    for wing_error_ind in range(len(wing_error_list)):\n",
    "        plt.plot(np.cumsum(error[size_error_ind, wing_error_ind]))"
   ]
  },
  {
   "cell_type": "code",
   "execution_count": null,
   "metadata": {},
   "outputs": [],
   "source": [
    "plt.plot(crossing_tracks_list[200]['size'])"
   ]
  },
  {
   "cell_type": "code",
   "execution_count": null,
   "metadata": {},
   "outputs": [],
   "source": [
    "plt.plot(forward_size[0])\n",
    "plt.plot(np.ones(len(forward_size[0]))*forward_mean_size[0])\n",
    "\n",
    "track_ind = 0\n",
    "while crossing_track_list[track_ind]['crossed'] < 0:\n",
    "    track_ind += 1\n",
    "plt.plot(np.max(crossing_track_list[track_ind]['rects'], 1))\n",
    "\n",
    "plt.figure()\n",
    "\n",
    "plt.hist(forward_mean_size, label='leaving bats')\n",
    "\n",
    "plt.hist(backward_mean_size, label='coming bats')\n",
    "plt.legend()\n",
    "\n",
    "plt.figure()\n",
    "plt.scatter(time_forward, forward_mean_size)\n",
    "plt.scatter(time_backward, backward_mean_size)\n",
    "\n",
    "plt.figure()\n",
    "plt.scatter(time_forward, forward_mean_wing)\n",
    "plt.scatter(time_backward, backward_mean_wing)\n",
    "\n",
    "plt.figure()\n",
    "plt.scatter(time_forward, forward_mean_body)\n",
    "\n",
    "plt.figure()\n",
    "plt.scatter(time_forward, np.array(forward_mean_wing)/np.array(forward_mean_body), alpha=.14)\n"
   ]
  },
  {
   "cell_type": "code",
   "execution_count": null,
   "metadata": {},
   "outputs": [],
   "source": [
    "plt.plot(np.max(crossing_track_list[-19]['rects'], 1))"
   ]
  },
  {
   "cell_type": "code",
   "execution_count": null,
   "metadata": {},
   "outputs": [],
   "source": [
    "\n"
   ]
  },
  {
   "cell_type": "code",
   "execution_count": null,
   "metadata": {},
   "outputs": [],
   "source": []
  },
  {
   "cell_type": "code",
   "execution_count": null,
   "metadata": {},
   "outputs": [],
   "source": []
  },
  {
   "cell_type": "code",
   "execution_count": null,
   "metadata": {},
   "outputs": [],
   "source": [
    "print(calculate_bat_multiplier_simple(50, HFOV, D_CHYNIANGALE))\n",
    "print(calculate_bat_multiplier(50, HFOV, D_CHYNIANGALE))"
   ]
  },
  {
   "cell_type": "code",
   "execution_count": null,
   "metadata": {},
   "outputs": [],
   "source": [
    "simple = [calculate_bat_multiplier_simple(30, HFOV, d) for d in range(500)]\n",
    "straight = [calculate_bat_multiplier(30, HFOV, d) for d in range(500)]"
   ]
  },
  {
   "cell_type": "code",
   "execution_count": null,
   "metadata": {},
   "outputs": [],
   "source": [
    "plt.plot(simple)\n",
    "plt.plot(straight)"
   ]
  },
  {
   "cell_type": "code",
   "execution_count": null,
   "metadata": {},
   "outputs": [],
   "source": [
    "height_leaving = [calculate_height(pixels, HCONST, WINGSPAN) for pixels in forward_mean_wing]\n",
    "plt.scatter(time_forward, height_leaving, alpha=.1)\n",
    "\n",
    "plt.figure()\n",
    "\n",
    "height_leaving = [calculate_height(pixels-1, HCONST, WINGSPAN) for pixels in forward_mean_wing]\n",
    "plt.scatter(time_forward, height_leaving, alpha=.1)\n",
    "\n",
    "plt.figure()\n",
    "\n",
    "height_leaving = [calculate_height(pixels-4, HCONST, WINGSPAN) for pixels in forward_mean_wing]\n",
    "plt.scatter(time_forward, height_leaving, alpha=.1)"
   ]
  },
  {
   "cell_type": "code",
   "execution_count": null,
   "metadata": {},
   "outputs": [],
   "source": [
    "plt.plot(min_edge[peaks])\n",
    "plt.plot(np.ones_like(min_edge[peaks]) * np.mean(min_edge[peaks]))\n",
    "plt.plot(max_edge[peaks])\n",
    "plt.plot(np.ones_like(max_edge[peaks]) * np.mean(max_edge[peaks]))"
   ]
  },
  {
   "cell_type": "code",
   "execution_count": null,
   "metadata": {},
   "outputs": [],
   "source": [
    "len(height_leaving)"
   ]
  },
  {
   "cell_type": "code",
   "execution_count": null,
   "metadata": {},
   "outputs": [],
   "source": []
  }
 ],
 "metadata": {
  "kernelspec": {
   "display_name": "Python 3",
   "language": "python",
   "name": "python3"
  },
  "language_info": {
   "codemirror_mode": {
    "name": "ipython",
    "version": 3
   },
   "file_extension": ".py",
   "mimetype": "text/x-python",
   "name": "python",
   "nbconvert_exporter": "python",
   "pygments_lexer": "ipython3",
   "version": "3.8.10"
  }
 },
 "nbformat": 4,
 "nbformat_minor": 4
}
