{
 "cells": [
  {
   "cell_type": "markdown",
   "metadata": {},
   "source": [
    "This notebook takes the raw tracks for each observation and finds all crossing tracks and extracts all nessisary assosiated information for population estimates including things like bat size, frame darkness etc. All this information is saved in one dictionary for each observation which can be used in other notebooks for further processing."
   ]
  },
  {
   "cell_type": "code",
   "execution_count": null,
   "metadata": {},
   "outputs": [],
   "source": [
    "import glob\n",
    "import os\n",
    "\n",
    "import cv2\n",
    "import matplotlib as mpl\n",
    "import matplotlib.pyplot as plt\n",
    "import numpy as np\n",
    "import utm\n",
    "\n",
    "from bat_functions import mark_bats_on_image, draw_tracks_on_frame\n",
    "from bat_functions import get_bat_accumulation, piecewise_linear\n",
    "from bat_functions import threshold_short_tracks, calculate_height\n",
    "from bat_functions import calculate_bat_multiplier, combined_bat_multiplier\n",
    "from bat_functions import measure_crossing_bats\n",
    "from CountLine import CountLine"
   ]
  },
  {
   "cell_type": "code",
   "execution_count": null,
   "metadata": {},
   "outputs": [],
   "source": []
  },
  {
   "cell_type": "code",
   "execution_count": null,
   "metadata": {},
   "outputs": [],
   "source": [
    "shift = 0 # loss on each side from not padding during detection\n",
    "\n",
    "HFOV = 85.8 # degrees\n",
    "HCONST = 1454.9 # pixels\n",
    "WCONST = 1453.7 # pixels\n",
    "FRAME_WIDTH = 2704 - (2 * shift)\n",
    "WINGSPAN = .8 # meters, max extent while flying \n",
    "# Path to a frame extracted from the videos (to get the height and width of the videos)\n",
    "image_file = '.../kasanka-bats/processed/deep-learning/19Nov/BBC/example-frames/19Nov_BBC_obs-ind_40500.jpg'\n",
    "frame_height = plt.imread(image_file).shape[0]"
   ]
  },
  {
   "cell_type": "code",
   "execution_count": null,
   "metadata": {},
   "outputs": [],
   "source": []
  },
  {
   "cell_type": "code",
   "execution_count": null,
   "metadata": {},
   "outputs": [],
   "source": [
    "root_folder = \".../kasanka-bats/processed/deep-learning\""
   ]
  },
  {
   "cell_type": "markdown",
   "metadata": {},
   "source": [
    "## Take all tracks found and filter out all that don't cross the count line\n",
    "Save these crossing tracks seprately so this only has to be run once"
   ]
  },
  {
   "cell_type": "code",
   "execution_count": null,
   "metadata": {},
   "outputs": [],
   "source": [
    "# Get path to the folders for each observation date\n",
    "# (Each of these contains folders for each camera which contain 'raw_tracks.npy' etc)\n",
    "day_folders = day_folders = sorted(\n",
    "    glob.glob('.../kasanka-bats/processed/deep-learning/*Nov')\n",
    ")\n",
    "\n",
    "observations = {}\n",
    "for day_folder in day_folders:\n",
    "    print(day_folder)\n",
    "    date = os.path.basename(day_folder) \n",
    "    track_files = sorted(\n",
    "        glob.glob(os.path.join(day_folder, '*/raw_tracks.npy'))\n",
    "    )\n",
    "    observations[date] = {}\n",
    "    for track_file in track_files:\n",
    "        camera_folder = os.path.dirname(track_file)\n",
    "        # New file path for the crossing tracks that will be saved\n",
    "        crossing_track_file = os.path.join(camera_folder, 'crossing_tracks.npy')\n",
    "        if os.path.exists(crossing_track_file):\n",
    "            # If the crossing tracks from this camera have already been saved don't\n",
    "            # refind them\n",
    "            continue\n",
    "        try:\n",
    "            raw_track_list = np.load(track_file, allow_pickle=True)\n",
    "            # Get rid of tracks less than two points long\n",
    "            tracks_list = threshold_short_tracks(raw_track_list, min_length_threshold=2)\n",
    "            # Get list of tracks that cross the mid line\n",
    "            crossing_tracks_list = measure_crossing_bats(tracks_list, \n",
    "                                                         frame_height=frame_height)\n",
    "            np.save(crossing_track_file, \n",
    "                    np.array(crossing_tracks_list, dtype=object)\n",
    "                   )\n",
    "        except:\n",
    "            print(f\"Filtering and saving of crossing tracks for {date}\"\n",
    "                  f\" and camera {os.path.basename(camera_folder)}failed.\")"
   ]
  },
  {
   "cell_type": "markdown",
   "metadata": {},
   "source": [
    "### For each camera observation on each day, complile all nessisary information about each crossing bat to estimate the total population"
   ]
  },
  {
   "cell_type": "code",
   "execution_count": null,
   "metadata": {},
   "outputs": [],
   "source": [
    "day_folders = sorted(\n",
    "    glob.glob('.../kasanka-bats/processed/deep-learning/*Nov')\n",
    ")\n",
    "\n",
    "observations = {}\n",
    "for day_folder in day_folders:\n",
    "    print(day_folder)\n",
    "\n",
    "    date = os.path.basename(day_folder)\n",
    "    track_files = sorted(glob.glob(os.path.join(day_folder, '*/crossing_tracks.npy')))\n",
    "    observations[date] = {}\n",
    "    \n",
    "    for track_file in track_files: \n",
    "        camera = track_file.split('/')[-2]\n",
    "        obs = {'date': date,\n",
    "               'camera': camera,\n",
    "               }\n",
    "        crossing_tracks_list = np.load(track_file, allow_pickle=True)\n",
    "        # Load the frame darkness values as calculated in get-observation-frame-darkness.ipynb\n",
    "        darkness_means = np.load(os.path.join(day_folder, camera, 'blue-means.npy'))\n",
    "        passing_bat_frame = []\n",
    "        passing_bat_size = []\n",
    "        passing_bat_track_ind = []\n",
    "        passing_bat_direction = []\n",
    "        passing_bat_track_id = []\n",
    "        passing_bat_darkness = []\n",
    "        passing_track_length = []\n",
    "        for track_ind, track in enumerate(crossing_tracks_list):\n",
    "            if track['crossed'] > 0:\n",
    "                passing_bat_frame.append(track['crossed'])\n",
    "                passing_bat_size.append(track['mean_wing'])\n",
    "                passing_bat_track_id.append(track_ind)\n",
    "                passing_bat_direction.append(1)\n",
    "                passing_bat_darkness.append(darkness_means[track['crossed']])\n",
    "                passing_track_length.append(len(track['track']))\n",
    "\n",
    "            elif track['crossed'] < 0:\n",
    "                passing_bat_frame.append(track['crossed'])\n",
    "                passing_bat_size.append(track['mean_wing'])\n",
    "                passing_bat_track_id.append(track_ind)\n",
    "                passing_bat_direction.append(-1)\n",
    "                passing_bat_darkness.append(darkness_means[-track['crossed']])\n",
    "                passing_track_length.append(len(track['track']))\n",
    "\n",
    "        obs['frames'] = np.array(passing_bat_frame)\n",
    "        obs['mean_wing'] = np.array(passing_bat_size)\n",
    "        obs['ids'] = np.array(passing_bat_track_id)\n",
    "        obs['direction'] = np.array(passing_bat_direction)\n",
    "        obs['darkness'] = np.array(passing_bat_darkness)\n",
    "        obs['track_length'] = np.array(passing_track_length)\n",
    "        observations[date][camera] = obs\n",
    "        \n",
    "# Save the track crossing information for each observation (camera, date)\n",
    "observation_root = os.path.join(root_folder, 'observations')\n",
    "for date, day_obs in observations.items():\n",
    "    day_folder = os.path.join(observation_root, date)\n",
    "    os.makedirs(day_folder, exist_ok=True)\n",
    "    for cam_ind, (cam_name, obs) in enumerate(day_obs.items()):\n",
    "        obs_name = f'{date}-observation-{cam_name}.npy'\n",
    "        obs_file = os.path.join(day_folder, obs_name)\n",
    "        np.save(obs_file, obs)"
   ]
  }
 ],
 "metadata": {
  "kernelspec": {
   "display_name": "Python 3 (ipykernel)",
   "language": "python",
   "name": "python3"
  },
  "language_info": {
   "codemirror_mode": {
    "name": "ipython",
    "version": 3
   },
   "file_extension": ".py",
   "mimetype": "text/x-python",
   "name": "python",
   "nbconvert_exporter": "python",
   "pygments_lexer": "ipython3",
   "version": "3.9.16"
  }
 },
 "nbformat": 4,
 "nbformat_minor": 4
}
