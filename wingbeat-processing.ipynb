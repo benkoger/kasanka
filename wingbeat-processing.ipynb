{
 "cells": [
  {
   "cell_type": "code",
   "execution_count": null,
   "metadata": {},
   "outputs": [],
   "source": [
    "import numpy as np\n",
    "import os\n",
    "import glob\n",
    "from scipy import signal\n",
    "import matplotlib.pyplot as plt\n",
    "import matplotlib as mpl\n",
    "import bat_functions as bf"
   ]
  },
  {
   "cell_type": "code",
   "execution_count": null,
   "metadata": {},
   "outputs": [],
   "source": [
    "fps = 25"
   ]
  },
  {
   "cell_type": "code",
   "execution_count": null,
   "metadata": {},
   "outputs": [],
   "source": [
    "plots_save_folder = '.../bats-data/plots/wing-beat-analysis'\n",
    "os.makedirs(plots_save_folder, exist_ok=True)"
   ]
  },
  {
   "cell_type": "code",
   "execution_count": null,
   "metadata": {},
   "outputs": [],
   "source": [
    "process_raw_tracks = False\n",
    "\n",
    "if process_raw_tracks:\n",
    "    folders = glob.glob(\n",
    "        '.../kasanka-bats/processed/deep-learning/*Nov'\n",
    "    )\n",
    "    day_folders = sorted(folders)\n",
    "    min_thresh = 100\n",
    "\n",
    "    observations = {}\n",
    "    for day_folder in day_folders[:]:\n",
    "        print(day_folder)\n",
    "\n",
    "        date = os.path.basename(day_folder)\n",
    "        track_files = sorted(\n",
    "            glob.glob(os.path.join(day_folder, '*/raw_tracks.npy'))\n",
    "        )\n",
    "        for t_ind, track_file in enumerate(track_files):\n",
    "            new_file = os.path.join(os.path.dirname(track_file), \n",
    "                                f'long_tracks_min_{min_thresh}.npy')\n",
    "            if os.path.exists(new_file):\n",
    "                continue\n",
    "            tracks_raw = np.load(track_file, allow_pickle=True)\n",
    "            tracks = bf.threshold_short_tracks(tracks_raw, \n",
    "                                               min_length_threshold=min_thresh)\n",
    "\n",
    "            np.save(new_file, tracks)"
   ]
  },
  {
   "cell_type": "code",
   "execution_count": null,
   "metadata": {},
   "outputs": [],
   "source": [
    "def save_fig(save_folder, plot_title, fig=None):\n",
    "    plot_name = plot_title.replace(' ', '-')\n",
    "    file = os.path.join(save_folder, plot_name+'.png')\n",
    "    if fig:\n",
    "        fig.savefig(file, bbox_inches='tight', dpi=600)\n",
    "        return\n",
    "    \n",
    "    plt.savefig(file, bbox_inches='tight', dpi=600)"
   ]
  },
  {
   "cell_type": "code",
   "execution_count": null,
   "metadata": {},
   "outputs": [],
   "source": [
    "def get_track_wingbeat_freqs(track, fps=25, min_freq=.75):\n",
    "    \"\"\" Calculate peak wing freqs and assosiated power.\n",
    "    \n",
    "    track: track dict\n",
    "    fps: frames per second track temporal resolution\n",
    "    min_freq: minimum frequency for calculating peak_freq.\n",
    "        Messily segmented tracks often have have high power\n",
    "        close to 0 Hz because actual signal is not clear.\n",
    "    \"\"\"\n",
    "    \n",
    "    assert 'max_edge' in track.keys(), \"Track must have max_edge already computed\"\n",
    "    \n",
    "    if len(track['max_edge']) < 255:\n",
    "        nperseg = len(track['max_edge'])\n",
    "    else:\n",
    "        nperseg = 255\n",
    "\n",
    "    f, p = signal.welch(track['max_edge'], fps, nperseg=nperseg)\n",
    "    peaks = signal.find_peaks(p, threshold=0, height=1)[0]\n",
    "\n",
    "    track['freqs'] = f[peaks]\n",
    "    track['freqs_power'] = p[peaks]\n",
    "\n",
    "    peak_freq, freq_power  = bf.get_peak_freq(track['freqs'],\n",
    "                                       track['freqs_power'],\n",
    "                                       min_freq\n",
    "                                      )\n",
    "    track['peak_freq'] = peak_freq\n",
    "    track['peak_freq_power'] = freq_power\n",
    "    \n",
    "def add_wingbeat_info_to_tracks(tracks, fps=25, min_freq=.75, \n",
    "                                remove_contours=False):\n",
    "    \"\"\" Add main wingbeat freq info for all tracks in tracks after calculating\n",
    "    all nessissary extra info. Can remove contours after getting bounding rects \n",
    "    to save memory.\n",
    "    \n",
    "    tracks: list of track dicts\n",
    "    fps: frames per second - temporal resolution of tracks\n",
    "    min_freq: minimum frequency for calculating peak_freq.\n",
    "        Messily segmented tracks often have have high power\n",
    "        close to 0 Hz because actual signal is not clear.\n",
    "    remove_contours: if True remove raw contour info from track dicts.\n",
    "        Useful if need to save memory\n",
    "    \"\"\"\n",
    "    for track in tracks:\n",
    "        if 'rects' not in track.keys():\n",
    "            track['rects'] = bf.get_rects(track)\n",
    "        if remove_contours:\n",
    "            try:\n",
    "                del track['contour']\n",
    "            except KeyError:\n",
    "                pass\n",
    "                \n",
    "        if 'max_edge' not in track.keys():\n",
    "            track['max_edge'] = np.nanmax(track['rects'], 1)\n",
    "        if 'mean_wing' not in track.keys():\n",
    "            track['mean_wing'] = bf.get_wingspan(track)\n",
    "        \n",
    "        get_track_wingbeat_freqs(track, fps=fps, min_freq=min_freq)"
   ]
  },
  {
   "cell_type": "code",
   "execution_count": null,
   "metadata": {},
   "outputs": [],
   "source": [
    "process_long_tracks = True\n",
    "remove_contours = True\n",
    "overwrite = False\n",
    "\n",
    "if process_long_tracks:\n",
    "\n",
    "    folders = glob.glob(\n",
    "        '.../kasanka-bats/processed/deep-learning/*Nov'\n",
    "    )\n",
    "\n",
    "    save_files = True\n",
    "    day_folders = sorted(folders)\n",
    "    min_thresh = 100\n",
    "\n",
    "    all_tracks = {}\n",
    "    for day_folder in day_folders[:1]:\n",
    "        print(day_folder)\n",
    "\n",
    "        date = os.path.basename(day_folder)\n",
    "        track_files = sorted(\n",
    "            glob.glob(\n",
    "                os.path.join(day_folder, f'Chyniangale/long_tracks_min_{min_thresh}.npy'))\n",
    "        )\n",
    "        all_tracks[date] = {}\n",
    "        for t_ind, track_file in enumerate(track_files):\n",
    "            camera = track_file.split('/')[-2]\n",
    "            print(camera)\n",
    "            tracks = np.load(track_file, allow_pickle=True)\n",
    "            add_wingbeat_info_to_tracks(tracks, \n",
    "                                        fps=fps, min_freq=.75, \n",
    "                                        remove_contours=remove_contours)\n",
    "            if save_files:\n",
    "                new_file = os.path.join(os.path.dirname(track_file), \n",
    "                                f'long_tracks_min_{min_thresh}_wingbeat.npy')\n",
    "                if not os.path.exists(new_file) or overwrite:\n",
    "                    np.save(new_file, tracks)\n",
    "                    \n",
    "            break\n",
    "        break"
   ]
  },
  {
   "cell_type": "code",
   "execution_count": null,
   "metadata": {},
   "outputs": [],
   "source": [
    "tracks[0].keys()\n",
    "    "
   ]
  },
  {
   "cell_type": "code",
   "execution_count": null,
   "metadata": {},
   "outputs": [],
   "source": [
    "peak_freqs = [t['peak_freq'] for t in tracks if ((t['peak_freq'] >= 3) & (t['peak_freq'] < 4))]"
   ]
  },
  {
   "cell_type": "code",
   "execution_count": null,
   "metadata": {},
   "outputs": [],
   "source": [
    "# plt.figure(figsize=(10,10))\n",
    "peak_freqs = np.around(np.array(peak_freqs), 5)\n",
    "unique_freqs = np.unique(peak_freqs)\n",
    "print(unique_freqs.shape)\n",
    "hist_info = plt.hist(peak_freqs, bins=200, density=True, range=(3,4))\n",
    "# plt.figure()\n",
    "_ = plt.hist(all_freqs, bins=200, density=True, alpha=.7, range=(3, 4))\n",
    "\n",
    "length = 255\n",
    "freq_resolution = 25 / length\n",
    "samples = np.ones(length) * freq_resolution\n",
    "measured_freqs = np.cumsum(samples)\n",
    "length_freqs = measured_freqs[(measured_freqs>=3.0)&(measured_freqs<4)]\n",
    "for f in length_freqs:\n",
    "    print(f)\n",
    "    plt.axvline(f, ls='--')\n",
    "    \n",
    "plt.xlabel('Frequency')\n",
    "plt.ylabel('Track density')\n",
    "\n",
    "title = 'sampling derived frequency peak origins'\n",
    "\n",
    "save_fig(plots_save_folder, title)"
   ]
  },
  {
   "cell_type": "code",
   "execution_count": null,
   "metadata": {},
   "outputs": [],
   "source": [
    "counts = hist_info[0]\n",
    "bins = hist_info[1]"
   ]
  },
  {
   "cell_type": "code",
   "execution_count": null,
   "metadata": {},
   "outputs": [],
   "source": [
    "bin_ind =np.argmax(counts) \n",
    "min_bin_val, max_bin_val = bins[bin_ind:bin_ind+2]"
   ]
  },
  {
   "cell_type": "code",
   "execution_count": null,
   "metadata": {},
   "outputs": [],
   "source": [
    "focal_tracks = []\n",
    "for t in tracks:\n",
    "    if (t['peak_freq'] >= min_bin_val) and (t['peak_freq'] < max_bin_val):\n",
    "        if len(t['max_edge']) > 0:\n",
    "            focal_tracks.append(t)\n",
    "\n",
    "print(len(focal_tracks))"
   ]
  },
  {
   "cell_type": "code",
   "execution_count": null,
   "metadata": {},
   "outputs": [],
   "source": [
    "print(t['peak_freq'])"
   ]
  },
  {
   "cell_type": "code",
   "execution_count": null,
   "metadata": {},
   "outputs": [],
   "source": [
    "25 / 256, 25/100"
   ]
  },
  {
   "cell_type": "code",
   "execution_count": null,
   "metadata": {},
   "outputs": [],
   "source": [
    "# focal_peak = [t['first_frame'] for t in focal_tracks]\n",
    "# focal_peak\n",
    "# plt.scatter(focal_peak, np.arange(len(focal_peak)))"
   ]
  },
  {
   "cell_type": "code",
   "execution_count": null,
   "metadata": {},
   "outputs": [],
   "source": [
    "possible_frequencies = []\n",
    "for t_num, t in enumerate(focal_tracks[::]):\n",
    "    if len(t['max_edge']) < 255:\n",
    "        nperseg = len(t['max_edge'])\n",
    "    else:\n",
    "        nperseg = 255\n",
    "    \n",
    "    f, p = signal.welch(t['max_edge'], fps, nperseg=nperseg)\n",
    "    possible_frequencies.extend(f)\n",
    "#     plt.figure()\n",
    "#     plt.stem(f, p, use_line_collection=True)\n",
    "#     plt.title(f\"{len(f)}  {len(t['max_edge'])}\")\n",
    "#     peaks = signal.find_peaks(p, threshold=0, height=1)[0]\n",
    "#     plt.figure()\n",
    "#     plt.stem(t['freqs'], abs(t['freqs_power']), use_line_collection=True)\n",
    "#     plt.title(t_num)\n",
    "#     plt.figure()\n",
    "#     plt.plot(t['max_edge'])\n",
    "#     plt.title(t_num)\n"
   ]
  },
  {
   "cell_type": "code",
   "execution_count": null,
   "metadata": {},
   "outputs": [],
   "source": [
    "unique = np.unique(possible_frequencies)\n",
    "threes = unique[(unique>=3)&(unique<4)]\n",
    "threes.shape"
   ]
  },
  {
   "cell_type": "code",
   "execution_count": null,
   "metadata": {},
   "outputs": [],
   "source": [
    "threes"
   ]
  },
  {
   "cell_type": "code",
   "execution_count": null,
   "metadata": {},
   "outputs": [],
   "source": [
    "lengths = np.arange(100, 256)"
   ]
  },
  {
   "cell_type": "code",
   "execution_count": null,
   "metadata": {},
   "outputs": [],
   "source": [
    "freq_resolution = 25 / lengths\n",
    "\n",
    "all_freqs = []\n",
    "\n",
    "for length in lengths[::]:\n",
    "    freq_resolution = 25 / length\n",
    "    samples = np.ones(length) * freq_resolution\n",
    "    measured_freqs = np.cumsum(samples)\n",
    "    all_freqs.extend(measured_freqs[(measured_freqs < 4) & (measured_freqs >=3)])"
   ]
  },
  {
   "cell_type": "code",
   "execution_count": null,
   "metadata": {},
   "outputs": [],
   "source": [
    "\n",
    "_ = plt.hist(all_freqs, bins=200)"
   ]
  },
  {
   "cell_type": "code",
   "execution_count": null,
   "metadata": {},
   "outputs": [],
   "source": [
    "\n",
    "unique = np.unique(np.around(np.array(all_freqs), 5))\n",
    "print(unique.shape)\n",
    "plt.hist(unique, bins=100)"
   ]
  },
  {
   "cell_type": "code",
   "execution_count": null,
   "metadata": {},
   "outputs": [],
   "source": [
    "freqs  = np.array(all_freqs)"
   ]
  },
  {
   "cell_type": "code",
   "execution_count": null,
   "metadata": {},
   "outputs": [],
   "source": [
    "np.unique(freqs).shape"
   ]
  },
  {
   "cell_type": "code",
   "execution_count": null,
   "metadata": {},
   "outputs": [],
   "source": [
    "np.unique(np.ones(10)*1.1)"
   ]
  },
  {
   "cell_type": "code",
   "execution_count": null,
   "metadata": {},
   "outputs": [],
   "source": []
  }
 ],
 "metadata": {
  "kernelspec": {
   "display_name": "Python 3",
   "language": "python",
   "name": "python3"
  },
  "language_info": {
   "codemirror_mode": {
    "name": "ipython",
    "version": 3
   },
   "file_extension": ".py",
   "mimetype": "text/x-python",
   "name": "python",
   "nbconvert_exporter": "python",
   "pygments_lexer": "ipython3",
   "version": "3.8.10"
  }
 },
 "nbformat": 4,
 "nbformat_minor": 4
}
