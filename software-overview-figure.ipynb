{
 "cells": [
  {
   "cell_type": "code",
   "execution_count": null,
   "metadata": {},
   "outputs": [],
   "source": [
    "import numpy as np\n",
    "import matplotlib.pyplot as plt\n",
    "import glob\n",
    "import os\n",
    "import shutil\n",
    "\n",
    "from scipy import signal\n",
    "\n",
    "import sys\n",
    "sys.path.append('.../bats-code')\n",
    "\n",
    "import bat_functions as bf\n",
    "from CountLine import CountLine\n",
    "import cv2\n",
    "import matplotlib as mpl\n",
    "import utm\n",
    "import matplotlib.pyplot as plt"
   ]
  },
  {
   "cell_type": "code",
   "execution_count": null,
   "metadata": {},
   "outputs": [],
   "source": [
    "plot_folder = '.../bats-data/plots'\n",
    "save_folder = os.path.join(plot_folder, 'software-overview')\n",
    "os.makedirs(save_folder, exist_ok=True)"
   ]
  },
  {
   "cell_type": "code",
   "execution_count": null,
   "metadata": {},
   "outputs": [],
   "source": [
    "root_folder = \".../kasanka-bats/processed/deep-learning\"\n",
    "root_frame_folder = \".../Elements/bats\"\n",
    "date = \"17Nov\"\n",
    "camera = \"BBC\"\n",
    "\n",
    "frame_files = sorted(\n",
    "    glob.glob(os.path.join(root_frame_folder,\n",
    "                           date,\n",
    "                           camera, \n",
    "                           \"*/*.jpg\"\n",
    "                    )\n",
    "    )\n",
    ")\n",
    "positions = np.load(os.path.join(root_folder, \n",
    "                                 date, camera, \n",
    "                                 'centers.npy'), \n",
    "                    allow_pickle=True)\n",
    "print(len(frame_files), len(positions))"
   ]
  },
  {
   "cell_type": "code",
   "execution_count": null,
   "metadata": {},
   "outputs": [],
   "source": [
    "shift = 0\n",
    "padding = 48\n",
    "frame_ind = 25000\n",
    "plt.figure(figsize=(20,20))\n",
    "im_name = os.path.basename(frame_files[frame_ind])\n",
    "new_im_file = os.path.join(save_folder, im_name)\n",
    "if not os.path.exists(new_im_file):\n",
    "    copy = shutil.copy(frame_files[frame_ind], save_folder)\n",
    "    print(copy)\n",
    "im = cv2.imread(frame_files[frame_ind])\n",
    "im_name_noext = os.path.splitext(new_im_file)[0]\n",
    "depadded_im_name = im_name_noext + '-depadded.jpg'\n",
    "depadded_file = os.path.join(save_folder, depadded_im_name)\n",
    "if not os.path.exists(depadded_file):\n",
    "    cv2.imwrite(depadded_file, im[padding:-padding, padding:-padding])\n",
    "\n",
    "plt.imshow(im / im.max())\n",
    "plt.scatter(shift + positions[frame_ind][:,0], \n",
    "            shift + positions[frame_ind][:,1], \n",
    "            s=1, c='r')"
   ]
  },
  {
   "cell_type": "code",
   "execution_count": null,
   "metadata": {},
   "outputs": [],
   "source": []
  },
  {
   "cell_type": "code",
   "execution_count": null,
   "metadata": {},
   "outputs": [],
   "source": [
    "tracks_file = os.path.join(root_folder, date, camera, 'raw_tracks.npy')\n",
    "raw_tracks = np.load(tracks_file, allow_pickle=True)"
   ]
  },
  {
   "cell_type": "code",
   "execution_count": null,
   "metadata": {},
   "outputs": [],
   "source": [
    "tracks_in_frame = bf.get_tracks_in_frame(frame_ind, raw_tracks)"
   ]
  },
  {
   "cell_type": "code",
   "execution_count": null,
   "metadata": {},
   "outputs": [],
   "source": [
    "def cv2_draw_track_on_frame(frame, frame_ind, track, shift=0,\n",
    "                           color=(255, 255, 255), track_width=2):\n",
    "    rel_frame =  frame_ind - track['first_frame']\n",
    "    if rel_frame > 0:\n",
    "        for pos_ind, pos in enumerate(track['track'][1:rel_frame]):\n",
    "            start_point = (int(track['track'][pos_ind, 0] + shift),\n",
    "                           int(track['track'][pos_ind, 1] + shift))\n",
    "            end_point = (int(pos[0] + shift), int(pos[1] + shift))\n",
    "            \n",
    "            cv2.line(frame, start_point, end_point, color, track_width)"
   ]
  },
  {
   "cell_type": "code",
   "execution_count": null,
   "metadata": {},
   "outputs": [],
   "source": [
    "rel_frame"
   ]
  },
  {
   "cell_type": "code",
   "execution_count": null,
   "metadata": {},
   "outputs": [],
   "source": [
    "track_ind = 34\n",
    "border = 5\n",
    "\n",
    "im = cv2.imread(frame_files[frame_ind])\n",
    "\n",
    "track = tracks_in_frame[track_ind]\n",
    "rel_frame = frame_ind - track['first_frame']\n",
    "contour = track['contour'][rel_frame]\n",
    "# cv2.drawContours(im, [contour], 0, (0,255,255), -1)\n",
    "\n",
    "rect = cv2.minAreaRect(contour)\n",
    "box = cv2.boxPoints(rect)\n",
    "box_d = np.int0(box)\n",
    "cv2.drawContours(im, [box_d], 0, (0,255,100), 1)\n",
    "cv2.drawContours(im, [contour], 0, (255,255,100), 1)\n",
    "\n",
    "xmin = np.min(contour[:,0]) - border\n",
    "ymin = np.min(contour[:,1]) - border\n",
    "xmax = np.max(contour[:,0]) + border\n",
    "ymax = np.max(contour[:,1]) + border\n",
    "\n",
    "\n",
    "cropped_im = im[ymin-border:ymax+border, xmin-border:xmax+border]\n",
    "\n",
    "new_height = 500\n",
    "\n",
    "scale = new_height / cropped_im.shape[0] \n",
    "\n",
    "new_width = int(cropped_im.shape[1] * scale)\n",
    "dim = (new_width, new_height)\n",
    "\n",
    "cropped_im = cv2.resize(cropped_im, dim, interpolation=cv2.INTER_NEAREST)\n",
    "\n",
    "save_im_name = im_name_noext + 'one-track-zoom-contour-big.jpg'\n",
    "save_file = os.path.join(save_folder, save_im_name)\n",
    "\n",
    "if not os.path.exists(save_file):\n",
    "    cv2.imwrite(save_file, cropped_im)\n",
    "    \n",
    "cropped_im_rgb = cv2.cvtColor(cropped_im, cv2.COLOR_BGR2RGB)\n",
    "plt.figure(figsize=(5, 5))\n",
    "plt.imshow(cropped_im_rgb)"
   ]
  },
  {
   "cell_type": "code",
   "execution_count": null,
   "metadata": {},
   "outputs": [],
   "source": [
    "im = cv2.imread(depadded_file)\n",
    "\n",
    "track_inds = [track_ind]\n",
    "\n",
    "for track in tracks_in_frame:\n",
    "    rel_frame = frame_ind - track['first_frame']\n",
    "    contour = track['contour'][rel_frame]\n",
    "    cv2.drawContours(im, [contour-padding], 0, (0,255,255), -1)\n",
    "save_im_name = im_name_noext + '-contours-one-track.jpg'\n",
    "save_file = os.path.join(save_folder, save_im_name)\n",
    "for track_ind in track_inds:\n",
    "    cv2_draw_track_on_frame(im, frame_ind, tracks_in_frame[track_ind], \n",
    "                            shift=-48,\n",
    "                            color=(255, 255, 255), track_width=2)\n",
    "if not os.path.exists(save_file):\n",
    "    cv2.imwrite(save_file, im)\n",
    "plt.figure(figsize=(20,20))\n",
    "rgb_im = cv2.cvtColor(im, cv2.COLOR_BGR2RGB)\n",
    "plt.imshow(rgb_im)"
   ]
  },
  {
   "cell_type": "code",
   "execution_count": null,
   "metadata": {},
   "outputs": [],
   "source": [
    "im = cv2.imread(depadded_file)\n",
    "\n",
    "track_inds = np.arange(len(tracks_in_frame))\n",
    "\n",
    "for track in tracks_in_frame:\n",
    "    rel_frame = frame_ind - track['first_frame']\n",
    "    contour = track['contour'][rel_frame]\n",
    "#     cv2.drawContours(im, [contour-padding], 0, (0,255,255), -1)\n",
    "save_im_name = im_name_noext + '-all-tracks-with-count-line.jpg'\n",
    "save_file = os.path.join(save_folder, save_im_name)\n",
    "for track_ind in track_inds:\n",
    "    color = (255, 255, 255)\n",
    "    cv2_draw_track_on_frame(im, frame_ind, tracks_in_frame[track_ind], \n",
    "                            shift=-48,\n",
    "                            color=color, track_width=2)\n",
    "    \n",
    "count_height = int(im.shape[0] / 2)\n",
    "start_point = (0, count_height)\n",
    "end_point = (im.shape[1], count_height)\n",
    "cv2.line(im, start_point, end_point, (0, 0, 255), 4)\n",
    "if not os.path.exists(save_file):\n",
    "    cv2.imwrite(save_file, im)\n",
    "plt.figure(figsize=(20,20))\n",
    "rgb_im = cv2.cvtColor(im, cv2.COLOR_BGR2RGB)\n",
    "plt.imshow(rgb_im)"
   ]
  },
  {
   "cell_type": "code",
   "execution_count": null,
   "metadata": {},
   "outputs": [],
   "source": [
    "track_ind = 34\n",
    "\n",
    "track = tracks_in_frame[track_ind]\n",
    "bf.add_wingbeat_info_to_tracks([track])\n",
    "\n",
    "max_edge = track['max_edge']\n",
    "plt.plot(max_edge)\n",
    "plt.axhline(track['mean_wing'], c='g')\n",
    "peaks = signal.find_peaks(max_edge)[0]\n",
    "plt.scatter(peaks, max_edge[peaks], c='g')\n",
    "plt.xlabel('frame number')\n",
    "plt.ylabel('pixels')\n",
    "HCONST = 1454.9 # pixels\n",
    "height = bf.calculate_height(track['mean_wing'], \n",
    "                          HCONST, \n",
    "                          .8)\n",
    "text_y = 38\n",
    "plt.text(125, text_y, f'Height: {int(height)}m', fontsize=15)\n",
    "peak_freq = track['peak_freq']\n",
    "plt.text(112, text_y-3, f'Wingbeat: {peak_freq:.1f}Hz', \n",
    "         fontsize=15)\n",
    "\n",
    "\n",
    "save_im_name = im_name_noext + f'track-{track_ind}-info-plot.jpg'\n",
    "save_file = os.path.join(save_folder, save_im_name)\n",
    "plt.savefig(save_file)"
   ]
  },
  {
   "cell_type": "code",
   "execution_count": null,
   "metadata": {},
   "outputs": [],
   "source": [
    "root_folder = \".../kenya_drones/kasanka-bats/processed/deep-learning\"\n",
    "observations_root = os.path.join(root_folder, \"observations\")\n",
    "obs_filename = f'{date}-observation-{camera}.npy'\n",
    "obs_path = os.path.join(observations_root, date, obs_filename)\n",
    "obs = np.load(obs_path, allow_pickle=True).item()\n",
    "bat_accumulation = bf.get_bat_accumulation(obs['frames'])\n",
    "# plt.axvline(frame_ind, c='r')\n",
    "plt.plot(bat_accumulation)\n",
    "plt.xlabel('frame number')\n",
    "plt.ylabel('bats')\n",
    "\n",
    "save_im_name = (f'bat_accumulation-{camera}.jpg')\n",
    "save_file = os.path.join(save_folder, save_im_name)\n",
    "plt.savefig(save_file)"
   ]
  },
  {
   "cell_type": "code",
   "execution_count": null,
   "metadata": {},
   "outputs": [],
   "source": [
    "obs.item().keys()"
   ]
  },
  {
   "cell_type": "code",
   "execution_count": null,
   "metadata": {},
   "outputs": [],
   "source": []
  }
 ],
 "metadata": {
  "kernelspec": {
   "display_name": "Python 3 (ipykernel)",
   "language": "python",
   "name": "python3"
  },
  "language_info": {
   "codemirror_mode": {
    "name": "ipython",
    "version": 3
   },
   "file_extension": ".py",
   "mimetype": "text/x-python",
   "name": "python",
   "nbconvert_exporter": "python",
   "pygments_lexer": "ipython3",
   "version": "3.9.16"
  }
 },
 "nbformat": 4,
 "nbformat_minor": 4
}
