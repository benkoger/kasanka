{
 "cells": [
  {
   "cell_type": "code",
   "execution_count": null,
   "metadata": {},
   "outputs": [],
   "source": [
    "import cv2\n",
    "import numpy as np\n",
    "import glob\n",
    "import os\n",
    "import matplotlib.cm as cm\n",
    "\n",
    "import matplotlib.pyplot as plt"
   ]
  },
  {
   "cell_type": "code",
   "execution_count": null,
   "metadata": {},
   "outputs": [],
   "source": [
    "import sys\n",
    "sys.path.append('.../bats-code')\n",
    "from bat_functions import get_bat_accumulation"
   ]
  },
  {
   "cell_type": "code",
   "execution_count": null,
   "metadata": {},
   "outputs": [],
   "source": [
    "day_folders"
   ]
  },
  {
   "cell_type": "code",
   "execution_count": null,
   "metadata": {},
   "outputs": [],
   "source": [
    "day_folders = sorted(glob.glob('.../kasanka-bats/processed/deep-learning/*Nov'))\n",
    "observations = {}\n",
    "for day_folder in day_folders[:2]:\n",
    "    print(day_folder)\n",
    "\n",
    "    date = os.path.basename(day_folder)\n",
    "    track_files = sorted(glob.glob(os.path.join(day_folder, '*/crossing_tracks.npy')))\n",
    "    observations[date] = {}\n",
    "    for track_file in track_files: \n",
    "        camera = track_file.split('/')[-2]\n",
    "        obs = {'date': date,\n",
    "               'camera': camera,\n",
    "               }\n",
    "        crossing_tracks_list = np.load(track_file, allow_pickle=True)\n",
    "        passing_bat_frame = []\n",
    "        passing_bat_size = []\n",
    "        passing_bat_track_ind = []\n",
    "        passing_bat_direction = []\n",
    "        passing_bat_track_id = []\n",
    "        for track_ind, track in enumerate(crossing_tracks_list):\n",
    "            if track['crossed'] > 0:\n",
    "                passing_bat_frame.append(track['crossed'])\n",
    "                passing_bat_size.append(track['mean_wing'])\n",
    "                passing_bat_track_id.append(track_ind)\n",
    "                passing_bat_direction.append(1)\n",
    "\n",
    "            elif track['crossed'] < 0:\n",
    "                passing_bat_frame.append(track['crossed'])\n",
    "                passing_bat_size.append(track['mean_wing'])\n",
    "                passing_bat_track_id.append(track_ind)\n",
    "                passing_bat_direction.append(-1)\n",
    "\n",
    "        obs['frames'] = np.array(passing_bat_frame)\n",
    "        obs['mean_wing'] = np.array(passing_bat_size)\n",
    "        obs['ids'] = np.array(passing_bat_track_id)\n",
    "        obs['direction'] = np.array(passing_bat_direction)\n",
    "        observations[date][camera] = obs"
   ]
  },
  {
   "cell_type": "code",
   "execution_count": null,
   "metadata": {},
   "outputs": [],
   "source": [
    "for date, day_obs in observations.items():\n",
    "    for cam_ind, (cam_name, obs) in enumerate(day_obs.items()):\n",
    "        bat_accumulation = get_bat_accumulation(obs['frames'])\n",
    "        observations[date][cam_name]['accumulation'] = bat_accumulation"
   ]
  },
  {
   "cell_type": "code",
   "execution_count": null,
   "metadata": {},
   "outputs": [],
   "source": [
    "percentiles = [.65, .8, .95, .98]"
   ]
  },
  {
   "cell_type": "code",
   "execution_count": null,
   "metadata": {},
   "outputs": [],
   "source": [
    "\n",
    "\n",
    "\n"
   ]
  },
  {
   "cell_type": "code",
   "execution_count": null,
   "metadata": {},
   "outputs": [],
   "source": [
    "camera_name = None\n",
    "\n",
    "tracks_files = []\n",
    "\n",
    "for date in ['16Nov', '17Nov']:\n",
    "\n",
    "    tracks_folder = os.path.join('.../kasanka-bats/processed', 'deep-learning', date) \n",
    "    frame_root_folder = '.../bat-videos/raw-falloff-validation-videos' \n",
    "\n",
    "    if camera_name:\n",
    "        tracks_files.extend(\n",
    "            glob.glob(os.path.join(tracks_folder, camera_name, 'raw_tracks.npy'))\n",
    "        )\n",
    "    else:\n",
    "        tracks_files.extend(\n",
    "            glob.glob(os.path.join(tracks_folder, '*/raw_tracks.npy'))\n",
    "        )"
   ]
  },
  {
   "cell_type": "code",
   "execution_count": null,
   "metadata": {},
   "outputs": [],
   "source": [
    "def check_track_crossing(track, frame_num, line_height):\n",
    "    \"\"\" Check is a given bat is crossing line in given frame.\n",
    "    Return -1 if coming back, 1 is leaving\n",
    "    \n",
    "    Track: track object\n",
    "    frame_num: frame to investigate\n",
    "    line_height: what counts as crossing\n",
    "    \"\"\"\n",
    "    if track['first_frame'] > frame_num:\n",
    "        # Not in frame\n",
    "        return 0\n",
    "    if track['first_frame'] + track['track'].shape[0] <= frame_num:\n",
    "        # track already gone\n",
    "        return 0\n",
    "    \n",
    "#     print(frame_num, track['first_frame'], track['track'].shape)\n",
    "    \n",
    "    rel_frame_num = frame_num - track['first_frame']\n",
    "    next_frame = np.min([rel_frame_num+1, track['track'].shape[0]-1])\n",
    "\n",
    "    if track['track'][rel_frame_num, 1] <= line_height:\n",
    "        # Could be coming back\n",
    "        if track['track'][next_frame, 1] > line_height:\n",
    "            # Is coming back\n",
    "            return -1 \n",
    "    if track['track'][rel_frame_num, 1] >= line_height:\n",
    "        # Could be leaving\n",
    "        if track['track'][next_frame, 1] < line_height:\n",
    "            # Is leaving\n",
    "            return 1\n",
    "    else:\n",
    "        return 0\n",
    "\n",
    "def draw_crossing_dots(frame, crossings, y_line_height):\n",
    "    \"\"\"Draw all the active crossing dots on given frame\"\"\"\n",
    "    \n",
    "    cv2.line(frame, (0, int(y_line_height)), (frame.shape[1], int(y_line_height)), (0,0,255), 1)\n",
    "    \n",
    "    next_crossings = [] # list of ones that will be drawn still in next frame\n",
    "    \n",
    "    for crossing in crossings:\n",
    "        if crossing['type'] == 'coming':\n",
    "            color = (0, 255, 255)\n",
    "        if crossing['type'] == 'going':\n",
    "            color = (255, 255, 0)\n",
    "        cv2.circle(frame, (int(crossing['position'][0]), int(crossing['position'][1])), crossing['life']*4, color, 2)\n",
    "            \n",
    "        crossing['life'] -= 1\n",
    "        if crossing['life'] > 0:\n",
    "            next_crossings.append(crossing)\n",
    "            \n",
    "    return frame, next_crossings\n",
    "\n",
    "def draw_all_dots(frame, frame_ind, tracks):\n",
    "    \"\"\"Draw all the active dots on given frame\"\"\"\n",
    "    \n",
    "    cmap = cm.get_cmap('hsv')\n",
    "    \n",
    "    num_colors = 30\n",
    "    \n",
    "    for track_ind, track in zip(np.arange(len(tracks))[::-1],tracks[::-1]):\n",
    "        if track['first_frame'] > frame_ind:\n",
    "            continue\n",
    "        if track['first_frame'] + track['track'].shape[0] <= frame_ind:\n",
    "            continue\n",
    "            \n",
    "        c = np.array(cmap((track_ind%num_colors)/num_colors))[:3] * 255\n",
    "        c = (int(c[0]), int(c[1]), int(c[2]))\n",
    "            \n",
    "        track_rel_frame = frame_ind - track['first_frame']\n",
    "        cv2.circle(frame, (int(track['track'][track_rel_frame, 0]), int(track['track'][track_rel_frame, 1])), \n",
    "                   3, c, -1)\n",
    "#         cv2.circle(frame, (int(track['track'][track_rel_frame, 0]), int(track['track'][track_rel_frame, 1])), \n",
    "#                    2, (c[0], c[1], c[2]), -1)\n",
    "\n",
    "            \n",
    "    return frame\n",
    "            \n",
    "    \n",
    "def create_clip(frame_files, tracks, first_frame, line_height, output_file, \n",
    "                scale=False, draw_padding_box=False):\n",
    "    \n",
    "    dot_life = 5 # how many frames to show crossing dots for\n",
    "    padding_shift = 48\n",
    "    \n",
    "    demo_frame = cv2.imread(frame_files[0])\n",
    "    if raw:\n",
    "        out = cv2.VideoWriter(output_file, \n",
    "                          cv2.VideoWriter_fourcc(*'mp4v'), \n",
    "                          30, \n",
    "                          (demo_frame.shape[1]-2*padding_shift, \n",
    "                           demo_frame.shape[0]-2*padding_shift\n",
    "                          )\n",
    "                         )\n",
    "    else: \n",
    "        out = cv2.VideoWriter(output_file, \n",
    "                              cv2.VideoWriter_fourcc(*'mp4v'), \n",
    "                              30, \n",
    "                              (demo_frame.shape[1], demo_frame.shape[0])\n",
    "                             )\n",
    "    \n",
    "    crossings = []\n",
    "    \n",
    "    line_height = line_height * demo_frame.shape[0]\n",
    "    \n",
    "    for frame_num, file in enumerate(frame_files):\n",
    "        frame = cv2.imread(file)\n",
    "        if tracks is None:\n",
    "            # Just make raw video\n",
    "            out.write(frame[padding_shift:-padding_shift, padding_shift:-padding_shift])\n",
    "            continue\n",
    "            \n",
    "        if scale:\n",
    "            frame = frame.astype(float) / np.max(frame)\n",
    "            frame *= 255\n",
    "            frame = frame.astype(np.uint8)\n",
    "        for track in tracks:\n",
    "            crossing = check_track_crossing(track, first_frame+frame_num, line_height)\n",
    "            if crossing == -1:\n",
    "                crossings.append({'position': track['track'][first_frame+frame_num-track['first_frame']],\n",
    "                                  'life': dot_life,\n",
    "                                  'type': 'coming'})\n",
    "            if crossing == 1:\n",
    "                crossings.append({'position': track['track'][first_frame+frame_num-track['first_frame']],\n",
    "                                  'life': dot_life,\n",
    "                                  'type': 'going'})\n",
    "        frame = draw_all_dots(frame, frame_num+first_frame, tracks)\n",
    "\n",
    "        frame, crossings = draw_crossing_dots(frame, crossings, line_height)\n",
    "        \n",
    "        if draw_padding_box:\n",
    "            \n",
    "            frame_height = frame.shape[0]\n",
    "            frame_width = frame.shape[1]\n",
    "            cv2.line(frame, \n",
    "                     (padding_shift, padding_shift), \n",
    "                     (padding_shift, frame_height - padding_shift), \n",
    "                     (255, 255, 255), \n",
    "                     1)\n",
    "            cv2.line(frame, \n",
    "                     (padding_shift, frame_height - padding_shift), \n",
    "                     (frame_width - padding_shift, frame_height - padding_shift), \n",
    "                     (255, 255, 255), \n",
    "                     1)\n",
    "            cv2.line(frame, \n",
    "                     (frame_width - padding_shift, frame_height - padding_shift), \n",
    "                     (frame_width - padding_shift, padding_shift), \n",
    "                     (255, 255, 255), \n",
    "                     1)\n",
    "            cv2.line(frame, \n",
    "                     (frame_width - padding_shift, padding_shift), \n",
    "                     (padding_shift, padding_shift), \n",
    "                     (255, 255, 255), \n",
    "                     1)\n",
    "            \n",
    "            cv2.line(frame, \n",
    "                     (int(frame_width / 3), 0), \n",
    "                     (int(frame_width / 3), frame_height), \n",
    "                     (255, 255, 255), \n",
    "                     1)\n",
    "            cv2.line(frame, \n",
    "                     (int(2*frame_width / 3), 0), \n",
    "                     (int(2*frame_width / 3), frame_height), \n",
    "                     (255, 255, 255), \n",
    "                     1)\n",
    "        \n",
    "                \n",
    "        out.write(frame)\n",
    "    out.release()"
   ]
  },
  {
   "cell_type": "code",
   "execution_count": null,
   "metadata": {},
   "outputs": [],
   "source": [
    "# tracks_files = tracks_files[:2] + tracks_files[3:]\n",
    "tracks_files"
   ]
  },
  {
   "cell_type": "code",
   "execution_count": null,
   "metadata": {},
   "outputs": [],
   "source": [
    "observation_name = 'FibwePublic'\n",
    "frame_files = sorted(glob.glob(os.path.join(frame_root_folder, observation_name, '*/*.jpg')))\n",
    "len(frame_files)"
   ]
  },
  {
   "cell_type": "code",
   "execution_count": null,
   "metadata": {},
   "outputs": [],
   "source": [
    "positions_file = f'.../kasanka-bats/processed/deep-learning/{date}/{observation_name}/centers.npy'\n",
    "positions = np.load(positions_file, allow_pickle=True)"
   ]
  },
  {
   "cell_type": "code",
   "execution_count": null,
   "metadata": {},
   "outputs": [],
   "source": [
    "len(frame_files)\n",
    "frame_files = frame_files"
   ]
  },
  {
   "cell_type": "code",
   "execution_count": null,
   "metadata": {},
   "outputs": [],
   "source": [
    "len(frame_files) - len(positions)\n",
    "# len(positions)\n",
    "# frame_files = frame_files[len(frame_files) - len(positions):]"
   ]
  },
  {
   "cell_type": "code",
   "execution_count": null,
   "metadata": {},
   "outputs": [],
   "source": [
    "frame_ind = 55000\n",
    "plt.figure(figsize=(20,20))\n",
    "plt.imshow(plt.imread(frame_files[frame_ind]))\n",
    "# rel_ind = frame_ind - (len(frame_files) - len(positions))\n",
    "plt.scatter(positions[frame_ind][:,0], positions[frame_ind][:,1], s=3, c='r')"
   ]
  },
  {
   "cell_type": "code",
   "execution_count": null,
   "metadata": {},
   "outputs": [],
   "source": [
    "# frame_files[-100:]"
   ]
  },
  {
   "cell_type": "code",
   "execution_count": null,
   "metadata": {},
   "outputs": [],
   "source": [
    "tracks = np.load(tracks_files[5], allow_pickle=True)"
   ]
  },
  {
   "cell_type": "code",
   "execution_count": null,
   "metadata": {},
   "outputs": [],
   "source": [
    "frame_ind = 5000\n",
    "plt.figure(figsize=(20,20))\n",
    "plt.imshow(plt.imread(frame_files[frame_ind]))\n",
    "for t in tracks:\n",
    "    if t['first_frame'] < frame_ind:\n",
    "        if t['last_frame'] > frame_ind:\n",
    "            rel_ind = frame_ind - t['first_frame']\n",
    "            plt.scatter(t['track'][rel_ind, 0], t['track'][rel_ind, 1], s=1)"
   ]
  },
  {
   "cell_type": "code",
   "execution_count": null,
   "metadata": {},
   "outputs": [],
   "source": [
    "frame = plt.imread(frame_files[0])\n",
    "frame_width = frame.shape[1]\n",
    "frame_height = frame.shape[0]\n",
    "cv2.line(frame, \n",
    "                     (int(frame_width / 3), 0), \n",
    "                     (int(frame_width / 3), frame_height), \n",
    "                     (255, 255, 255), \n",
    "                     1)\n",
    "plt.imshow(frame)"
   ]
  },
  {
   "cell_type": "code",
   "execution_count": null,
   "metadata": {},
   "outputs": [],
   "source": [
    "tracks_files[:1]"
   ]
  },
  {
   "cell_type": "code",
   "execution_count": null,
   "metadata": {},
   "outputs": [],
   "source": [
    "clip_time = 7 # in seconds (30fps)\n",
    "\n",
    "raw = True\n",
    "\n",
    "for track_ind, track_file in enumerate(tracks_files[1:]):\n",
    "#     if 'FibweParking2' in track_file:\n",
    "#         continue\n",
    "\n",
    "    if track_ind % 5 == 0:\n",
    "        print(f'{track_ind} observations proccesed')\n",
    "    observation_name = track_file.split('/')[-2]\n",
    "    date = track_file.split('/')[-3]\n",
    "    frame_files = sorted(glob.glob(os.path.join(frame_root_folder, date, \n",
    "                                                observation_name, '*/*.jpg')))\n",
    "#     frame_files = frame_files[805:]\n",
    "    line_height = .5\n",
    "    \n",
    "    output_folder = os.path.join(root_output_folder, date, observation_name)\n",
    "    os.makedirs(output_folder, exist_ok=True)\n",
    "    \n",
    "    \n",
    "    accumulation = observations[date][observation_name]['accumulation']\n",
    "    accumulation_percent = accumulation / accumulation[-1]\n",
    "    plt.figure()\n",
    "    plt.plot(accumulation_percent)\n",
    "    first_frames = []\n",
    "    for percentile in percentiles:\n",
    "        obs_ind = np.argmax(accumulation_percent > percentile)\n",
    "        plt.scatter(obs_ind, accumulation_percent[obs_ind])\n",
    "        first_frames.append(obs_ind)\n",
    "    plt.title(f'{observation_name}')\n",
    "    \n",
    "#     first_frames = np.linspace(0, len(frame_files) - clip_time*30-1, num=6, endpoint=True, dtype=int)\n",
    "    if raw:\n",
    "        tracks = None\n",
    "    else:\n",
    "        tracks = np.load(track_file, allow_pickle=True)\n",
    "    \n",
    "    for clip_num, first_frame in enumerate(first_frames[:]):\n",
    "        last_frame = first_frame + int(30 * clip_time)\n",
    "        video_file = os.path.join(output_folder, 'test-camera-{}-clip-{}-firstframe-{}-cliptime-{}-scaled.mp4'.format(\n",
    "            observation_name, clip_num, first_frame, clip_time))\n",
    "        if raw:\n",
    "            create_clip(frame_files[first_frame:last_frame], tracks, \n",
    "                        first_frame, line_height, video_file, scale=True,\n",
    "                        draw_padding_box=False)\n",
    "        else:\n",
    "            create_clip(frame_files[first_frame:last_frame], tracks, \n",
    "                        first_frame, line_height, video_file, scale=True,\n",
    "                        draw_padding_box=True)\n",
    "        "
   ]
  },
  {
   "cell_type": "code",
   "execution_count": null,
   "metadata": {},
   "outputs": [],
   "source": [
    "import pandas as pd"
   ]
  },
  {
   "cell_type": "code",
   "execution_count": null,
   "metadata": {},
   "outputs": [],
   "source": [
    "video_files = sorted(\n",
    "    glob.glob(os.path.join(root_output_folder, '*', '*'))\n",
    ")\n",
    "print(*video_files[:10], sep='\\n')"
   ]
  },
  {
   "cell_type": "code",
   "execution_count": null,
   "metadata": {},
   "outputs": [],
   "source": [
    "filenames = [os.path.basename(f) for f in video_files]\n",
    "validation_df = pd.DataFrame({'date-folder': date,\n",
    "                              'video-clip-name': filenames,\n",
    "                              })\n",
    "validation_df['number-missed-detections-going'] = None\n",
    "validation_df['number-missed-detections-coming'] = None\n",
    "validation_df['number-false-detections-going(blue)'] = None\n",
    "validation_df['number-false-detections-coming(yellow)'] = None\n",
    "validation_df['name-of-checker'] = None\n",
    "validation_df['notes'] = None"
   ]
  },
  {
   "cell_type": "code",
   "execution_count": null,
   "metadata": {},
   "outputs": [],
   "source": [
    "save_folder = '.../bat-videos/new-method-fall-off'\n",
    "file_name = 'falloff-validation-17Nov.csv'\n",
    "validation_df.to_csv(os.path.join(save_folder, file_name), index=False)\n",
    "validation_df"
   ]
  },
  {
   "cell_type": "code",
   "execution_count": null,
   "metadata": {},
   "outputs": [],
   "source": [
    "type(plt.imread(frame_files[0])[0,0,0])"
   ]
  },
  {
   "cell_type": "code",
   "execution_count": null,
   "metadata": {},
   "outputs": [],
   "source": [
    "import matplotlib.cm as cm\n",
    "\n",
    "cmap = cm.get_cmap('hsv')\n",
    "c = np.array(cmap(.01))[:3] * 255\n",
    "c = tuple(c.astype(int))\n",
    "type(c[0])"
   ]
  },
  {
   "cell_type": "code",
   "execution_count": null,
   "metadata": {},
   "outputs": [],
   "source": [
    "image = cv2.imread(frame_files[20000])\n",
    "\n",
    "frame = draw_all_dots(image, 20000, tracks)"
   ]
  },
  {
   "cell_type": "code",
   "execution_count": null,
   "metadata": {},
   "outputs": [],
   "source": [
    "cv2.imshow('frame', frame)\n",
    "cv2.waitKey(0)\n",
    "cv2.destroyAllWindows()"
   ]
  },
  {
   "cell_type": "code",
   "execution_count": null,
   "metadata": {},
   "outputs": [],
   "source": [
    "c = (255,0,255)\n",
    "type(c[0])"
   ]
  },
  {
   "cell_type": "code",
   "execution_count": null,
   "metadata": {},
   "outputs": [],
   "source": []
  }
 ],
 "metadata": {
  "kernelspec": {
   "display_name": "Python 3",
   "language": "python",
   "name": "python3"
  },
  "language_info": {
   "codemirror_mode": {
    "name": "ipython",
    "version": 3
   },
   "file_extension": ".py",
   "mimetype": "text/x-python",
   "name": "python",
   "nbconvert_exporter": "python",
   "pygments_lexer": "ipython3",
   "version": "3.8.10"
  }
 },
 "nbformat": 4,
 "nbformat_minor": 4
}
