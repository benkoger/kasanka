{
 "cells": [
  {
   "cell_type": "code",
   "execution_count": null,
   "metadata": {},
   "outputs": [],
   "source": [
    "%load_ext line_profiler"
   ]
  },
  {
   "cell_type": "code",
   "execution_count": null,
   "metadata": {},
   "outputs": [],
   "source": [
    "import numpy as np\n",
    "import os\n",
    "import glob \n",
    "import matplotlib.pyplot as plt"
   ]
  },
  {
   "cell_type": "code",
   "execution_count": null,
   "metadata": {},
   "outputs": [],
   "source": [
    "all_observation_folders = glob.glob(\n",
    "    '.../kasanka-bats/processed/deep-learning/16Nov/*')\n",
    "observation_folders = []\n",
    "for folder in all_observation_folders:\n",
    "    if not os.path.exists(os.path.join(folder, 'raw_tracks.npy')):\n",
    "        observation_folders.append(folder)\n",
    "print('Folders to use:')\n",
    "print(*observation_folders, sep='\\n')"
   ]
  },
  {
   "cell_type": "code",
   "execution_count": null,
   "metadata": {},
   "outputs": [],
   "source": [
    "observation_folders = all_observation_folders\n",
    "print(len(observation_folders))"
   ]
  },
  {
   "cell_type": "code",
   "execution_count": null,
   "metadata": {},
   "outputs": [],
   "source": [
    "def combine_overlapping_tracks(observation_folder, first_group=0, last_group=None, save=False):\n",
    "    track_files = glob.glob(os.path.join(observation_folder, 'first_frame*.npy'))\n",
    "    track_files = sorted(track_files, key=lambda f: int(f.split('_')[-6]))\n",
    "\n",
    "    track_groups = []\n",
    "    for file in track_files:\n",
    "        track_groups.append(np.load(file, allow_pickle=True))\n",
    "        \n",
    "        \n",
    "    for track_file in track_files:\n",
    "        print(os.path.basename(track_file))\n",
    "        \n",
    "    first_overlap_frames = [int(f.split('_')[-6]) for f in track_files[1:]]\n",
    "    first_overlap_frames.append(None)\n",
    "    print(first_overlap_frames)\n",
    "        \n",
    "    all_tracks = []\n",
    "\n",
    "    total_tracks = 0\n",
    "    for group_ind, track_group in enumerate(track_groups[first_group:last_group]):\n",
    "        if group_ind >= len(track_groups) -1:\n",
    "            for track in track_group:\n",
    "                if type(track['track']) == list:\n",
    "                    track['track'] = np.stack(track['track'])\n",
    "                    track['pos_index'] = np.stack(track['pos_index'])\n",
    "                    if 'size' in track:\n",
    "                        track['size'] = np.stack(track['size'])\n",
    "                all_tracks.append(track)\n",
    "            total_tracks += len(track_group)\n",
    "            break\n",
    "\n",
    "        for track_ind, track in enumerate(track_group):\n",
    "            if track['first_frame'] < first_overlap_frames[first_group + group_ind]:\n",
    "                all_tracks.append(track)\n",
    "\n",
    "\n",
    "    all_tracks_file = os.path.join(observation_folder, 'raw_tracks.npy')\n",
    "    if save:\n",
    "        np.save(all_tracks_file, all_tracks)\n",
    "        print('saved')"
   ]
  },
  {
   "cell_type": "code",
   "execution_count": null,
   "metadata": {},
   "outputs": [],
   "source": [
    "for folder in observation_folders:\n",
    "    combine_overlapping_tracks(folder, save=True)"
   ]
  },
  {
   "cell_type": "code",
   "execution_count": null,
   "metadata": {},
   "outputs": [],
   "source": [
    "def combine_overlapping_tracks(observation_folder, first_group=0, last_group=None, save=False):\n",
    "    track_files = glob.glob(os.path.join(observation_folder, 'first_frame*.npy'))\n",
    "    track_files = sorted(track_files, key=lambda f: int(f.split('_')[-6]))\n",
    "\n",
    "    track_groups = []\n",
    "    for file in track_files:\n",
    "        track_groups.append(np.load(file, allow_pickle=True))\n",
    "        \n",
    "        \n",
    "    for track_file in track_files:\n",
    "        print(os.path.basename(track_file))\n",
    "        \n",
    "    first_overlap_frames = [int(f.split('_')[-6]) for f in track_files[1:]]\n",
    "    first_overlap_frames.append(None)\n",
    "    print(first_overlap_frames)\n",
    "        \n",
    "    all_tracks = []\n",
    "    track_pairs = []\n",
    "    not_found = []\n",
    "    not_found_no_ff = []\n",
    "    found = 0\n",
    "    count = 0\n",
    "    \n",
    "    num_overlappingg = 0\n",
    "\n",
    "    issue = 0\n",
    "\n",
    "    total_tracks = 0\n",
    "    for group_ind, track_group in enumerate(track_groups[first_group:last_group]):\n",
    "        if group_ind >= len(track_groups) -1:\n",
    "            for track in track_group:\n",
    "                if type(track['track']) == list:\n",
    "                    track['track'] = np.stack(track['track'])\n",
    "                    track['pos_index'] = np.stack(track['pos_index'])\n",
    "                    if 'size' in track:\n",
    "                        track['size'] = np.stack(track['size'])\n",
    "                all_tracks.append(track)\n",
    "            total_tracks += len(track_group)\n",
    "            break\n",
    "        total_tracks += len(track_group)\n",
    "        \n",
    "        sorted_tracks = sorted(track_group, key=lambda t: t['first_frame'])\n",
    "        \n",
    "        alt_track_group = track_groups[first_group + group_ind + 1]\n",
    "        alt_sorted_tracks, ff_val, ff_map, ff_numtracks  = sort_alt_tracks(alt_track_group)\n",
    "        ff_ind = 0\n",
    "        for track_ind, track in enumerate(sorted_tracks):\n",
    "            if type(track['track']) == list:\n",
    "                issue += 1\n",
    "            if track['first_frame'] < first_overlap_frames[first_group + group_ind]:\n",
    "                all_tracks.append(track)\n",
    "            else:\n",
    "                num_overlapping += 1\n",
    "                if track['first_frame'] > ff_val[ff_ind]:\n",
    "                    while track['first_frame'] > ff_val[ff_ind]:\n",
    "                        ff_ind += 1\n",
    "                        \n",
    "                if track['first_frame'] < ff_val[ff_ind]:\n",
    "                    all_tracks.append(track)\n",
    "                    not_found_no_ff.append(track)\n",
    "                    continue\n",
    "                    \n",
    "                if track['first_frame'] == ff_val[ff_ind]:\n",
    "                    searching = True\n",
    "                    for alt_track in alt_sorted_tracks[ff_map[ff_ind]:ff_map[ff_ind]+ff_numtracks[ff_ind]]:\n",
    "                        if np.all(alt_track['track'][0] == track['track'][0]):\n",
    "                            count += 1\n",
    "                            track_pairs.append([track, alt_track])\n",
    "                            searching = False\n",
    "                            break \n",
    "                    if searching:\n",
    "                        all_tracks.append(track)\n",
    "                        not_found.append(track)\n",
    "\n",
    "\n",
    "    print(f'{len(track_pairs)} track pairs. {len(not_found)} unmatched. {len(not_found_no_ff)} not sharing a first_frame')\n",
    "    \n",
    "    return not_found, not_found_no_ff\n",
    "\n",
    "    all_tracks_file = os.path.join(observation_folder, 'raw_tracks.npy')\n",
    "    if save:\n",
    "        np.save(all_tracks_file, all_tracks)\n",
    "        print('saved')\n",
    "    print(f'{issue} issue tracks')\n",
    "    "
   ]
  },
  {
   "cell_type": "code",
   "execution_count": null,
   "metadata": {},
   "outputs": [],
   "source": [
    "def sort_alt_tracks(track_group):\n",
    "    sorted_tracks = sorted(track_group, key=lambda t: t['first_frame'])\n",
    "    # For each first frame ind, give the ind of the first track \n",
    "    # with that first  frame value\n",
    "    lowest_firstframe = sorted_tracks[0]['first_frame']\n",
    "    highest_firstframe = sorted_tracks[-1]['first_frame']\n",
    "    firstframe_map = []\n",
    "    firstframe_numtracks = []\n",
    "    firstframe_val = []\n",
    "    curr_track_ind = 0\n",
    "    for firstframe in range(lowest_firstframe, highest_firstframe):\n",
    "        assert sorted_tracks[curr_track_ind]['first_frame'] >= firstframe, \"Check if first_overlap_frame is correct\"\n",
    "        if sorted_tracks[curr_track_ind]['first_frame'] == firstframe:\n",
    "            firstframe_map.append(curr_track_ind)\n",
    "            firstframe_val.append(firstframe)\n",
    "            num_tracks = 0\n",
    "            while sorted_tracks[curr_track_ind]['first_frame'] == firstframe:\n",
    "                # skip all tracks with same first frame\n",
    "                curr_track_ind += 1\n",
    "                num_tracks += 1\n",
    "            firstframe_numtracks.append(num_tracks)\n",
    "            \n",
    "    return sorted_tracks, firstframe_val, firstframe_map, firstframe_numtracks\n",
    "                \n",
    "    "
   ]
  },
  {
   "cell_type": "code",
   "execution_count": null,
   "metadata": {},
   "outputs": [],
   "source": [
    "observation_folder = observation_folders[0]\n",
    "track_files = glob.glob(os.path.join(observation_folder, 'first_frame*.npy'))\n",
    "track_files = sorted(track_files, key=lambda f: int(f.split('_')[-6]))\n",
    "for track_file in track_files:\n",
    "    print(os.path.basename(track_file))\n",
    "\n",
    "track_groups = []\n",
    "for file in track_files[0:]:\n",
    "    track_groups.append(np.load(file, allow_pickle=True))  "
   ]
  },
  {
   "cell_type": "code",
   "execution_count": null,
   "metadata": {},
   "outputs": [],
   "source": []
  },
  {
   "cell_type": "code",
   "execution_count": null,
   "metadata": {},
   "outputs": [],
   "source": [
    "# for val, track_ind, num_tracks in zip(ff_val, ff_map, ff_numtracks):\n",
    "#     ffs = []\n",
    "#     for ind in range(track_ind, track_ind + num_tracks):\n",
    "#         ffs.append(sorted_tracks[ind]['first_frame'])\n",
    "#     print(f'val: {val}', ffs)"
   ]
  },
  {
   "cell_type": "code",
   "execution_count": null,
   "metadata": {},
   "outputs": [],
   "source": [
    "# not_found[0]"
   ]
  },
  {
   "cell_type": "code",
   "execution_count": null,
   "metadata": {},
   "outputs": [],
   "source": [
    "not_found, not_found_no_ff = combine_overlapping_tracks(observation_folders[0], first_group=0, last_group=7, save=False)"
   ]
  },
  {
   "cell_type": "code",
   "execution_count": null,
   "metadata": {},
   "outputs": [],
   "source": [
    "%lprun -f combine_overlapping_tracks combine_overlapping_tracks(observation_folders[0], first_group=0, last_group=None, save=False)"
   ]
  },
  {
   "cell_type": "code",
   "execution_count": null,
   "metadata": {},
   "outputs": [],
   "source": [
    "for observation_folder in observation_folders:\n",
    "    "
   ]
  },
  {
   "cell_type": "code",
   "execution_count": null,
   "metadata": {},
   "outputs": [],
   "source": [
    "track_files"
   ]
  },
  {
   "cell_type": "code",
   "execution_count": null,
   "metadata": {},
   "outputs": [],
   "source": [
    "for file in track_files:\n",
    "    try:\n",
    "        print(os.path.basename(file))\n",
    "        track_groups = np.load(file, allow_pickle=True) \n",
    "    except:\n",
    "        print('failed.')"
   ]
  },
  {
   "cell_type": "code",
   "execution_count": null,
   "metadata": {},
   "outputs": [],
   "source": [
    "track_groups = []\n",
    "for file in track_files[0:]:\n",
    "    track_groups.append(np.load(file, allow_pickle=True))"
   ]
  },
  {
   "cell_type": "code",
   "execution_count": null,
   "metadata": {},
   "outputs": [],
   "source": [
    "for track_group in track_groups:\n",
    "    print(len(track_group))"
   ]
  },
  {
   "cell_type": "code",
   "execution_count": null,
   "metadata": {},
   "outputs": [],
   "source": [
    "\n",
    "print(first_overlap_frames)"
   ]
  },
  {
   "cell_type": "code",
   "execution_count": null,
   "metadata": {},
   "outputs": [],
   "source": [
    "track_group[0]"
   ]
  },
  {
   "cell_type": "code",
   "execution_count": null,
   "metadata": {},
   "outputs": [],
   "source": [
    "issue = 0\n",
    "track_issue = 0\n",
    "\n",
    "first_group = 0\n",
    "last_group = None\n",
    "\n",
    "for track_group in track_groups:\n",
    "    for i, alt_track in enumerate(track_group):\n",
    "        if type(alt_track['track']) == list:\n",
    "            issue += 1\n",
    "            \n",
    "for group_ind, track_group in enumerate(track_groups[first_group:last_group]):\n",
    "#     if group_ind >= len(track_groups) -1:\n",
    "#         break\n",
    "    for track_ind, track in enumerate(track_group):\n",
    "        if type(track['track']) == list:\n",
    "            track_issue += 1\n",
    "print(issue, track_issue)"
   ]
  },
  {
   "cell_type": "code",
   "execution_count": null,
   "metadata": {},
   "outputs": [],
   "source": [
    "all_tracks = []\n",
    "track_pairs = []\n",
    "not_found = []\n",
    "found = 0\n",
    "count = 0\n",
    "\n",
    "issue=0\n",
    "first_group = 0\n",
    "last_group = None\n",
    "total_tracks = 0\n",
    "for group_ind, track_group in enumerate(track_groups[first_group:last_group]):\n",
    "    if group_ind >= len(track_groups) -1:\n",
    "        for track in track_group:\n",
    "            if type(track['track']) == list:\n",
    "                track['track'] = np.stack(track['track'])\n",
    "                track['pos_index'] = np.stack(track['pos_index'])\n",
    "                if 'size' in track:\n",
    "                    track['size'] = np.stack(track['size'])\n",
    "            all_tracks.append(track)\n",
    "        total_tracks += len(track_group)\n",
    "        break\n",
    "    total_tracks += len(track_group)\n",
    "    for track_ind, track in enumerate(track_group):\n",
    "        duplicate = False\n",
    "        if track['first_frame'] > first_overlap_frames[first_group + group_ind]:\n",
    "            looking = True\n",
    "            for alt_track in track_groups[first_group + group_ind + 1]:\n",
    "                if type(track['track']) == list:\n",
    "                    issue += 1\n",
    "                if alt_track['first_frame'] == track['first_frame']:\n",
    "                    if np.all(alt_track['track'][0] == track['track'][0]):\n",
    "                        if type(alt_track['track']) == list:\n",
    "                            alt_track['track'] = np.stack(alt_track['track'])\n",
    "                            alt_track['pos_index'] = np.stack(alt_track['pos_index'])\n",
    "                            if 'size' in alt_track:\n",
    "                                alt_track['size'] = np.stack(alt_track['size'])\n",
    "                        count += 1\n",
    "                        track_pairs.append([track, alt_track])\n",
    "                        looking = False\n",
    "                        duplicate = True\n",
    "                        break\n",
    "            if looking:\n",
    "                not_found.append(track)\n",
    "        if not duplicate:\n",
    "            all_tracks.append(track)\n",
    "                \n",
    "print(f'{len(track_pairs)} track pairs. {len(not_found)} unmatched.')\n",
    "\n",
    "all_tracks_file = os.path.join(observation_folder, 'raw_tracks.npy')\n",
    "np.save(all_tracks_file, all_tracks)"
   ]
  },
  {
   "cell_type": "code",
   "execution_count": null,
   "metadata": {},
   "outputs": [],
   "source": [
    "print(issue)"
   ]
  },
  {
   "cell_type": "code",
   "execution_count": null,
   "metadata": {},
   "outputs": [],
   "source": [
    "print(total_tracks, len(track_pairs) + len(all_tracks))\n",
    "print(len(all_tracks))"
   ]
  },
  {
   "cell_type": "code",
   "execution_count": null,
   "metadata": {},
   "outputs": [],
   "source": [
    "all_tracks_file = os.path.join(observation_folder, 'raw_tracks.npy')\n",
    "np.save(all_tracks_file, all_tracks)"
   ]
  },
  {
   "cell_type": "code",
   "execution_count": null,
   "metadata": {},
   "outputs": [],
   "source": [
    "off = 0\n",
    "for t in not_found:\n",
    "    if len(t['track']) != 1:\n",
    "        off += 1\n",
    "print(off)"
   ]
  },
  {
   "cell_type": "code",
   "execution_count": null,
   "metadata": {},
   "outputs": [],
   "source": [
    "inds_off = []\n",
    "for track_ind, track in enumerate(all_tracks):\n",
    "    if type(track['track']) == list:\n",
    "        inds_off.append(track_ind)"
   ]
  },
  {
   "cell_type": "code",
   "execution_count": null,
   "metadata": {},
   "outputs": [],
   "source": [
    "inds_off = []\n",
    "for track_ind, track in enumerate(track_pairs):\n",
    "    if type(track[1]['track']) == list:\n",
    "        inds_off.append(track_ind)"
   ]
  },
  {
   "cell_type": "code",
   "execution_count": null,
   "metadata": {},
   "outputs": [],
   "source": [
    "len(inds_off)"
   ]
  },
  {
   "cell_type": "code",
   "execution_count": null,
   "metadata": {},
   "outputs": [],
   "source": [
    "drawn = 0\n",
    "max_draw = 10\n",
    "for pair in track_pairs[5000:]:\n",
    "    if len(pair[0]['track']) != len(pair[1]['track']):\n",
    "        print(len(pair[0]['track']), len(pair[1]['track']))\n",
    "        if drawn < max_draw:\n",
    "            plt.figure()\n",
    "            plt.scatter(pair[0]['track'][:,0], pair[0]['track'][:,1], s=50)\n",
    "            plt.scatter(np.stack(pair[1]['track'])[:,0], np.stack(pair[1]['track'])[:,1], s=10, c='r')\n",
    "            drawn += 1"
   ]
  },
  {
   "cell_type": "code",
   "execution_count": null,
   "metadata": {},
   "outputs": [],
   "source": [
    "track_pairs[-1][0]['last_frame']"
   ]
  },
  {
   "cell_type": "code",
   "execution_count": null,
   "metadata": {},
   "outputs": [],
   "source": [
    "frame_files = os.path.join(observation_folder, 'example-frames', '*.jpg')\n",
    "frame_files = sorted(glob.glob(frame_files), key=lambda f: int(f.split('.')[-2].split('_')[-1]))"
   ]
  },
  {
   "cell_type": "code",
   "execution_count": null,
   "metadata": {},
   "outputs": [],
   "source": [
    "import matplotlib.pyplot as plt\n",
    "\n",
    "example_ind = 24\n",
    "frame_file = frame_files[example_ind]\n",
    "obs_ind = int(frame_file.split('.')[-2].split('_')[-1])\n",
    "plt.figure(figsize=(20,20))\n",
    "plt.imshow(plt.imread(frame_file))\n",
    "plt.scatter(48+centers[obs_ind][:, 0], 48+centers[obs_ind][:, 1])"
   ]
  },
  {
   "cell_type": "code",
   "execution_count": null,
   "metadata": {},
   "outputs": [],
   "source": [
    "points = [c.shape[0] for c in centers]"
   ]
  },
  {
   "cell_type": "code",
   "execution_count": null,
   "metadata": {},
   "outputs": [],
   "source": [
    "first_issue_frame = 17718\n",
    "last_issue_frame = 32659"
   ]
  },
  {
   "cell_type": "code",
   "execution_count": null,
   "metadata": {},
   "outputs": [],
   "source": [
    "ff = 17719\n",
    "x=np.argmin(points[ff:ff+15000])+ff"
   ]
  },
  {
   "cell_type": "code",
   "execution_count": null,
   "metadata": {},
   "outputs": [],
   "source": [
    "plt.plot(points[first_issue_frame-1:last_issue_frame+2], marker='.')"
   ]
  },
  {
   "cell_type": "code",
   "execution_count": null,
   "metadata": {},
   "outputs": [],
   "source": [
    "centers_file = os.path.join(observation_folder, 'centers.npy')"
   ]
  },
  {
   "cell_type": "code",
   "execution_count": null,
   "metadata": {},
   "outputs": [],
   "source": [
    "centers = np.load(centers_file, allow_pickle=True)"
   ]
  },
  {
   "cell_type": "code",
   "execution_count": null,
   "metadata": {},
   "outputs": [],
   "source": [
    "for ind in range(first_issue_frame, last_issue_frame + 1):\n",
    "    centers[ind] = np.copy(centers[5543])\n"
   ]
  },
  {
   "cell_type": "code",
   "execution_count": null,
   "metadata": {},
   "outputs": [],
   "source": [
    "centers_shape = [c.shape[0] for c in centers]"
   ]
  },
  {
   "cell_type": "code",
   "execution_count": null,
   "metadata": {},
   "outputs": [],
   "source": [
    "plt.plot(centers_shape)"
   ]
  },
  {
   "cell_type": "code",
   "execution_count": null,
   "metadata": {},
   "outputs": [],
   "source": [
    "np.save(centers_file, centers)"
   ]
  },
  {
   "cell_type": "code",
   "execution_count": null,
   "metadata": {},
   "outputs": [],
   "source": []
  },
  {
   "cell_type": "code",
   "execution_count": null,
   "metadata": {},
   "outputs": [],
   "source": []
  }
 ],
 "metadata": {
  "kernelspec": {
   "display_name": "Python 3",
   "language": "python",
   "name": "python3"
  },
  "language_info": {
   "codemirror_mode": {
    "name": "ipython",
    "version": 3
   },
   "file_extension": ".py",
   "mimetype": "text/x-python",
   "name": "python",
   "nbconvert_exporter": "python",
   "pygments_lexer": "ipython3",
   "version": "3.8.10"
  }
 },
 "nbformat": 4,
 "nbformat_minor": 4
}
