{
 "cells": [
  {
   "cell_type": "code",
   "execution_count": null,
   "metadata": {},
   "outputs": [],
   "source": [
    "import numpy as np\n",
    "import os\n",
    "import glob\n",
    "import matplotlib.cm as cm\n",
    "import cv2\n",
    "import pandas as pd\n",
    "import matplotlib.pyplot as plt\n",
    "import sys\n",
    "\n",
    "sys.path.append('.../Dropbox/bats-code')\n",
    "\n",
    "from bat_functions import draw_tracks_on_frame"
   ]
  },
  {
   "cell_type": "code",
   "execution_count": null,
   "metadata": {},
   "outputs": [],
   "source": [
    "def is_in_padding(position, padding, frame_width):\n",
    "    \"\"\" Check if the point is in the part of the frame\n",
    "        that the NN doesn't see because no padding used.\n",
    "        \n",
    "    position: (x, y)\n",
    "    padding: int,  how much the image edge isn't seen\n",
    "    \"\"\"\n",
    "    \n",
    "    if position[0] < padding:\n",
    "        return True\n",
    "    elif position[0] > frame_width - padding:\n",
    "        return True\n",
    "    else:\n",
    "        return False\n",
    "\n",
    "def check_track_crossing(track, frame_num, line_height, frame_width, padding):\n",
    "    \"\"\" Check is a given bat is crossing line in given frame.\n",
    "    Return -1 if coming back, 1 is leaving\n",
    "    \n",
    "    Track: track object\n",
    "    frame_num: frame to investigate\n",
    "    line_height: what counts as crossing\n",
    "    frame_width: width of frame\n",
    "    padding: how much of the border of image does NN method miss\n",
    "    \"\"\"\n",
    "    if track['first_frame'] > frame_num:\n",
    "        # Not in frame\n",
    "        return 0\n",
    "    if track['first_frame'] + track['track'].shape[0] <= frame_num:\n",
    "        # track already gone\n",
    "        return 0\n",
    "    \n",
    "    rel_frame_num = frame_num - track['first_frame']\n",
    "    next_frame = rel_frame_num + 1\n",
    "    \n",
    "    if next_frame >= track['track'].shape[0]:\n",
    "        # Track ends on this frame\n",
    "        return 0 \n",
    "\n",
    "    if track['track'][rel_frame_num, 1] <= line_height:\n",
    "        # Could be coming back\n",
    "        if track['track'][next_frame, 1] > line_height:\n",
    "            # Is coming back\n",
    "            if is_in_padding(track['track'][next_frame], \n",
    "                             padding, frame_width):\n",
    "                return 0\n",
    "            return -1 \n",
    "    if track['track'][rel_frame_num, 1] >= line_height:\n",
    "        # Could be leaving\n",
    "        if track['track'][next_frame, 1] < line_height:\n",
    "            # Is leaving\n",
    "            if is_in_padding(track['track'][next_frame], \n",
    "                             padding, frame_width):\n",
    "                return 0\n",
    "            return 1\n",
    "    else:\n",
    "        return 0\n",
    "    \n",
    "    \n",
    "def count_bats_in_clip(clip_length, tracks, first_frame, line_height, frame_width, padding):\n",
    "    \n",
    "    num_coming = 0\n",
    "    num_going = 0\n",
    "    \n",
    "    tracks = sorted(tracks, key=lambda t: t['first_frame'])\n",
    "    \n",
    "    for frame_num in range(clip_length):\n",
    "        for track in tracks:\n",
    "            if track['first_frame'] > first_frame + frame_num:\n",
    "                break\n",
    "            if track['last_frame'] < first_frame + frame_num:\n",
    "                continue\n",
    "            crossing = check_track_crossing(track, \n",
    "                                            first_frame+frame_num, \n",
    "                                            line_height,\n",
    "                                            frame_width,\n",
    "                                            padding\n",
    "                                           )\n",
    "            if crossing == -1:\n",
    "                num_coming += 1\n",
    "            if crossing == 1:\n",
    "                num_going += 1\n",
    "                \n",
    "    return num_coming, num_going"
   ]
  },
  {
   "cell_type": "code",
   "execution_count": null,
   "metadata": {},
   "outputs": [],
   "source": [
    "\n",
    "root_tracks_folder = '.../kasanka-bats/processed'\n",
    "root_nn_tracks_folder = '.../kasanka-bats/processed/deep-learning'\n",
    "frame_root_folder = '.../Elements/bats'\n",
    "validation_csv = pd.read_csv('.../bats-data/bat_counting_error_quantification-Sheet1-raw.csv')\n",
    "\n",
    "\n",
    "\n"
   ]
  },
  {
   "cell_type": "code",
   "execution_count": null,
   "metadata": {},
   "outputs": [],
   "source": [
    "cameras_frame_shift = {'16Nov':{'Chyniangale': 0,\n",
    "               'BBC': -1209,\n",
    "               'FibwePublic': 0,\n",
    "               'MusoleTower': 0,\n",
    "               'Puku': 0,\n",
    "               'FibweParking': 0,\n",
    "               'MusoleParking': 0,\n",
    "               'MusolePath': 0,\n",
    "               'Sunset': 0,\n",
    "               'NotChyniangale': 0,\n",
    "               },\n",
    "               '17Nov':{'Chyniangale': 0,\n",
    "               'BBC': 0,\n",
    "               'FibwePublic': 0,\n",
    "               'MusoleTower': 0,\n",
    "               'Puku': 0,\n",
    "               'FibweParking2': -805,\n",
    "               'MusoleParking': 0,\n",
    "               'MusolePath2': 0,\n",
    "               'Sunset': 0,\n",
    "               'NotChyniangale': 0,\n",
    "               }\n",
    "              }"
   ]
  },
  {
   "cell_type": "code",
   "execution_count": null,
   "metadata": {},
   "outputs": [],
   "source": []
  },
  {
   "cell_type": "code",
   "execution_count": null,
   "metadata": {},
   "outputs": [],
   "source": [
    "# camera_name = 'NotChyniangale'\n",
    "\n",
    "# date = '17Nov'\n",
    "\n",
    "# frame_files = sorted(\n",
    "#                 glob.glob(os.path.join(frame_root_folder, \n",
    "#                                        date,\n",
    "#                                        camera_name, \n",
    "#                                        \"*\", \n",
    "#                                        \"*.jpg\")\n",
    "#                          )\n",
    "#             )\n",
    "\n",
    "# positions_file = os.path.join(root_nn_tracks_folder, date, camera_name, 'centers.npy')\n",
    "# positions = np.load(positions_file, allow_pickle=True)\n",
    "\n",
    "# frame_shift = len(positions) - len(frame_files)\n",
    "# frame_shift = 0\n",
    "\n",
    "\n",
    "# frame_num = 30000\n",
    "# shift = 48\n",
    "\n",
    "# frame = plt.imread(frame_files[frame_num])\n",
    "# plt.figure(figsize=(20,20))\n",
    "# plt.imshow(frame)\n",
    "# plt.scatter(positions[frame_num+frame_shift][:, 0]+shift, \n",
    "#             positions[frame_num+frame_shift][:, 1]+shift, \n",
    "#             s=1, c='r')\n",
    "# plt.title(frame_shift)"
   ]
  },
  {
   "cell_type": "code",
   "execution_count": null,
   "metadata": {},
   "outputs": [],
   "source": [
    "# len(positions),  len(frame_files)"
   ]
  },
  {
   "cell_type": "code",
   "execution_count": null,
   "metadata": {},
   "outputs": [],
   "source": []
  },
  {
   "cell_type": "code",
   "execution_count": null,
   "metadata": {},
   "outputs": [],
   "source": [
    "# clip_files = glob.glob(os.path.join(root_output_folder, '*', '*.mp4'))\n",
    "# clip_files = sorted(clip_files, key=lambda f: (f.split('-')[-6], int(f.split('-')[-2])))"
   ]
  },
  {
   "cell_type": "code",
   "execution_count": null,
   "metadata": {},
   "outputs": [],
   "source": [
    "# validation_csv.loc[0]"
   ]
  },
  {
   "cell_type": "code",
   "execution_count": null,
   "metadata": {},
   "outputs": [],
   "source": [
    "# clip_files_with_ext = validation_csv['Video clip name'].values\n",
    "# clip_files = []\n",
    "# for clip_file in clip_files_with_ext:\n",
    "#     name, ext = os.path.splitext(clip_file)\n",
    "#     clip_files.append(name)"
   ]
  },
  {
   "cell_type": "code",
   "execution_count": null,
   "metadata": {},
   "outputs": [],
   "source": [
    "# for t in tracks:\n",
    "#     next_frame = np.min([2+1, t['track'].shape[0]-1])"
   ]
  },
  {
   "cell_type": "code",
   "execution_count": null,
   "metadata": {},
   "outputs": [],
   "source": [
    "# for t in tracks:\n",
    "#     next_frame = t['first_frame'] + 1\n",
    "#     if next_frame < t['track'].shape[0]:\n",
    "#         next_frame = 0   "
   ]
  },
  {
   "cell_type": "code",
   "execution_count": null,
   "metadata": {},
   "outputs": [],
   "source": []
  },
  {
   "cell_type": "code",
   "execution_count": null,
   "metadata": {},
   "outputs": [],
   "source": [
    "falloff_mode = False\n",
    "\n",
    "\n",
    "shift = 0\n",
    "camera_num = -1\n",
    "frame_shift = 0\n",
    "\n",
    "frames_camera = None\n",
    "# positions_camera\n",
    "frames = []\n",
    "\n",
    "last_track_file = None\n",
    "\n",
    "last_positions_file = None\n",
    "\n",
    "for index, row in validation_csv.iterrows():\n",
    "    \n",
    "    \n",
    "    \n",
    "    if (index+3) % 6 == 0:\n",
    "        print(f'camera num: {camera_num}')\n",
    "        if falloff_mode:\n",
    "            clip_file = row['video-clip-name']\n",
    "        else:\n",
    "            clip_file = row['Video clip name']\n",
    "        name, ext = os.path.splitext(clip_file)\n",
    "        if falloff_mode:\n",
    "            first_frame = int(name.split('-')[-4])\n",
    "            camera_name = name.split('-')[-8]\n",
    "        else:\n",
    "            first_frame = int(name.split('-')[-2])\n",
    "            camera_name = name.split('-')[-6]\n",
    "        print(camera_name, first_frame)\n",
    "        if camera_name != frames_camera:\n",
    "            camera_num += 1\n",
    "            if falloff_mode:\n",
    "                date = row['date-folder']\n",
    "            else:\n",
    "                date = row['date_folder']\n",
    "            date = date.replace(' ', '')\n",
    "            frame_files = sorted(\n",
    "                glob.glob(os.path.join(frame_root_folder, \n",
    "                                       date,\n",
    "                                       camera_name, \n",
    "                                       \"*\", \n",
    "                                       \"*.jpg\")\n",
    "                         )\n",
    "            )\n",
    "            tracks_folder = os.path.join(root_nn_tracks_folder, date)\n",
    "            track_file = os.path.join(tracks_folder, camera_name, 'raw_tracks.npy')\n",
    "            print(track_file)\n",
    "            if track_file != last_track_file:\n",
    "                print('loading tracks...')\n",
    "                tracks = np.load(track_file, allow_pickle=True)\n",
    "                last_track_file = track_file\n",
    "            frames_camera = camera_name\n",
    "#             positions_file = os.path.join(root_nn_tracks_folder, date, \n",
    "#                                           camera_name, 'centers.npy')\n",
    "#             if positions_file != last_positions_file:\n",
    "#                 positions = np.load(positions_file, allow_pickle=True)\n",
    "#                 last_positions_file = positions_file\n",
    "            \n",
    "            frame_shift = cameras_frame_shift[date][camera_name]\n",
    "            \n",
    "#         if camera_name == 'BBC':\n",
    "\n",
    "#         plt.figure()\n",
    "        frame = plt.imread(frame_files[first_frame])\n",
    "#         plt.imshow(frame)\n",
    "        if first_frame+frame_shift >= 0:\n",
    "            draw_tracks_on_frame(frame, first_frame+frame_shift, \n",
    "                                 tracks, figure_scale=100, shift=shift)\n",
    "            print(str(first_frame) in frame_files[first_frame], frame_files[first_frame])\n",
    "        else:\n",
    "            print('Shift is negative.')\n",
    "    "
   ]
  },
  {
   "cell_type": "markdown",
   "metadata": {},
   "source": [
    "## Add darkness info"
   ]
  },
  {
   "cell_type": "code",
   "execution_count": null,
   "metadata": {},
   "outputs": [],
   "source": [
    "if falloff_mode:\n",
    "    validation_csv['darkness-mean'] = None\n",
    "    validation_csv['darkness-max'] = None\n",
    "    validation_csv['darkness-median'] = None\n",
    "else:\n",
    "    validation_csv['darkness_mean'] = None\n",
    "    validation_csv['darkness_max'] = None\n",
    "    validation_csv['darkness_median'] = None\n",
    "\n",
    "for index, row in validation_csv.iterrows():\n",
    "    if falloff_mode:\n",
    "        clip_file = row['video-clip-name']\n",
    "    else:\n",
    "        clip_file = row['Video clip name']\n",
    "    name, ext = os.path.splitext(clip_file)\n",
    "    if falloff_mode:\n",
    "        first_frame = int(name.split('-')[-4])\n",
    "        camera_name = name.split('-')[-8]\n",
    "    else:\n",
    "        first_frame = int(name.split('-')[-2])\n",
    "        camera_name = name.split('-')[-6]\n",
    "\n",
    "    if camera_name != frames_camera:\n",
    "        camera_num += 1\n",
    "        if falloff_mode:\n",
    "            date = row['date-folder']\n",
    "        else:\n",
    "            date = row['date_folder']\n",
    "        date = date.replace(' ', '')\n",
    "        frame_files = sorted(\n",
    "            glob.glob(os.path.join(frame_root_folder, \n",
    "                                   date,\n",
    "                                   camera_name, \n",
    "                                   \"*\", \n",
    "                                   \"*.jpg\")\n",
    "                     )\n",
    "        )\n",
    "\n",
    "        frames_camera = camera_name\n",
    "        frame_shift = cameras_frame_shift[date][camera_name]\n",
    "\n",
    "    frame = plt.imread(frame_files[first_frame])\n",
    "    blue_ind = 2\n",
    "    if falloff_mode:\n",
    "        validation_csv.loc[index, 'darkness-mean'] = np.mean(frame[..., blue_ind])\n",
    "        validation_csv.loc[index, 'darkness-max'] = np.max(frame[..., blue_ind])\n",
    "        validation_csv.loc[index, 'darkness-median'] = np.median(frame[..., blue_ind])\n",
    "    else:\n",
    "        validation_csv.loc[index, 'darkness_mean'] = np.mean(frame[..., blue_ind])\n",
    "        validation_csv.loc[index, 'darkness_max'] = np.max(frame[..., blue_ind])\n",
    "        validation_csv.loc[index, 'darkness_median'] = np.median(frame[..., blue_ind])"
   ]
  },
  {
   "cell_type": "code",
   "execution_count": null,
   "metadata": {},
   "outputs": [],
   "source": [
    "# ind = validation_csv['Video clip name']=='test-camera-MusoleTower-clip-4-firstframe-52685-5'\n",
    "# validation_csv.loc[ind, 'total_bats'] = 807"
   ]
  },
  {
   "cell_type": "code",
   "execution_count": null,
   "metadata": {},
   "outputs": [],
   "source": [
    "validation_csv.head()"
   ]
  },
  {
   "cell_type": "code",
   "execution_count": null,
   "metadata": {},
   "outputs": [],
   "source": [
    "if falloff_mode:\n",
    "    validation_csv['old-method-count-coming'] = None\n",
    "    validation_csv['old-method-count-going'] = None\n",
    "    validation_csv['new-method-count-coming'] = None\n",
    "    validation_csv['new-method-count-going'] = None\n",
    "else:\n",
    "    validation_csv['old_method_count_coming'] = None\n",
    "    validation_csv['old_method_count_going'] = None\n",
    "    validation_csv['new_method_count_coming'] = None\n",
    "    validation_csv['new_method_count_going'] = None"
   ]
  },
  {
   "cell_type": "code",
   "execution_count": null,
   "metadata": {},
   "outputs": [],
   "source": [
    "\n",
    "if falloff_mode:\n",
    "    clip_time = 7\n",
    "else:\n",
    "    clip_time = 15 # in seconds (30fps)\n",
    "\n",
    "line_height_fraction = .5\n",
    "\n",
    "frame_files = glob.glob(os.path.join(frame_root_folder, \"16Nov\", \"BBC\", \"*\", \"*.jpg\"))\n",
    "frame_size = cv2.imread(frame_files[-1]).shape\n",
    "line_height = frame_size[0] * line_height_fraction\n",
    "frame_width = frame_size[1]\n",
    "\n",
    "last_camera_name = None\n",
    "\n",
    "for new_method in [True, False]:\n",
    "    for index, row in validation_csv.iterrows():\n",
    "        if falloff_mode:\n",
    "            clip_file = row['video-clip-name']\n",
    "        else:\n",
    "            clip_file = row['Video clip name']\n",
    "        name, ext = os.path.splitext(clip_file)\n",
    "        if falloff_mode:\n",
    "            first_frame = int(name.split('-')[-4])\n",
    "            camera_name = name.split('-')[-8]\n",
    "        else:\n",
    "            first_frame = int(name.split('-')[-2])\n",
    "            camera_name = name.split('-')[-6]\n",
    "\n",
    "        if camera_name != last_camera_name:\n",
    "            print('loading...')\n",
    "            if falloff_mode:\n",
    "                date = row['date-folder']\n",
    "            else:\n",
    "                date = row['date_folder']\n",
    "            date = date.replace(' ', '')\n",
    "            if new_method:\n",
    "                tracks_folder = os.path.join(root_nn_tracks_folder, date)\n",
    "            else:\n",
    "                tracks_folder = os.path.join(root_tracks_folder, date)\n",
    "            track_file = os.path.join(tracks_folder, camera_name, 'raw_tracks.npy')\n",
    "            print(track_file)\n",
    "            tracks = np.load(track_file, allow_pickle=True)\n",
    "\n",
    "        clip_length = int(30 * clip_time)\n",
    "        if new_method:\n",
    "            frame_shift = cameras_frame_shift[date][camera_name]\n",
    "        else:\n",
    "            frame_shift = 0\n",
    "        num_coming, num_going = count_bats_in_clip(\n",
    "            clip_length, tracks, first_frame+frame_shift, line_height, frame_width, padding=48)\n",
    "#         print(f'{camera_name} {first_frame+frame_shift}, coming: {num_coming}, going: {num_going}')\n",
    "        if falloff_mode:\n",
    "            if new_method:\n",
    "                validation_csv.loc[index, 'new-method-count-coming'] = num_coming \n",
    "                validation_csv.loc[index, 'new-method-count-going'] = num_going\n",
    "            else:\n",
    "                validation_csv.loc[index, 'old-method-count-coming'] = num_coming\n",
    "                validation_csv.loc[index, 'old-method-count-going'] = num_going\n",
    "        else:\n",
    "            if new_method:\n",
    "                validation_csv.loc[index, 'new_method_count_coming'] = num_coming \n",
    "                validation_csv.loc[index, 'new_method_count_going'] = num_going\n",
    "            else:\n",
    "                validation_csv.loc[index, 'old_method_count_coming'] = num_coming\n",
    "                validation_csv.loc[index, 'old_method_count_going'] = num_going\n",
    "\n",
    "        last_camera_name = camera_name\n",
    "\n",
    "    #     if index == 3:\n",
    "    #         break"
   ]
  },
  {
   "cell_type": "code",
   "execution_count": null,
   "metadata": {},
   "outputs": [],
   "source": [
    "frame_width"
   ]
  },
  {
   "cell_type": "code",
   "execution_count": null,
   "metadata": {},
   "outputs": [],
   "source": []
  },
  {
   "cell_type": "code",
   "execution_count": null,
   "metadata": {},
   "outputs": [],
   "source": [
    "validation_csv.head()"
   ]
  },
  {
   "cell_type": "code",
   "execution_count": null,
   "metadata": {},
   "outputs": [],
   "source": []
  },
  {
   "cell_type": "code",
   "execution_count": null,
   "metadata": {},
   "outputs": [],
   "source": [
    "validation_csv.to_csv('.../bats-data/bat_counting_error_quantification_with_counts_padded.csv')\n",
    "# validation_csv.to_csv(save_file)"
   ]
  },
  {
   "cell_type": "code",
   "execution_count": null,
   "metadata": {},
   "outputs": [],
   "source": [
    "validation_csv = '.../bats-data/bat_counting_error_quantification_with_counts_padded.csv'\n",
    "validation_csv = pd.read_csv(validation_csv)"
   ]
  },
  {
   "cell_type": "code",
   "execution_count": null,
   "metadata": {},
   "outputs": [],
   "source": [
    "validation_csv.head()"
   ]
  },
  {
   "cell_type": "code",
   "execution_count": null,
   "metadata": {},
   "outputs": [],
   "source": []
  },
  {
   "cell_type": "code",
   "execution_count": null,
   "metadata": {},
   "outputs": [],
   "source": [
    "if falloff_mode:\n",
    "    validation_csv['total-bats'] = (\n",
    "        (validation_csv['new-method-count-going'] \n",
    "         - pd.to_numeric(validation_csv['number-false-detections-going(blue)'], errors='coerce')\n",
    "         + pd.to_numeric(validation_csv['number-missed-detections-going'], errors='coerce')\n",
    "        )\n",
    "        - (validation_csv['new-method-count-coming'] \n",
    "           - pd.to_numeric(validation_csv['number-false-detections-coming(yellow)'], errors='coerce')\n",
    "           + pd.to_numeric(validation_csv['number-missed-detections-coming'], errors='coerce')\n",
    "          )\n",
    "    )\n",
    "else:\n",
    "    validation_csv['total_bats'] = (\n",
    "        (validation_csv['old_method_count_going'] - pd.to_numeric(validation_csv['Number false detections moving up (blue)'], errors='coerce'))\n",
    "        - (validation_csv['old_method_count_coming'] - pd.to_numeric(validation_csv['Number false detections moving down (yellow)'], errors='coerce'))\n",
    "        + pd.to_numeric(validation_csv['Number missed detections'], errors='coerce')\n",
    "    )"
   ]
  },
  {
   "cell_type": "code",
   "execution_count": null,
   "metadata": {},
   "outputs": [],
   "source": []
  },
  {
   "cell_type": "code",
   "execution_count": null,
   "metadata": {},
   "outputs": [],
   "source": []
  },
  {
   "cell_type": "code",
   "execution_count": null,
   "metadata": {},
   "outputs": [],
   "source": []
  },
  {
   "cell_type": "code",
   "execution_count": null,
   "metadata": {},
   "outputs": [],
   "source": [
    "if falloff_mode:\n",
    "    validation_csv['total-bats-old-method'] = (validation_csv['old-method-count-going'] \n",
    "                                               - validation_csv['old-method-count-coming']\n",
    "                                              )\n",
    "\n",
    "    validation_csv['total-bats-new-method'] = (validation_csv['new-method-count-going'] \n",
    "                                               - validation_csv['new-method-count-coming']\n",
    "                                              )\n",
    "else:\n",
    "    validation_csv['total_bats_old_method'] = (validation_csv['old_method_count_going'] \n",
    "                                               - validation_csv['old_method_count_coming']\n",
    "                                              )\n",
    "\n",
    "    validation_csv['total_bats_new_method'] = (validation_csv['new_method_count_going'] \n",
    "                                               - validation_csv['new_method_count_coming']\n",
    "                                              )"
   ]
  },
  {
   "cell_type": "code",
   "execution_count": null,
   "metadata": {},
   "outputs": [],
   "source": [
    "if falloff_mode:\n",
    "    not_zero = validation_csv['total-bats'] != 0\n",
    "    validation_csv['old-method-fraction-total'] = np.nan\n",
    "    validation_csv['new-method-fraction-total'] = np.nan\n",
    "    validation_csv.loc[not_zero, 'old-method-fraction-total'] = (\n",
    "        validation_csv['total-bats-old-method'][not_zero] / validation_csv['total-bats'][not_zero]\n",
    "    )\n",
    "    validation_csv.loc[not_zero, 'new-method-fraction-total'] = (\n",
    "        validation_csv['total-bats-new-method'][not_zero] / validation_csv['total-bats'][not_zero]\n",
    "    )\n",
    "else:\n",
    "    not_zero = validation_csv['total_bats'] != 0\n",
    "    validation_csv['old_method_fraction_total'] = np.nan\n",
    "    validation_csv['new_method_fraction_total'] = np.nan\n",
    "    validation_csv.loc[not_zero, 'old_method_fraction_total'] = validation_csv['total_bats_old_method'][not_zero] / validation_csv['total_bats'][not_zero]\n",
    "    validation_csv.loc[not_zero, 'new_method_fraction_total'] = validation_csv['total_bats_new_method'][not_zero] / validation_csv['total_bats'][not_zero]"
   ]
  },
  {
   "cell_type": "code",
   "execution_count": null,
   "metadata": {},
   "outputs": [],
   "source": [
    "if falloff_mode:\n",
    "    print(validation_csv['old-method-fraction-total'].mean())\n",
    "    print(validation_csv['new-method-fraction-total'].mean())\n",
    "else:\n",
    "    print(validation_csv['old_method_fraction_total'].mean())\n",
    "    print(validation_csv['new_method_fraction_total'].mean())"
   ]
  },
  {
   "cell_type": "code",
   "execution_count": null,
   "metadata": {},
   "outputs": [],
   "source": [
    "print(validation_csv['old_method_fraction_total'].mean())\n",
    "print(validation_csv['new_method_fraction_total'].mean())"
   ]
  },
  {
   "cell_type": "code",
   "execution_count": null,
   "metadata": {},
   "outputs": [],
   "source": [
    "min_num = 500\n",
    "print(validation_csv.loc[validation_csv['total_bats']>min_num,'old_method_fraction_total'].mean())\n",
    "print(validation_csv.loc[validation_csv['total_bats']>min_num,'new_method_fraction_total'].mean())"
   ]
  },
  {
   "cell_type": "code",
   "execution_count": null,
   "metadata": {},
   "outputs": [],
   "source": [
    "print(validation_csv.loc[~validation_csv['total_bats'].isnull(), 'total_bats_old_method'].sum() \n",
    "      /  validation_csv['total_bats'].sum())\n",
    "print(validation_csv['total_bats_old_method'].sum() \n",
    "      /  validation_csv['total_bats'].sum())\n",
    "\n",
    "print((validation_csv.loc[~validation_csv['total_bats'].isnull(), 'total_bats_new_method'].sum()) \n",
    "      /  (validation_csv['total_bats'].sum()))\n",
    "print((validation_csv['total_bats_new_method'].sum()) \n",
    "      /  (validation_csv['total_bats'].sum()))\n",
    "\n",
    "print(validation_csv.loc[validation_csv['total_bats'].isnull(), 'total_bats_new_method'].sum())\n",
    "print(validation_csv.loc[validation_csv['total_bats'].isnull(), 'total_bats_old_method'].sum())"
   ]
  },
  {
   "cell_type": "code",
   "execution_count": null,
   "metadata": {},
   "outputs": [],
   "source": [
    "~validation_csv['total_bats_new_method'].isnull()"
   ]
  },
  {
   "cell_type": "code",
   "execution_count": null,
   "metadata": {},
   "outputs": [],
   "source": [
    "min(validation_csv['total_bats'])"
   ]
  },
  {
   "cell_type": "code",
   "execution_count": null,
   "metadata": {},
   "outputs": [],
   "source": [
    "bin_size = 100\n",
    "\n",
    "\n",
    "plt.scatter((validation_csv['total_bats']//bin_size)*bin_size-2, \n",
    "            validation_csv['total_bats'] - validation_csv['total_bats_new_method'],\n",
    "            s=1, c='r')\n",
    "\n",
    "\n",
    "plt.scatter((validation_csv['total_bats']//bin_size)*bin_size+2, \n",
    "            validation_csv['total_bats'] - validation_csv['total_bats_old_method'], \n",
    "            s=1)\n",
    "\n",
    "plt.figure()\n",
    "\n",
    "plt.scatter((validation_csv['total_bats']//bin_size)*bin_size-2, \n",
    "            validation_csv['new_method_fraction_total'],\n",
    "            s=1, c='r')\n",
    "\n",
    "\n",
    "# plt.scatter((validation_csv['total_bats']//bin_size)*bin_size+2, \n",
    "#             validation_csv['old_method_fraction_total'], \n",
    "#             s=1)\n",
    "plt.figure()\n",
    "\n",
    "plt.scatter(validation_csv['total_bats'], \n",
    "            validation_csv['total_bats_new_method'],\n",
    "            s=1, c='r')\n",
    "plt.gca().set_aspect('equal')\n",
    "plt.plot([0,1500], [0,1500])"
   ]
  },
  {
   "cell_type": "code",
   "execution_count": null,
   "metadata": {},
   "outputs": [],
   "source": []
  },
  {
   "cell_type": "code",
   "execution_count": null,
   "metadata": {},
   "outputs": [],
   "source": [
    "# validation_csv.groupby('bin_50')['abs_error_new'].mean()"
   ]
  },
  {
   "cell_type": "code",
   "execution_count": null,
   "metadata": {},
   "outputs": [],
   "source": [
    "validation_csv['abs_error_old'] = validation_csv['total_bats'] - validation_csv['total_bats_old_method']\n",
    "validation_csv['abs_error_new'] = validation_csv['total_bats'] - validation_csv['total_bats_new_method']"
   ]
  },
  {
   "cell_type": "code",
   "execution_count": null,
   "metadata": {},
   "outputs": [],
   "source": [
    "plt.scatter(validation_csv['bin_50']-2, \n",
    "            validation_csv['abs_error_new'],\n",
    "            s=1, c='r', alpha=.5)\n",
    "\n",
    "\n",
    "plt.scatter(validation_csv['bin_50']+2, \n",
    "            validation_csv['abs_error_old'], \n",
    "            s=1, alpha=.5)\n",
    "\n",
    "# validation_csv.groupby('bin_50').mean()\n",
    "\n",
    "plt.figure()\n",
    "\n",
    "plt.scatter(validation_csv['bin_50']-2, \n",
    "            validation_csv['new_method_fraction_total'],\n",
    "            s=1, c='r', alpha=.5)\n",
    "\n",
    "\n",
    "plt.scatter(validation_csv['bin_50']+2, \n",
    "            validation_csv['old_method_fraction_total'], \n",
    "            s=1, alpha=.5)\n",
    "\n",
    "plt.figure()\n",
    "\n",
    "plt.scatter(validation_csv['bin_50'], \n",
    "            validation_csv['total_bats'],\n",
    "            s=1, c='r', alpha=.5)\n",
    "\n",
    "\n",
    "# plt.scatter(validation_csv['bin_50']+2, \n",
    "#             validation_csv['old_method_fraction_total'], \n",
    "#             s=1, alpha=.5)"
   ]
  },
  {
   "cell_type": "code",
   "execution_count": null,
   "metadata": {},
   "outputs": [],
   "source": [
    "np.max((validation_csv['darkness_max']//50)*50+2)"
   ]
  },
  {
   "cell_type": "code",
   "execution_count": null,
   "metadata": {},
   "outputs": [],
   "source": [
    "import seaborn as sns"
   ]
  },
  {
   "cell_type": "code",
   "execution_count": null,
   "metadata": {},
   "outputs": [],
   "source": [
    "ax = sns.violinplot(x=\"day\", y=\"total_bill\", hue=\"smoker\",\n",
    "                    data=tips, palette=\"muted\")"
   ]
  },
  {
   "cell_type": "code",
   "execution_count": null,
   "metadata": {},
   "outputs": [],
   "source": [
    "validation_csv.loc[validation_csv['new_method_fraction_total'] < .4]"
   ]
  },
  {
   "cell_type": "code",
   "execution_count": null,
   "metadata": {},
   "outputs": [],
   "source": [
    "per_list = []\n",
    "total_list = []\n",
    "miss_list = []\n",
    "for ind in range(len(validation_csv)):\n",
    "    alg_count = validation_csv.loc[ind]['new_method_count_coming'] + validation_csv.loc[ind]['new_method_count_going']\n",
    "    missed = validation_csv.loc[ind]['Number missed detections']\n",
    "    try:\n",
    "        missed = int(missed)\n",
    "    except:\n",
    "        continue\n",
    "    total = alg_count + missed\n",
    "    if total != 0:\n",
    "        percent_seen = alg_count / total\n",
    "        per_list.append(percent_seen)\n",
    "        total_list.append(total)\n",
    "        miss_list.append(missed)\n",
    "#         print(percent_seen, alg_count, missed)"
   ]
  },
  {
   "cell_type": "code",
   "execution_count": null,
   "metadata": {},
   "outputs": [],
   "source": [
    "for p, t, m in zip(per_list, total_list, miss_list):\n",
    "    if p < .4:\n",
    "        print(p, t, m)\n",
    "np.mean(np.array(per_list)), np.median(np.array(per_list))"
   ]
  },
  {
   "cell_type": "code",
   "execution_count": null,
   "metadata": {},
   "outputs": [],
   "source": [
    "plt.hist(per_list, bins=100)"
   ]
  },
  {
   "cell_type": "code",
   "execution_count": null,
   "metadata": {},
   "outputs": [],
   "source": [
    "plt.hist(per_list, bins=100)"
   ]
  },
  {
   "cell_type": "code",
   "execution_count": null,
   "metadata": {},
   "outputs": [],
   "source": [
    "frame_files = glob.glob(os.path.join(frame_root_folder, camera_name, \"*\", \"*.jpg\"))"
   ]
  },
  {
   "cell_type": "code",
   "execution_count": null,
   "metadata": {},
   "outputs": [],
   "source": [
    "files = glob.glob(os.path.join(frame_root_folder, '*'))"
   ]
  },
  {
   "cell_type": "code",
   "execution_count": null,
   "metadata": {},
   "outputs": [],
   "source": [
    "for f in files:\n",
    "    frame_files = glob.glob(os.path.join(f, \"*\", \"*.jpg\"))\n",
    "    print(cv2.imread(frame_files[-1]).shape)"
   ]
  },
  {
   "cell_type": "code",
   "execution_count": null,
   "metadata": {},
   "outputs": [],
   "source": []
  }
 ],
 "metadata": {
  "kernelspec": {
   "display_name": "Python 3",
   "language": "python",
   "name": "python3"
  },
  "language_info": {
   "codemirror_mode": {
    "name": "ipython",
    "version": 3
   },
   "file_extension": ".py",
   "mimetype": "text/x-python",
   "name": "python",
   "nbconvert_exporter": "python",
   "pygments_lexer": "ipython3",
   "version": "3.8.10"
  }
 },
 "nbformat": 4,
 "nbformat_minor": 4
}
