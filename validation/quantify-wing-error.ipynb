{
 "cells": [
  {
   "cell_type": "code",
   "execution_count": null,
   "metadata": {},
   "outputs": [],
   "source": [
    "import numpy as np\n",
    "import os\n",
    "import glob\n",
    "import cv2\n",
    "from scipy import signal\n",
    "import matplotlib.pyplot as plt\n",
    "import seaborn as sns\n",
    "import pandas as pd\n",
    "import matplotlib as mpl\n",
    "from scipy.spatial.distance import euclidean\n",
    "from sklearn.linear_model import LinearRegression\n",
    "from sklearn.neighbors import KernelDensity\n",
    "\n",
    "import sys\n",
    "sys.path.append('.../bats-code')\n",
    "import bat_functions as bf"
   ]
  },
  {
   "cell_type": "code",
   "execution_count": null,
   "metadata": {},
   "outputs": [],
   "source": [
    "plot_folder = '.../bats-data/plots'\n",
    "save_folder = os.path.join(plot_folder, 'wing-error')\n",
    "os.makedirs(save_folder, exist_ok=True)"
   ]
  },
  {
   "cell_type": "code",
   "execution_count": null,
   "metadata": {},
   "outputs": [],
   "source": [
    "save_folder = '.../bats-data/wing-validation'\n",
    "images_folder = os.path.join(save_folder, 'validation-images')\n",
    "info_folder = os.path.join(save_folder, 'validation-csvs')"
   ]
  },
  {
   "cell_type": "code",
   "execution_count": null,
   "metadata": {},
   "outputs": [],
   "source": [
    "info_files = sorted(glob.glob(os.path.join(info_folder, '*.csv')))\n",
    "print(f'found {len(info_files)} .csvs')"
   ]
  },
  {
   "cell_type": "code",
   "execution_count": null,
   "metadata": {},
   "outputs": [],
   "source": [
    "info_dfs = [pd.read_csv(f) for f in info_files]"
   ]
  },
  {
   "cell_type": "code",
   "execution_count": null,
   "metadata": {},
   "outputs": [],
   "source": [
    "info_df = pd.concat(info_dfs, ignore_index=True)"
   ]
  },
  {
   "cell_type": "code",
   "execution_count": null,
   "metadata": {},
   "outputs": [],
   "source": [
    "def get_wingspan(x1, y1, x2, y2):\n",
    "    p1 = np.array([x1, y1])\n",
    "    p2 = np.array([x2, y2])\n",
    "    return euclidean(p1, p2)\n",
    "\n",
    "def has_groundtruth(x1, x2):\n",
    "    if x1 < 0 or x2 < 0:\n",
    "        return False\n",
    "    return True\n",
    "    "
   ]
  },
  {
   "cell_type": "code",
   "execution_count": null,
   "metadata": {},
   "outputs": [],
   "source": [
    "shift = 0 # loss on each side from not padding during detection (48)\n",
    "FRAME_WIDTH = 2704 - (2 * shift)\n",
    "WINGSPAN = .8 # meters, max extent while flying \n",
    "HCONST = 1454.9 # pixels"
   ]
  },
  {
   "cell_type": "code",
   "execution_count": null,
   "metadata": {},
   "outputs": [],
   "source": [
    "save = True"
   ]
  },
  {
   "cell_type": "code",
   "execution_count": null,
   "metadata": {},
   "outputs": [],
   "source": [
    "wing_validation_file = '.../bats-data/wing-validation/combined_wing_validation_info.csv'\n",
    "wing_correction_info = bf.get_wing_correction_distributions(\n",
    "    wing_validation_file, num_darkness_bins=4, kde_bw_scale=.25, should_plot=False\n",
    ")\n",
    "wing_correction_kdes, darkness_bins = wing_correction_info\n",
    "\n",
    "lower_percentile = 0.05\n",
    "upper_percentile = 0.95\n",
    "\n",
    "measured_wings = []\n",
    "est_heights = []\n",
    "wing_samples = 100000\n",
    "\n",
    "\n",
    "for kde_bin, kde in enumerate(wing_correction_kdes):\n",
    "\n",
    "    for measured_wing in range(10, 80, 5):\n",
    "        correction_scales = kde.sample(wing_samples)[:, 0]\n",
    "\n",
    "\n",
    "        biased_wing = bf.correct_wingspan(np.ones(wing_samples)*measured_wing, \n",
    "                                          correction_scales)\n",
    "    #     # No wingspans smaller than 2 pixels\n",
    "    #     biased_wing = np.maximum(biased_wing, 2) \n",
    "        heights = bf.calculate_height(\n",
    "            biased_wing, HCONST, WINGSPAN)\n",
    "        heights = bf.get_middle_percentiles(heights, lower_percentile, upper_percentile)\n",
    "        est_heights.extend(heights)\n",
    "        measured_wings.extend([measured_wing for _ in heights])\n",
    "        #             plt.figure()\n",
    "        #             _= plt.hist(heights, bins=100)\n",
    "    plt.figure(figsize=(10, 10))\n",
    "    sns.violinplot(x=measured_wings, y=est_heights, color='#AAAAAA')\n",
    "    plt.xlabel('Wingspan (pixels)')\n",
    "    plt.ylabel('Estimated Height (meters)')\n",
    "    title = (f\"wing span vs height with error \" \n",
    "             f\"darkbin {kde_bin} \"\n",
    "             f\"lowwerpercentile {lower_percentile} \"\n",
    "             f\"upperpercentile {upper_percentile} \"\n",
    "             f\"numsamples {wing_samples}\"\n",
    "            )\n",
    "    if save:\n",
    "        bf.save_fig(save_folder, title)\n",
    "# plt.scatter(x=np.array(measured_wings)/10-3, y=est_heights, alpha=.1)"
   ]
  },
  {
   "cell_type": "code",
   "execution_count": null,
   "metadata": {},
   "outputs": [],
   "source": [
    "for kde_bin, kde in enumerate(wing_correction_kdes):\n",
    "    print(f\"kde {kde_bin} --\") \n",
    "\n",
    "    correction_scales = kde.sample(wing_samples)[:, 0]\n",
    "\n",
    "    lower_correction = np.percentile(correction_scales, 25)\n",
    "    upper_correction = np.percentile(correction_scales, 75)\n",
    "    median_correction = np.median(correction_scales)\n",
    "    mean_correction = np.mean(correction_scales)\n",
    "    print(f\"mean correction {mean_correction}\")\n",
    "    print(f\"median correction {median_correction}\")\n",
    "    print(f\"lower correction {lower_correction}\")\n",
    "    print(f\"upper correction {upper_correction}\")"
   ]
  },
  {
   "cell_type": "code",
   "execution_count": null,
   "metadata": {},
   "outputs": [],
   "source": [
    "wing_validation_file = '.../bats-data/wing-validation/combined_wing_validation_info.csv'\n",
    "wing_correction_info = bf.get_wing_correction_distributions(\n",
    "    wing_validation_file, num_darkness_bins=4, kde_bw_scale=.25, should_plot=False\n",
    ")\n",
    "wing_correction_kdes, darkness_bins = wing_correction_info\n",
    "\n",
    "lower_percentile = 0.05\n",
    "upper_percentile = 0.95\n",
    "\n",
    "measured_wings = []\n",
    "est_heights = []\n",
    "wing_samples = 100000\n",
    "\n",
    "camera_distance = 400\n",
    "\n",
    "kde_bin = 0\n",
    "\n",
    "for measured_wing in [7, 24, 48]:\n",
    "    for kde in wing_correction_kdes[kde_bin:kde_bin+1]:\n",
    "        print(f\"-- wing {measured_wing}, kde {kde_bin} --\") \n",
    "    \n",
    "        correction_scales = kde.sample(wing_samples)[:, 0]\n",
    "\n",
    "\n",
    "        biased_wing = bf.correct_wingspan(np.ones(wing_samples)*measured_wing, \n",
    "                                          correction_scales)\n",
    "    #     # No wingspans smaller than 2 pixels\n",
    "    #     biased_wing = np.maximum(biased_wing, 2) \n",
    "        heights = bf.calculate_height(\n",
    "            biased_wing, HCONST, WINGSPAN)\n",
    "        multipliers = bf.combined_bat_multiplier(FRAME_WIDTH, WINGSPAN, \n",
    "                               biased_wing, \n",
    "                               camera_distance\n",
    "                              )\n",
    "        #             plt.figure()\n",
    "        #             _= plt.hist(heights, bins=100)\n",
    "        lower_height = np.percentile(heights, 25)\n",
    "        upper_height = np.percentile(heights, 75)\n",
    "        median_height = np.median(heights)\n",
    "        print(f\"median height {median_height}\")\n",
    "        print(f\"lower height {lower_height}\")\n",
    "        print(f\"upper height {upper_height}\")\n",
    "        \n",
    "        \n",
    "        raw_heights = bf.calculate_height(\n",
    "            measured_wing, HCONST, WINGSPAN)\n",
    "        raw_multiplier = bf.combined_bat_multiplier(FRAME_WIDTH, WINGSPAN, \n",
    "                               measured_wing, \n",
    "                               camera_distance\n",
    "                              )\n",
    "        \n",
    "        print(f\"raw height {raw_heights}\")\n",
    "       \n",
    "        \n",
    "        lower_multiplier = np.percentile(multipliers, 25)\n",
    "        upper_multiplier = np.percentile(multipliers, 75)\n",
    "        median_multiplier = np.median(multipliers)\n",
    "        \n",
    "        print('***')\n",
    "        print(f\"median multiplier {median_multiplier}\")\n",
    "        print(f\"lower multiplier {lower_multiplier}\")\n",
    "        print(f\"upper multiplier {upper_multiplier}\")\n",
    "        print(f\"raw multiplier {raw_multiplier}\")\n",
    "        "
   ]
  },
  {
   "cell_type": "code",
   "execution_count": null,
   "metadata": {},
   "outputs": [],
   "source": []
  },
  {
   "cell_type": "code",
   "execution_count": null,
   "metadata": {},
   "outputs": [],
   "source": [
    "wing_validation_file = '.../bats-data/wing-validation/combined_wing_validation_info.csv'\n",
    "wing_correction_info = bf.get_wing_correction_distributions(\n",
    "    wing_validation_file, num_darkness_bins=4, kde_bw_scale=.25, should_plot=False\n",
    ")\n",
    "wing_correction_kdes, darkness_bins = wing_correction_info\n",
    "\n",
    "lower_percentile = 0.0\n",
    "upper_percentile = 1.0\n",
    "\n",
    "camera_distance = 400\n",
    "\n",
    "measured_wings = []\n",
    "all_multipliers = []\n",
    "\n",
    "wing_samples = 100000\n",
    "kde = wing_correction_kdes[3]\n",
    "for measured_wing in range(10, 80, 5):\n",
    "    correction_scales = kde.sample(wing_samples)[:, 0]\n",
    "\n",
    "\n",
    "    biased_wing = bf.correct_wingspan(np.ones(wing_samples)*measured_wing, \n",
    "                                      correction_scales)\n",
    "    multipliers = bf.combined_bat_multiplier(FRAME_WIDTH, WINGSPAN, \n",
    "                               biased_wing, \n",
    "                               camera_distance\n",
    "                              )\n",
    "#     # No wingspans smaller than 2 pixels\n",
    "#     biased_wing = np.maximum(biased_wing, 2) \n",
    "\n",
    "    multipliers = bf.get_middle_percentiles(multipliers, \n",
    "                                        lower_percentile, \n",
    "                                        upper_percentile)\n",
    "    all_multipliers.extend(multipliers)\n",
    "    measured_wings.extend([measured_wing for _ in multipliers])\n",
    "    #             plt.figure()\n",
    "    #             _= plt.hist(heights, bins=100)\n",
    "plt.figure(figsize=(20, 6))\n",
    "sns.violinplot(x=measured_wings, y=all_multipliers, color='#AAAAAA', bw=.1)\n",
    "plt.xlabel('Wingspan (pixels)')\n",
    "plt.ylabel('Estimated bat multiplier')\n",
    "title = f\"Wing span vs multiplier camera distance {camera_distance} middle 90 percent\"\n",
    "if save:\n",
    "    bf.save_fig(save_folder, title)\n"
   ]
  },
  {
   "cell_type": "code",
   "execution_count": null,
   "metadata": {},
   "outputs": [],
   "source": [
    "ing_validation_file = './bats-data/wing-validation/combined_wing_validation_info.csv'\n",
    "wing_correction_info = bf.get_wing_correction_distributions(\n",
    "    wing_validation_file, num_darkness_bins=4, kde_bw_scale=.25, should_plot=False\n",
    ")\n",
    "wing_correction_kdes, darkness_bins = wing_correction_info\n",
    "\n",
    "lower_percentile = 0.0\n",
    "upper_percentile = 1.0\n",
    "\n",
    "measured_wings = []\n",
    "all_multipliers = []\n",
    "wing_samples = 10000\n",
    "kde = wing_correction_kdes[3]\n",
    "for measured_wing in [10, 50]:\n",
    "    correction_scales = kde.sample(wing_samples)[:, 0]\n",
    "    \n",
    "    biased_wing = bf.correct_wingspan(np.ones(wing_samples)*measured_wing, \n",
    "                                      correction_scales)\n",
    "    multipliers = bf.combined_bat_multiplier(FRAME_WIDTH, WINGSPAN, \n",
    "                               biased_wing, \n",
    "                               camera_distance\n",
    "                              )\n",
    "#     # No wingspans smaller than 2 pixels\n",
    "#     biased_wing = np.maximum(biased_wing, 2) \n",
    "\n",
    "    multipliers = bf.get_middle_percentiles(multipliers, \n",
    "                                        lower_percentile, \n",
    "                                        upper_percentile)\n",
    "    all_multipliers.extend(multipliers)\n",
    "    measured_wings.extend([measured_wing for _ in multipliers])\n",
    "\n",
    "\n",
    "    #             plt.figure()\n",
    "    #             _= plt.hist(heights, bins=100)\n",
    "plt.figure(figsize=(10, 10))\n",
    "sns.violinplot(x=measured_wings, y=all_multipliers, color='#AAAAAA')\n",
    "plt.xlabel('Wingspan (pixels)')\n",
    "plt.ylabel('bat multipliers')\n",
    "title = \"Wing span vs height with error\""
   ]
  },
  {
   "cell_type": "code",
   "execution_count": null,
   "metadata": {},
   "outputs": [],
   "source": [
    "len(measured_wings), len(est_multipliers)"
   ]
  },
  {
   "cell_type": "code",
   "execution_count": null,
   "metadata": {},
   "outputs": [],
   "source": [
    "wing_validation_file = '.../bats-data/wing-validation/combined_wing_validation_info.csv'\n",
    "wing_correction_info = bf.get_wing_correction_distributions(\n",
    "    wing_validation_file, num_darkness_bins=4, kde_bw_scale=.25, should_plot=False\n",
    ")\n",
    "wing_correction_kdes, darkness_bins = wing_correction_info\n",
    "\n",
    "lower_percentile = 0.0\n",
    "upper_percentile = 1.0\n",
    "\n",
    "measured_wings = []\n",
    "est_heights = []\n",
    "wing_samples = 100000\n",
    "kde = wing_correction_kdes[3]\n",
    "for measured_wing in [50]:\n",
    "    correction_scales = kde.sample(wing_samples)[:, 0]\n",
    "\n",
    "\n",
    "    biased_wing = bf.correct_wingspan(np.ones(wing_samples)*measured_wing, \n",
    "                                      correction_scales)\n",
    "#     # No wingspans smaller than 2 pixels\n",
    "#     biased_wing = np.maximum(biased_wing, 2) \n",
    "    heights = bf.calculate_height(\n",
    "        biased_wing, HCONST, WINGSPAN)\n",
    "    heights = bf.get_middle_percentiles(heights, lower_percentile, upper_percentile)\n",
    "    est_heights.extend(heights)\n",
    "    measured_wings.extend([measured_wing for _ in heights])\n",
    "    #             plt.figure()\n",
    "    #             _= plt.hist(heights, bins=100)\n",
    "plt.figure(figsize=(10, 10))\n",
    "sns.violinplot(x=measured_wings, y=est_heights, color='#AAAAAA')\n",
    "plt.xlabel('Wingspan (pixels)')\n",
    "plt.ylabel('Estimated Height (meters)')\n",
    "title = \"Wing span vs height with error\""
   ]
  },
  {
   "cell_type": "code",
   "execution_count": null,
   "metadata": {},
   "outputs": [],
   "source": [
    "root_folder = \".../kasanka-bats/processed/deep-learning\"\n",
    "observations_root = os.path.join(root_folder, \"observations\")\n",
    "all_observations = {}\n",
    "day_folders = sorted(glob.glob(os.path.join(observations_root, '*')))\n",
    "for day_folder in day_folders:\n",
    "    obs_files = sorted(glob.glob(os.path.join(day_folder, '*.npy')))\n",
    "    date = os.path.basename(day_folder)\n",
    "    all_observations[date] = {}\n",
    "    for obs_file in obs_files:\n",
    "        camera = os.path.splitext(obs_file)[0].split('-')[-1]\n",
    "        obs = np.load(obs_file, allow_pickle=True)\n",
    "        # .item() to get dict from inside the array that was wrapped around\n",
    "        # it when using np.save()\n",
    "        all_observations[date][camera] = obs.item()\n",
    "        \n",
    "# Remove observations to exclude (because camera ran out of batteries etc.)\n",
    "exclude=True\n",
    "# Manually exclude cameras that had issues\n",
    "all_observations['17Nov']['MusoleParking']['exclude'] = True\n",
    "all_observations['18Nov']['MusolePath']['exclude'] = True\n",
    "all_observations['20Nov']['MusolePath']['exclude'] = True\n",
    "if exclude:\n",
    "    good_obs = {}\n",
    "    for date, day_obs in all_observations.items():\n",
    "        good_obs[date] = {}\n",
    "        for camera, obs in day_obs.items():\n",
    "            if 'exclude' in obs.keys():\n",
    "                if obs['exclude']:\n",
    "                    continue\n",
    "            good_obs[date][camera] = obs\n",
    "    all_observations = good_obs"
   ]
  },
  {
   "cell_type": "code",
   "execution_count": null,
   "metadata": {},
   "outputs": [],
   "source": [
    "all_observations['16Nov']['BBC']['mean_wing']"
   ]
  },
  {
   "cell_type": "code",
   "execution_count": null,
   "metadata": {},
   "outputs": [],
   "source": [
    "all_wing = []\n",
    "short_wing = []\n",
    "long_wing = []\n",
    "track_length_thresh = 5\n",
    "for date, day_obs in all_observations.items():\n",
    "    for camera, obs in day_obs.items():\n",
    "        for wing, length in zip(obs['mean_wing'], obs['track_length']):\n",
    "            if length < track_length_thresh:\n",
    "                short_wing.append(wing)\n",
    "            else:\n",
    "                long_wing.append(wing)\n",
    "        all_wing.extend(obs['mean_wing'])"
   ]
  },
  {
   "cell_type": "code",
   "execution_count": null,
   "metadata": {},
   "outputs": [],
   "source": [
    "all_wing = np.array(all_wing)\n",
    "print(len(all_wing[all_wing>150])/len(all_wing))\n",
    "print(np.max(all_wing))\n",
    "print(len(all_wing[all_wing>150]), len(all_wing))"
   ]
  },
  {
   "cell_type": "code",
   "execution_count": null,
   "metadata": {},
   "outputs": [],
   "source": [
    "all_wing[all_wing==11].shape"
   ]
  },
  {
   "cell_type": "code",
   "execution_count": null,
   "metadata": {},
   "outputs": [],
   "source": [
    "import scipy.stats\n",
    "print(f'mean: {np.mean(all_wing)}, '\n",
    "      f'mode: {scipy.stats.mode(all_wing.astype(int))}',\n",
    "      f' median: {np.median(all_wing)}')\n",
    "\n",
    "print(np.percentile(all_wing, 2.5), np.percentile(all_wing, 97.5))"
   ]
  },
  {
   "cell_type": "code",
   "execution_count": null,
   "metadata": {},
   "outputs": [],
   "source": [
    "colors = [\"#393939\", \"#909090\"]\n",
    "\n",
    "long_wing = np.array(long_wing)\n",
    "short_wing = np.array(short_wing)\n",
    "\n",
    "wing_thresh = 80\n",
    "\n",
    "_ = plt.hist([long_wing[long_wing<wing_thresh], short_wing[short_wing<wing_thresh]], bins=200, \n",
    "             stacked=True, label=['long tracks (>= 5 frames)', 'short tracks (< 5 frames)'], color=[(0, 0, 0), (.75, .75, .75)])\n",
    "# plt.xlim(0, darkness_threshold)\n",
    "# plt.xticks(np.arange(0, 170, 20), np.arange(0, 170, 20))\n",
    "plt.xlabel('Estimated wingspan (pixels)')\n",
    "plt.ylabel('Number of tracks')\n",
    "plt.legend()\n",
    "            \n",
    "plot_title = \"Track wingspan distribution with short tracks shown\"\n",
    "bf.save_fig(save_folder, plot_title, fig=None)\n"
   ]
  },
  {
   "cell_type": "code",
   "execution_count": null,
   "metadata": {},
   "outputs": [],
   "source": [
    "wing_validation_file = '.../bats-data/wing-validation/combined_wing_validation_info.csv'\n",
    "wing_correction_info = bf.get_wing_correction_distributions(\n",
    "    wing_validation_file, num_darkness_bins=4, kde_bw_scale=.25, should_plot=False\n",
    ")\n",
    "wing_correction_kdes, darkness_bins = wing_correction_info\n",
    "\n",
    "lower_percentile = 0.0\n",
    "upper_percentile = 1.0\n",
    "\n",
    "measured_wings = []\n",
    "est_heights = []\n",
    "wing_samples = 100000\n",
    "kde = wing_correction_kdes[3]\n",
    "for measured_wing in [48]:\n",
    "    correction_scales = kde.sample(wing_samples)[:, 0]\n",
    "\n",
    "\n",
    "    biased_wing = bf.correct_wingspan(np.ones(wing_samples)*measured_wing, \n",
    "                                      correction_scales)\n",
    "#     # No wingspans smaller than 2 pixels\n",
    "#     biased_wing = np.maximum(biased_wing, 2) \n",
    "    heights = bf.calculate_height(\n",
    "        biased_wing, HCONST, WINGSPAN)\n",
    "    heights = bf.get_middle_percentiles(heights, lower_percentile, upper_percentile)\n",
    "    est_heights.extend(heights)\n",
    "    measured_wings.extend([measured_wing for _ in heights])\n",
    "    #             plt.figure()\n",
    "    #             _= plt.hist(heights, bins=100)\n",
    "plt.figure(figsize=(10, 10))\n",
    "sns.violinplot(x=measured_wings, y=est_heights, color='#AAAAAA')\n",
    "plt.xlabel('Wingspan (pixels)')\n",
    "plt.ylabel('Estimated Height (meters)')\n",
    "title = \"Wing span vs height with error\"\n",
    "\n",
    "\n"
   ]
  },
  {
   "cell_type": "code",
   "execution_count": null,
   "metadata": {},
   "outputs": [],
   "source": [
    "np.median(heights), np.mean(heights), np.percentile(heights, 25), np.percentile(heights, 75)"
   ]
  },
  {
   "cell_type": "code",
   "execution_count": null,
   "metadata": {},
   "outputs": [],
   "source": [
    "info_df.shape"
   ]
  },
  {
   "cell_type": "code",
   "execution_count": null,
   "metadata": {},
   "outputs": [],
   "source": [
    "frame_root_folder = '.../Elements/bats'\n",
    "last_camera = None\n",
    "last_date = None\n",
    "frames = None\n",
    "\n",
    "info_df.shape[0]\n",
    "\n",
    "for i in range(info_df.shape[0]):\n",
    "    if i % 300 == 0:\n",
    "        print(f'{i}!')\n",
    "    date = info_df.loc[i, 'date']\n",
    "    camera = info_df.loc[i, 'camera']\n",
    "    \n",
    "    if date != last_date or camera != last_camera:\n",
    "        images_folder = os.path.join(frame_root_folder, \n",
    "                                     date, camera, '*/*.jpg')\n",
    "        frames = sorted(glob.glob(images_folder))\n",
    "        last_camera = camera\n",
    "        last_date = date\n",
    "    frame = plt.imread(frames[info_df.loc[i, 'frame']])\n",
    "    darkness = np.mean(frame[..., 2])\n",
    "    info_df.loc[i, 'darkness'] = darkness"
   ]
  },
  {
   "cell_type": "code",
   "execution_count": null,
   "metadata": {},
   "outputs": [],
   "source": [
    "info_df['wingspan_gt'] = info_df.apply(\n",
    "    lambda x: get_wingspan(x['wingtip1_x'], x['wingtip1_y'], \n",
    "                           x['wingtip2_x'], x['wingtip2_y']),\n",
    "    axis=1)\n",
    "\n",
    "info_df['has_gt'] = info_df.apply(\n",
    "    lambda x: has_groundtruth(x['wingtip1_x'], x['wingtip2_x']),\n",
    "    axis=1)"
   ]
  },
  {
   "cell_type": "code",
   "execution_count": null,
   "metadata": {},
   "outputs": [],
   "source": []
  },
  {
   "cell_type": "code",
   "execution_count": null,
   "metadata": {},
   "outputs": [],
   "source": [
    "info_df['error_pixels'] = (info_df['wing_estimate'] - info_df['wingspan_gt'])\n",
    "info_df['error_norm'] = info_df['error_pixels'] / info_df['wing_estimate']"
   ]
  },
  {
   "cell_type": "code",
   "execution_count": null,
   "metadata": {},
   "outputs": [],
   "source": [
    "save_name = os.path.join(save_folder, \n",
    "                         \"combined_wing_validation_info.csv\")\n",
    "info_df.to_csv(save_name, index_label=False)"
   ]
  },
  {
   "cell_type": "code",
   "execution_count": null,
   "metadata": {},
   "outputs": [],
   "source": [
    "(info_df.loc[info_df['has_gt'], 'error_pixels']).hist(bins=100)\n",
    "plt.figure()\n",
    "(info_df.loc[info_df['has_gt'], 'error_norm']).hist(bins=100)"
   ]
  },
  {
   "cell_type": "code",
   "execution_count": null,
   "metadata": {},
   "outputs": [],
   "source": [
    "print('pixels mean', info_df.loc[info_df['has_gt'], 'error_pixels'].mean())\n",
    "print('pixels norm mean', info_df.loc[info_df['has_gt'], 'error_norm'].mean())"
   ]
  },
  {
   "cell_type": "code",
   "execution_count": null,
   "metadata": {},
   "outputs": [],
   "source": [
    "X = info_df.loc[info_df['has_gt'], 'wingspan_gt'].values.reshape(-1, 1)\n",
    "y = info_df.loc[info_df['has_gt'], 'error_pixels']\n",
    "reg = LinearRegression().fit(X, y)"
   ]
  },
  {
   "cell_type": "code",
   "execution_count": null,
   "metadata": {},
   "outputs": [],
   "source": [
    "reg.coef_, reg.intercept_\n",
    "print(f'R2: {reg.score(X, y)}')"
   ]
  },
  {
   "cell_type": "code",
   "execution_count": null,
   "metadata": {},
   "outputs": [],
   "source": [
    "plt.figure(figsize=(10, 10))\n",
    "plt.scatter(info_df.loc[info_df['has_gt'] & (info_df['error_norm']>-1), \n",
    "                        'wing_estimate'], \n",
    "            info_df.loc[info_df['has_gt'] & (info_df['error_norm']>-1), \n",
    "                        'error_norm'], \n",
    "            alpha=.3)\n",
    "\n",
    "plt.figure(figsize=(10, 10))\n",
    "plt.scatter(info_df.loc[info_df['has_gt'] & (info_df['error_norm']>-1), \n",
    "                        'wing_estimate'], \n",
    "            info_df.loc[info_df['has_gt'] & (info_df['error_norm']>-1), \n",
    "                        'error_pixels'], \n",
    "            alpha=.3)"
   ]
  },
  {
   "cell_type": "code",
   "execution_count": null,
   "metadata": {},
   "outputs": [],
   "source": [
    "X = info_df.loc[info_df['has_gt'], 'darkness'].values.reshape(-1, 1)\n",
    "y = info_df.loc[info_df['has_gt'], 'error_norm']\n",
    "reg = LinearRegression().fit(X, y)"
   ]
  },
  {
   "cell_type": "code",
   "execution_count": null,
   "metadata": {},
   "outputs": [],
   "source": [
    "plt.figure(figsize=(10, 10))\n",
    "plt.scatter(info_df.loc[info_df['has_gt'] & (info_df['error_norm'] > -10), \n",
    "                        'darkness'], \n",
    "            info_df.loc[info_df['has_gt'] & (info_df['error_norm'] > -10), \n",
    "                        'error_norm'], \n",
    "            alpha=.3)"
   ]
  },
  {
   "cell_type": "code",
   "execution_count": null,
   "metadata": {},
   "outputs": [],
   "source": [
    "\n",
    "error_normed = info_df.loc[info_df['has_gt'] & (info_df['darkness'] > 0), \n",
    "                           'error_norm'].values\n",
    "\n",
    "error_normed = error_normed[:, np.newaxis]\n",
    "error_normed_hist = np.histogram(error_normed, bins=100)\n"
   ]
  },
  {
   "cell_type": "code",
   "execution_count": null,
   "metadata": {},
   "outputs": [],
   "source": [
    "kde = KernelDensity(kernel='gaussian', bandwidth=0.03).fit(error_normed)\n",
    "kde.get_params()"
   ]
  },
  {
   "cell_type": "code",
   "execution_count": null,
   "metadata": {},
   "outputs": [],
   "source": [
    "kde = KernelDensity(kernel='gaussian', bandwidth=0.03).fit(error_normed)\n",
    "sorted_error = np.sort(error_normed, axis=0)\n",
    "log_dens = kde.score_samples(sorted_error)\n",
    "\n",
    "fig, ax1 = plt.subplots()\n",
    "\n",
    "color = 'tab:red'\n",
    "ax1.hist(sorted_error, bins=200)\n",
    "\n",
    "fig, ax2 = plt.subplots()\n",
    "ax2.plot(sorted_error, np.exp(log_dens), c='cyan')"
   ]
  },
  {
   "cell_type": "code",
   "execution_count": null,
   "metadata": {},
   "outputs": [],
   "source": [
    "values = kde.sample(10000)\n",
    "plt.hist(values, bins=100)"
   ]
  },
  {
   "cell_type": "code",
   "execution_count": null,
   "metadata": {},
   "outputs": [],
   "source": [
    "cond = (info_df['has_gt']) & (info_df['darkness'] < 50)\n",
    "plt.scatter(info_df.loc[cond, 'wing_estimate'],\n",
    "            info_df.loc[cond, 'error_pixels'] / info_df.loc[cond, 'wing_estimate'],\n",
    "           alpha=.1)\n",
    "plt.ylim(-1)\n",
    "# plt.figure(figsize=(10, 10))\n",
    "cond = (info_df['has_gt']) & (info_df['darkness'] > 0)\n",
    "plt.scatter(info_df.loc[cond, 'wing_estimate'],\n",
    "            info_df.loc[cond, 'error_pixels'] / info_df.loc[cond, 'wing_estimate'],\n",
    "           alpha=.1)\n",
    "plt.ylim(-1)\n",
    "\n",
    "plt.title((info_df.loc[cond, 'error_pixels'] \n",
    "           / info_df.loc[cond, 'wing_estimate']).mean())"
   ]
  },
  {
   "cell_type": "code",
   "execution_count": null,
   "metadata": {},
   "outputs": [],
   "source": [
    "X = info_df.loc[info_df['has_gt'], 'darkness'].values.reshape(-1, 1)\n",
    "y = info_df.loc[info_df['has_gt'], 'error_pixels']\n",
    "darkness_reg = LinearRegression().fit(X, y)"
   ]
  },
  {
   "cell_type": "code",
   "execution_count": null,
   "metadata": {},
   "outputs": [],
   "source": [
    "print(darkness_reg.coef_, darkness_reg.intercept_)\n",
    "print(f'R2: {darkness_reg.score(X, y)}')"
   ]
  },
  {
   "cell_type": "code",
   "execution_count": null,
   "metadata": {},
   "outputs": [],
   "source": [
    "plt.figure(figsize=(10, 10))\n",
    "plt.scatter(info_df.loc[info_df['has_gt'], 'darkness'], \n",
    "            info_df.loc[info_df['has_gt'], 'error_norm'],\n",
    "            alpha=.1)\n",
    "plt.ylim(-1)\n",
    "# plt.scatter(info_df.loc[~info_df['has_gt'], 'darkness'], \n",
    "#             info_df.loc[~info_df['has_gt'], 'wing_estimate'],\n",
    "#             alpha=.3)"
   ]
  },
  {
   "cell_type": "code",
   "execution_count": null,
   "metadata": {},
   "outputs": [],
   "source": []
  },
  {
   "cell_type": "code",
   "execution_count": null,
   "metadata": {},
   "outputs": [],
   "source": [
    "bins = 50\n",
    "dark_bins = 5\n",
    "\n",
    "error_array = np.zeros((bins, dark_bins))\n",
    "\n",
    "max_darkness = np.max(info_df.loc[info_df['has_gt'], 'darkness'])\n",
    "dark_bins_values = np.linspace(0, max_darkness, \n",
    "                               num=dark_bins+1,\n",
    "                               endpoint=True)\n",
    "dark_bins_values = dark_bins_values[1:]"
   ]
  },
  {
   "cell_type": "code",
   "execution_count": null,
   "metadata": {},
   "outputs": [],
   "source": [
    "hist_out = np.histogram2d(info_df.loc[info_df['has_gt'] & (info_df['error_norm'] > -1), 'darkness'],\n",
    "                          info_df.loc[info_df['has_gt'] & (info_df['error_norm'] > -1), 'error_norm'],\n",
    "                          bins=[4, 30], density=False)\n",
    "\n",
    "H, xedges, yedges = hist_out\n",
    "H = H.T"
   ]
  },
  {
   "cell_type": "code",
   "execution_count": null,
   "metadata": {},
   "outputs": [],
   "source": [
    "for r in range(H.shape[1]):\n",
    "    kde = KernelDensity(kernel='gaussian', bandwidth=0.03).fit(error_normed)\n",
    "    sorted_error = np.sort(error_normed, axis=0)\n",
    "    log_dens = kde.score_samples(sorted_error)\n",
    "\n",
    "    fig, ax1 = plt.subplots()\n",
    "\n",
    "    color = 'tab:red'\n",
    "    ax1.hist(sorted_error, bins=200)\n",
    "\n",
    "    fig, ax2 = plt.subplots()\n",
    "    ax2.plot(sorted_error, np.exp(log_dens), c='cyan')"
   ]
  },
  {
   "cell_type": "code",
   "execution_count": null,
   "metadata": {},
   "outputs": [],
   "source": [
    "fig = plt.figure(figsize=(14, 6))\n",
    "ax = fig.add_subplot(132, title='pcolormesh: actual edges',\n",
    "        aspect='equal')\n",
    "X, Y = np.meshgrid(xedges, yedges*100)\n",
    "ax.pcolormesh(X, Y, H)\n",
    "\n",
    "for r in range(H.shape[1]):\n",
    "    print(np.sum(H[:, r]))\n",
    "    H[:, r] /= np.sum(H[:, r])\n",
    "    \n",
    "#     print(np.sum(H[r]))\n",
    "\n",
    "fig = plt.figure(figsize=(14, 6))\n",
    "ax = fig.add_subplot(132, title='pcolormesh: actual edges',\n",
    "        aspect='equal')\n",
    "X, Y = np.meshgrid(xedges, yedges*100)\n",
    "ax.pcolormesh(X, Y, H)"
   ]
  },
  {
   "cell_type": "code",
   "execution_count": null,
   "metadata": {},
   "outputs": [],
   "source": [
    "plt.imshow(H)"
   ]
  },
  {
   "cell_type": "code",
   "execution_count": null,
   "metadata": {},
   "outputs": [],
   "source": [
    "fig = plt.figure(figsize=(14, 6))\n",
    "ax = fig.add_subplot(132, title='pcolormesh: actual edges',\n",
    "        aspect='equal')\n",
    "X, Y = np.meshgrid(xedges, yedges*100)\n",
    "ax.pcolormesh(X, Y, H)"
   ]
  },
  {
   "cell_type": "code",
   "execution_count": null,
   "metadata": {},
   "outputs": [],
   "source": [
    "plt.figure(figsize=(10,10))\n",
    "plt.imshow(hist)\n",
    "plt.ylabel(y_edge)\n",
    "plt.xlabel(x_edge)"
   ]
  },
  {
   "cell_type": "code",
   "execution_count": null,
   "metadata": {},
   "outputs": [],
   "source": [
    "bin_min_darkness = 0\n",
    "for bin_max_darkness in dark_bins_values:\n",
    "    valid_rows = ((info_df['darkness'] > bin_min_darkness) \n",
    "                  & (info_df['darkness'] <= bin_max_darkness))\n",
    "    valid_rows = (info_df['has_gt'] & valid_rows)\n",
    "\n",
    "    pixel_error = info_df.loc[valid_rows, 'error_pixels']\n",
    "    "
   ]
  },
  {
   "cell_type": "code",
   "execution_count": null,
   "metadata": {},
   "outputs": [],
   "source": [
    "plt.figure(figsize=(10, 10))\n",
    "info_df.loc[info_df['has_gt'], 'darkness'], \n",
    "info_df.loc[info_df['has_gt'], 'error_pixels'],\n"
   ]
  }
 ],
 "metadata": {
  "kernelspec": {
   "display_name": "Python 3",
   "language": "python",
   "name": "python3"
  },
  "language_info": {
   "codemirror_mode": {
    "name": "ipython",
    "version": 3
   },
   "file_extension": ".py",
   "mimetype": "text/x-python",
   "name": "python",
   "nbconvert_exporter": "python",
   "pygments_lexer": "ipython3",
   "version": "3.8.10"
  }
 },
 "nbformat": 4,
 "nbformat_minor": 4
}
