{
 "cells": [
  {
   "cell_type": "code",
   "execution_count": null,
   "metadata": {},
   "outputs": [],
   "source": [
    "import glob\n",
    "import os\n",
    "import numpy as np\n",
    "import matplotlib.pyplot as plt\n",
    "import pandas as pd\n",
    "\n",
    "from scipy import optimize\n",
    "\n",
    "import sys\n",
    "sys.path.append('.../bats-code')\n",
    "from bat_functions import get_bat_accumulation"
   ]
  },
  {
   "cell_type": "code",
   "execution_count": null,
   "metadata": {},
   "outputs": [],
   "source": [
    "def save_fig(save_folder, plot_title, fig=None):\n",
    "    plot_name = plot_title.replace(' ', '-')\n",
    "    file = os.path.join(save_folder, plot_name+'.png')\n",
    "    if fig:\n",
    "        fig.savefig(file, bbox_inches='tight', dpi=600)\n",
    "        return\n",
    "    \n",
    "    plt.savefig(file, bbox_inches='tight', dpi=600)"
   ]
  },
  {
   "cell_type": "code",
   "execution_count": null,
   "metadata": {},
   "outputs": [],
   "source": [
    "falloff_csv = '.../bats-data/bat-counting-error-falloff.csv'\n",
    "orig_csv = '.../bats-data/bat_counting_error_quantification_with_counts_padded.csv'"
   ]
  },
  {
   "cell_type": "code",
   "execution_count": null,
   "metadata": {},
   "outputs": [],
   "source": [
    "plots_save_folder = '.../bats-data/plots/falloff-validation'"
   ]
  },
  {
   "cell_type": "code",
   "execution_count": null,
   "metadata": {},
   "outputs": [],
   "source": [
    "val_df = pd.read_csv(falloff_csv)\n",
    "orig_df = pd.read_csv(orig_csv)"
   ]
  },
  {
   "cell_type": "code",
   "execution_count": null,
   "metadata": {},
   "outputs": [],
   "source": [
    "val_df['clip-num'] = [n.split('-')[-6] for n in val_df['video-clip-name']]\n",
    "val_df['camera-name'] = [n.split('-')[-8] for n in val_df['video-clip-name']]\n",
    "\n",
    "orig_df['clip-num'] = [n.split('-')[-6] for n in orig_df['Video clip name']]\n",
    "orig_df['camera-name'] = [n.split('-')[-8] for n in orig_df['Video clip name']]"
   ]
  },
  {
   "cell_type": "code",
   "execution_count": null,
   "metadata": {},
   "outputs": [],
   "source": [
    "total_bat_values = np.sum(~np.isnan(val_df['total-bats']))\n",
    "old_bat_values = np.sum(~np.isnan(val_df['total-bats-old-method']))\n",
    "new_bat_values = np.sum(~np.isnan(val_df['total-bats-new-method']))\n",
    "\n",
    "orig_total_bat_values = np.sum(~np.isnan(orig_df['total_bats']))\n",
    "orig_old_bat_values = np.sum(~np.isnan(orig_df.loc[~np.isnan(orig_df['total_bats']), 'total_bats_old_method']))\n",
    "orig_new_bat_values = np.sum(~np.isnan(orig_df.loc[~np.isnan(orig_df['total_bats']), 'total_bats_new_method']))\n",
    "\n",
    "print(f'total bat values: {total_bat_values} '\n",
    "     + f'old bat values: {old_bat_values} '\n",
    "     + f'new bat values: {new_bat_values}')\n",
    "print(f'total bat values: {orig_total_bat_values} '\n",
    "     + f'old bat values: {orig_old_bat_values} '\n",
    "     + f'new bat values: {orig_new_bat_values}')"
   ]
  },
  {
   "cell_type": "code",
   "execution_count": null,
   "metadata": {},
   "outputs": [],
   "source": [
    "has_val = ~np.isnan(val_df['total-bats'])\n",
    "total_bats = np.sum(val_df.loc[has_val, 'total-bats'])\n",
    "counted_new = np.sum(val_df.loc[has_val, 'total-bats-new-method'])\n",
    "counted_old = np.sum(val_df.loc[has_val, 'total-bats-old-method'])\n",
    "\n",
    "orig_has_val = ~np.isnan(orig_df['total_bats'])\n",
    "orig_total_bats = np.sum(orig_df.loc[orig_has_val, 'total_bats'])\n",
    "orig_counted_new = np.sum(orig_df.loc[orig_has_val, 'total_bats_new_method'])\n",
    "orig_counted_old = np.sum(orig_df.loc[orig_has_val, 'total_bats_old_method'])"
   ]
  },
  {
   "cell_type": "code",
   "execution_count": null,
   "metadata": {},
   "outputs": [],
   "source": [
    "print(f'new: {counted_new/total_bats}, old: {counted_old/total_bats}')\n",
    "print(f'orig: new: {orig_counted_new/orig_total_bats}, old: {orig_counted_old/orig_total_bats}')\n",
    "print(f'overal: new {(counted_new + orig_counted_new) / (total_bats + orig_total_bats)}')\n",
    "\n",
    "print(f'overal: old {(counted_old + orig_counted_old) / (total_bats + orig_total_bats)}')"
   ]
  },
  {
   "cell_type": "markdown",
   "metadata": {},
   "source": [
    "### Max bats in validation clips"
   ]
  },
  {
   "cell_type": "code",
   "execution_count": null,
   "metadata": {},
   "outputs": [],
   "source": [
    "np.nanmean((orig_df['total_bats'] / 15) + (val_df['total-bats'] / 7))"
   ]
  },
  {
   "cell_type": "code",
   "execution_count": null,
   "metadata": {},
   "outputs": [],
   "source": [
    "orig_df.head()"
   ]
  },
  {
   "cell_type": "markdown",
   "metadata": {},
   "source": [
    "### Do false positives cancel out?"
   ]
  },
  {
   "cell_type": "code",
   "execution_count": null,
   "metadata": {},
   "outputs": [],
   "source": [
    "grouped = val_df.groupby(['date-folder','camera-name'])\n",
    "\n",
    "ave_noise = []\n",
    "\n",
    "for name, group in grouped:\n",
    "    val_net_noise = (group.loc[has_val, 'number-false-detections-going(blue)']\n",
    "             - group.loc[has_val, 'number-false-detections-coming(yellow)']\n",
    "            )\n",
    "    ave_noise.append(np.mean(val_net_noise))\n",
    "\n",
    "plt.hist(ave_noise, bins=50)"
   ]
  },
  {
   "cell_type": "code",
   "execution_count": null,
   "metadata": {},
   "outputs": [],
   "source": []
  },
  {
   "cell_type": "code",
   "execution_count": null,
   "metadata": {},
   "outputs": [],
   "source": [
    "val_net_noise = (val_df.loc[has_val, 'number-false-detections-going(blue)']\n",
    "             - val_df.loc[has_val, 'number-false-detections-coming(yellow)']\n",
    "            )\n",
    "\n",
    "\n",
    "plt.hist(val_net_noise.values, bins=50)\n",
    "plt.xlabel('Net difference between false detections moving up vs. down')\n",
    "plt.ylabel('Number of validation clips')\n",
    "plot_title = 'noise canceling out'\n",
    "save_fig(plots_save_folder, plot_title, fig=None)\n",
    "\n",
    "\n",
    "plt.figure()\n",
    "plt.hist((val_df.loc[has_val, 'number-false-detections-going(blue)']\n",
    " + val_df.loc[has_val, 'number-false-detections-coming(yellow)']\n",
    ").values)"
   ]
  },
  {
   "cell_type": "markdown",
   "metadata": {},
   "source": [
    "### Precision"
   ]
  },
  {
   "cell_type": "code",
   "execution_count": null,
   "metadata": {},
   "outputs": [],
   "source": [
    "plt.hist((val_df.loc[has_val, 'total-bats']\n",
    " - val_df.loc[has_val, 'number-missed-detections-coming']\n",
    ").values)\n",
    "\n",
    "plt.figure()\n",
    "plt.hist((val_df.loc[has_val, 'number-missed-detections-going']\n",
    " + val_df.loc[has_val, 'number-missed-detections-coming']\n",
    ").values)"
   ]
  },
  {
   "cell_type": "code",
   "execution_count": null,
   "metadata": {},
   "outputs": [],
   "source": [
    "val_df.columns"
   ]
  },
  {
   "cell_type": "code",
   "execution_count": null,
   "metadata": {},
   "outputs": [],
   "source": [
    "# val_df[val_df['camera-name']==\"MusolePath\"]"
   ]
  },
  {
   "cell_type": "code",
   "execution_count": null,
   "metadata": {},
   "outputs": [],
   "source": [
    "plt.figure(figsize=(20,20))\n",
    "plt.scatter(val_df['darkness-mean'][val_df['new-method-fraction-total']>0], \n",
    "            val_df['new-method-fraction-total'][val_df['new-method-fraction-total']>0], \n",
    "             label='mean-darkness')\n",
    "\n",
    "# plt.figure()\n",
    "\n",
    "plt.scatter(orig_df['darkness_mean'], \n",
    "            orig_df['new_method_fraction_total'], \n",
    "             label='mean_darkness')\n",
    "\n",
    "# plt.scatter(val_df['darkness-mean'][val_df['old-method-fraction-total']>0], \n",
    "#             val_df['old-method-fraction-total'][val_df['old-method-fraction-total']>0], \n",
    "#              label='mean-darkness', marker='x')\n",
    "\n",
    "# # plt.figure()\n",
    "\n",
    "# plt.scatter(orig_df['darkness_mean'][orig_df['old_method_fraction_total']>0], \n",
    "#             orig_df['old_method_fraction_total'][orig_df['old_method_fraction_total']>0], \n",
    "#              label='mean_darkness', marker='x')"
   ]
  },
  {
   "cell_type": "code",
   "execution_count": null,
   "metadata": {},
   "outputs": [],
   "source": [
    "# orig_df.loc[(~np.isnan(orig_df['total_bats'])&(orig_df['total_bats']>0))].loc[np.isnan(orig_df.loc[(~np.isnan(orig_df['total_bats'])&(orig_df['total_bats']>0)), 'new_method_fraction_total'])]"
   ]
  },
  {
   "cell_type": "code",
   "execution_count": null,
   "metadata": {},
   "outputs": [],
   "source": [
    "not_zero = orig_df['total_bats'] != 0\n",
    "orig_df['old_method_fraction_total'] = np.nan\n",
    "orig_df['new_method_fraction_total'] = np.nan\n",
    "orig_df.loc[not_zero, 'old_method_fraction_total'] = orig_df['total_bats_old_method'][not_zero] / orig_df['total_bats'][not_zero]\n",
    "orig_df.loc[not_zero, 'new_method_fraction_total'] = orig_df['total_bats_new_method'][not_zero] / orig_df['total_bats'][not_zero]\n",
    "\n",
    "len(orig_x), len(orig_y), len(orig_weights)\n"
   ]
  },
  {
   "cell_type": "code",
   "execution_count": null,
   "metadata": {},
   "outputs": [],
   "source": [
    "##### \n",
    "import matplotlib.pyplot as plt\n",
    "import numpy as np\n",
    "\n",
    "save = False\n",
    "\n",
    "x_pruned = val_df['darkness-mean'][val_df['new-method-fraction-total']>0].values\n",
    "y_pruned = val_df['new-method-fraction-total'][val_df['new-method-fraction-total']>0].values\n",
    "weights_pruned = val_df['total-bats'][val_df['new-method-fraction-total']>0].values\n",
    "\n",
    "orig_x_pruned = orig_df['darkness_mean'][orig_df['new_method_fraction_total']>0].values\n",
    "orig_y_pruned = orig_df['new_method_fraction_total'][orig_df['new_method_fraction_total']>0].values\n",
    "orig_weights_pruned = orig_df['total_bats'][orig_df['new_method_fraction_total']>0].values\n",
    "\n",
    "x = val_df['darkness-mean'].values\n",
    "y = val_df['new-method-fraction-total'].values\n",
    "weights = val_df['total-bats'].values\n",
    "\n",
    "orig_x = orig_df.loc[(~np.isnan(orig_df['total_bats'])&(orig_df['total_bats']>0)), 'darkness_mean'].values\n",
    "orig_y = orig_df.loc[(~np.isnan(orig_df['total_bats'])&(orig_df['total_bats']>0)), 'new_method_fraction_total'].values\n",
    "orig_weights = orig_df.loc[(~np.isnan(orig_df['total_bats'])&(orig_df['total_bats']>0)), 'total_bats'].values\n",
    "\n",
    "# x = np.hstack([x, orig_x])\n",
    "# y = np.hstack([y, orig_y])\n",
    "# weights = np.hstack([weights, orig_weights])\n",
    "\n",
    "sigmas = 1 / weights\n",
    "\n",
    "def piecewise_linear(x, x0, y0, k1, k2):\n",
    "    return np.piecewise(x, [x < x0], [lambda x:k1*x + y0-k1*x0, lambda x:k2*x + y0-k2*x0])\n",
    "\n",
    "\n",
    "xd = np.linspace(5, 120, 120)\n",
    "# x_pruned = np.hstack([x_pruned, orig_x_pruned])\n",
    "# y_pruned = np.hstack([y_pruned, orig_y_pruned])\n",
    "# weights_pruned = np.hstack([weights_pruned, orig_weights_pruned])\n",
    "plt.scatter(x_pruned, y_pruned, \n",
    "            s=weights_pruned, alpha=.4)\n",
    "p , e = optimize.curve_fit(piecewise_linear, x, y, p0=[10, 1, 1, -1], sigma=sigmas)\n",
    "plt.plot(xd, piecewise_linear(xd, *p))\n",
    "plot_title = \"Darkness detection accuracy falloff 10\"\n",
    "plt.title(plot_title)\n",
    "plt.xlabel(\"Average pixel value of frame (blue channel)\")\n",
    "plt.ylabel(\"Detection Accuracy\")\n",
    "print(p)\n",
    "perr = np.sqrt(np.diag(e))\n",
    "print(perr)\n",
    "if save:\n",
    "    save_fig(plots_save_folder, plot_title, fig=None)"
   ]
  },
  {
   "cell_type": "code",
   "execution_count": null,
   "metadata": {},
   "outputs": [],
   "source": [
    "p , e = optimize.curve_fit(piecewise_linear, x, y, p0=[10, 1, 1, 0.5], sigma=sigmas)\n"
   ]
  },
  {
   "cell_type": "code",
   "execution_count": null,
   "metadata": {},
   "outputs": [],
   "source": [
    "save = False\n",
    "x_pruned = val_df['darkness-mean'][val_df['new-method-fraction-total']>0].values\n",
    "y_pruned = val_df['new-method-fraction-total'][val_df['new-method-fraction-total']>0].values\n",
    "weights_pruned = val_df['total-bats'][val_df['new-method-fraction-total']>0].values\n",
    "\n",
    "orig_x_pruned = orig_df['darkness_mean'][orig_df['new_method_fraction_total']>0].values\n",
    "orig_y_pruned = orig_df['new_method_fraction_total'][orig_df['new_method_fraction_total']>0].values\n",
    "orig_weights_pruned = orig_df['total_bats'][orig_df['new_method_fraction_total']>0].values\n",
    "\n",
    "x = val_df['darkness-mean'].values\n",
    "y = val_df['new-method-fraction-total'].values\n",
    "weights = val_df['total-bats'].values\n",
    "\n",
    "orig_x = orig_df.loc[(~np.isnan(orig_df['total_bats'])&(orig_df['total_bats']>0)), 'darkness_mean'].values\n",
    "orig_y = orig_df.loc[(~np.isnan(orig_df['total_bats'])&(orig_df['total_bats']>0)), 'new_method_fraction_total'].values\n",
    "orig_weights = orig_df.loc[(~np.isnan(orig_df['total_bats'])&(orig_df['total_bats']>0)), 'total_bats'].values \n",
    "\n",
    "x = np.hstack([x, orig_x])\n",
    "y = np.hstack([y, orig_y])\n",
    "weights = np.hstack([weights, orig_weights])\n",
    "\n",
    "sigmas = 1 / weights\n",
    "\n",
    "def piecewise_linear(x, x0, y0, k1, k2):\n",
    "    return np.piecewise(x, [x < x0], [lambda x:k1*x + y0-k1*x0, lambda x:k2*x + y0-k2*x0])\n",
    "\n",
    "\n",
    "xd = np.linspace(0, 170, 170)\n",
    "x_pruned = np.hstack([x_pruned, orig_x_pruned])\n",
    "y_pruned = np.hstack([y_pruned, orig_y_pruned])\n",
    "weights_pruned = np.hstack([weights_pruned, orig_weights_pruned])\n",
    "# Raw\n",
    "# plt.scatter(x, y, \n",
    "#             s=weights, alpha=.4, label='Falloff validation', c='k')\n",
    "\n",
    "# Pruned\n",
    "plt.scatter(x_pruned, y_pruned, \n",
    "            s=weights_pruned, alpha=.4, label='Falloff validation', c='k')\n",
    "\n",
    "# Center points\n",
    "# plt.scatter(x_pruned, y_pruned, \n",
    "#             s=1, alpha=.4, label='Falloff validation', c='w')\n",
    "\n",
    "# Just original validation\n",
    "# plt.scatter(orig_x_pruned, orig_y_pruned, \n",
    "#             s=orig_weights_pruned/2, alpha=.4, label='Original validation', c='b')\n",
    "\n",
    "p , e = optimize.curve_fit(piecewise_linear, x, y, p0=[10, 1, 1, 1], sigma=sigmas)\n",
    "plt.plot(xd, piecewise_linear(xd, *p), c='gray')\n",
    "plt.margins(x=0)\n",
    "plt.xticks(np.arange(0, 180, 20), np.arange(0, 180, 20))\n",
    "\n",
    "# plt.legend()\n",
    "\n",
    "plot_title = \"Darkness detection accuracy all black all points\"\n",
    "# plt.title(plot_title)\n",
    "plt.xlabel(\"Average pixel value of frame (blue channel)\")\n",
    "plt.ylabel(\"Detection Accuracy\")\n",
    "\n",
    "print(p)\n",
    "if save:\n",
    "    save_fig(plots_save_folder, plot_title, fig=None)"
   ]
  },
  {
   "cell_type": "code",
   "execution_count": null,
   "metadata": {},
   "outputs": [],
   "source": [
    "print(f'function 1: y = {p[2]}x + {p[1] - p[2]*p[0]}')\n",
    "print(f'function 2: y = {p[3]}x + {p[1] - p[3]*p[0]}')"
   ]
  },
  {
   "cell_type": "code",
   "execution_count": null,
   "metadata": {},
   "outputs": [],
   "source": [
    "save = False\n",
    "x_pruned = val_df['darkness-mean'][val_df['new-method-fraction-total']>0].values\n",
    "y_pruned = val_df['new-method-fraction-total'][val_df['new-method-fraction-total']>0].values\n",
    "weights_pruned = val_df['total-bats'][val_df['new-method-fraction-total']>0].values\n",
    "\n",
    "orig_x_pruned = orig_df['darkness_mean'][orig_df['new_method_fraction_total']>0].values\n",
    "orig_y_pruned = orig_df['new_method_fraction_total'][orig_df['new_method_fraction_total']>0].values\n",
    "orig_weights_pruned = orig_df['total_bats'][orig_df['new_method_fraction_total']>0].values\n",
    "\n",
    "x = val_df['darkness-mean'].values\n",
    "y = val_df['new-method-fraction-total'].values\n",
    "weights = val_df['total-bats'].values\n",
    "\n",
    "orig_x = orig_df.loc[(~np.isnan(orig_df['total_bats'])&(orig_df['total_bats']>0)), 'darkness_mean'].values\n",
    "orig_y = orig_df.loc[(~np.isnan(orig_df['total_bats'])&(orig_df['total_bats']>0)), 'new_method_fraction_total'].values\n",
    "orig_weights = orig_df.loc[(~np.isnan(orig_df['total_bats'])&(orig_df['total_bats']>0)), 'total_bats'].values \n",
    "\n",
    "x = np.hstack([x, orig_x])\n",
    "y = np.hstack([y, orig_y])\n",
    "weights = np.hstack([weights, orig_weights])\n",
    "\n",
    "sigmas = 1 / weights\n",
    "\n",
    "def piecewise_linear(x, x0, y0, k1, k2):\n",
    "    return np.piecewise(x, [x < x0], [lambda x:k1*x + y0-k1*x0, lambda x:k2*x + y0-k2*x0])\n",
    "\n",
    "\n",
    "xd = np.linspace(0, 170, 170)\n",
    "x_pruned = np.hstack([x_pruned, orig_x_pruned])\n",
    "y_pruned = np.hstack([y_pruned, orig_y_pruned])\n",
    "weights_pruned = np.hstack([weights_pruned, orig_weights_pruned])\n",
    "# Raw\n",
    "# plt.scatter(x, y, \n",
    "#             s=weights, alpha=.4, label='Falloff validation', c='k')\n",
    "\n",
    "# Pruned\n",
    "plt.scatter(x, y, \n",
    "            s=weights, alpha=.4, label='Falloff validation', c='k')\n",
    "\n",
    "# Center points\n",
    "# plt.scatter(x_pruned, y_pruned, \n",
    "#             s=1, alpha=.4, label='Falloff validation', c='w')\n",
    "\n",
    "# Just original validation\n",
    "# plt.scatter(orig_x_pruned, orig_y_pruned, \n",
    "#             s=orig_weights_pruned/2, alpha=.4, label='Original validation', c='b')\n",
    "\n",
    "p , e = optimize.curve_fit(piecewise_linear, x, y, p0=[10, 1, 1, 1], sigma=sigmas)\n",
    "plt.plot(xd, piecewise_linear(xd, *p), c='gray')\n",
    "plt.margins(x=0)\n",
    "plt.xticks(np.arange(0, 180, 20), np.arange(0, 180, 20))\n",
    "\n",
    "# plt.legend()\n",
    "\n",
    "plot_title = \"Darkness detection accuracy all black plus negatives\"\n",
    "# plt.title(plot_title)\n",
    "plt.xlabel(\"Average pixel value of frame (blue channel)\")\n",
    "plt.ylabel(\"Detection Accuracy\")\n",
    "\n",
    "print(p)\n",
    "if save:\n",
    "    save_fig(plots_save_folder, plot_title, fig=None)"
   ]
  },
  {
   "cell_type": "code",
   "execution_count": null,
   "metadata": {},
   "outputs": [],
   "source": [
    "plt.scatter(orig_x_pruned, orig_y_pruned, \n",
    "            s=orig_weights_pruned/2, alpha=.4, label='Original validation', c='b')\n",
    "\n",
    "plt.figure()\n",
    "plt.scatter(orig_x, orig_y, \n",
    "            s=orig_weights/2, alpha=.4, label='Original validation', c='b')"
   ]
  },
  {
   "cell_type": "code",
   "execution_count": null,
   "metadata": {},
   "outputs": [],
   "source": [
    "# residuals = []\n",
    "# for x, y, w in zip(x_pruned, y_pruned, weights_pruned):\n",
    "#     y_pred = piecewise_linear(x, *p)\n",
    "#     y_pred = .93\n",
    "#     if y - y_pred > -1:\n",
    "#         for _ in range(int(w)):\n",
    "#             residuals.append(y - y_pred)\n",
    "# plt.hist(residuals, bins = 50)\n",
    "residuals = []\n",
    "for x_val, y_val, w in zip(x, y, weights):\n",
    "#     w=1\n",
    "    y_pred = piecewise_linear(x_val, *p)\n",
    "#     y_pred = .94\n",
    "    residual = np.abs(y_pred - y_val)\n",
    "#     w = 1\n",
    "    for _ in range(int(w)):\n",
    "        residuals.append(residual)\n",
    "_ = plt.hist(residuals, bins = 100)\n",
    "print(f\"mean: {np.mean(residuals)}\")"
   ]
  },
  {
   "cell_type": "code",
   "execution_count": null,
   "metadata": {},
   "outputs": [],
   "source": [
    "break_point = 0\n",
    "\n",
    "\n",
    "break_y = orig_y[orig_x > break_point]\n",
    "break_x = orig_x[orig_x > break_point]\n",
    "break_weights = orig_weights[orig_x > break_point]"
   ]
  },
  {
   "cell_type": "code",
   "execution_count": null,
   "metadata": {},
   "outputs": [],
   "source": [
    "mean = np.sum(break_y * break_weights / np.sum(break_weights))\n",
    "print(f\"mean: {mean}\")\n",
    "print(f\"median: {np.median(break_y)}\")\n",
    "\n",
    "std_numerator = np.sum((break_y - mean) ** 2 * break_weights)\n",
    "std_denomenator = ((len(break_weights) - 1) / len(break_weights)) * np.sum(break_weights)\n",
    "std = np.sqrt(std_numerator / std_denomenator)\n",
    "print(f\"std: {std}\")"
   ]
  },
  {
   "cell_type": "code",
   "execution_count": null,
   "metadata": {},
   "outputs": [],
   "source": [
    "len(break_y)"
   ]
  },
  {
   "cell_type": "code",
   "execution_count": null,
   "metadata": {},
   "outputs": [],
   "source": [
    "print(f\" 25: {np.percentile(break_y, 25)}, 75: {np.percentile(break_y, 75)}\")\n",
    "weighted_y = np.repeat(break_y, break_weights.astype(int))\n",
    "print(f\" 25: {np.percentile(weighted_y, 25)}, 50: {np.percentile(weighted_y, 50)}, 75: {np.percentile(weighted_y, 75)}\")\n",
    "\n",
    "# old_method\n",
    "old_orig_x = orig_df.loc[(~np.isnan(orig_df['total_bats'])&(orig_df['total_bats']>0)), 'darkness_mean'].values\n",
    "old_orig_y = orig_df.loc[(~np.isnan(orig_df['total_bats'])&(orig_df['total_bats']>0)), 'old_method_fraction_total'].values\n",
    "old_orig_weights = orig_df.loc[(~np.isnan(orig_df['total_bats'])&(orig_df['total_bats']>0)), 'total_bats'].values\n",
    "\n",
    "print(f\" 25: {np.percentile(old_orig_y, 25)}, 75: {np.percentile(old_orig_y, 75)}\")\n",
    "old_weighted_y = np.repeat(old_orig_y, old_orig_weights.astype(int))\n",
    "print(f\" 25: {np.percentile(old_weighted_y, 25)}, 50: {np.percentile(old_weighted_y, 50)}, 75: {np.percentile(old_weighted_y, 75)}\")\n"
   ]
  },
  {
   "cell_type": "code",
   "execution_count": null,
   "metadata": {},
   "outputs": [],
   "source": [
    "x = val_df['darkness-mean'].values\n",
    "y = val_df['new-method-fraction-total'].values\n",
    "weights = val_df['total-bats'].values\n",
    "\n",
    "y_old = val_df['old-method-fraction-total'].values"
   ]
  },
  {
   "cell_type": "code",
   "execution_count": null,
   "metadata": {},
   "outputs": [],
   "source": [
    "print(f\" 25: {np.percentile(y, 25)}, 75: {np.percentile(y, 75)}\")\n",
    "weighted_y = np.repeat(y, weights.astype(int))\n",
    "print(f\" 25: {np.percentile(weighted_y, 25)}, 50: {np.percentile(weighted_y, 50)}, 75: {np.percentile(weighted_y, 75)}\")\n",
    "\n",
    "# old_method\n",
    "print(f\" 25: {np.percentile(y_old, 25)}, 75: {np.percentile(y_old, 75)}\")\n",
    "old_weighted_y = np.repeat(y_old, weights.astype(int))\n",
    "print(f\" 25: {np.percentile(y_old, 25)}, 50: {np.percentile(y_old, 50)}, 75: {np.percentile(y_old, 75)}\")\n"
   ]
  },
  {
   "cell_type": "code",
   "execution_count": null,
   "metadata": {},
   "outputs": [],
   "source": [
    "mean = np.sum(y * weights / np.sum(weights))\n",
    "print(f\"mean: {mean}\")\n",
    "\n",
    "mean = np.sum(y_old * weights / np.sum(weights))\n",
    "print(f\"mean: {mean}\")"
   ]
  },
  {
   "cell_type": "code",
   "execution_count": null,
   "metadata": {},
   "outputs": [],
   "source": [
    "plt.scatter(x, y)\n",
    "plt.scatter(x, y_old)\n",
    "plt.ylim(0,2)\n",
    "\n",
    "print()"
   ]
  },
  {
   "cell_type": "code",
   "execution_count": null,
   "metadata": {},
   "outputs": [],
   "source": [
    "plt.hist(break_y, bins=20)\n",
    "plt.figure()\n",
    "plt.hist(old_orig_y, bins = 20)"
   ]
  },
  {
   "cell_type": "code",
   "execution_count": null,
   "metadata": {},
   "outputs": [],
   "source": [
    "val_df['camera-type'] = \"new\"\n",
    "val_df.loc[val_df['camera-name']=='FibweParking', 'camera-type'] = 'gp4'\n",
    "val_df.loc[val_df['camera-name']=='FibweParking2', 'camera-type'] = 'gp4'\n",
    "val_df.loc[val_df['camera-name']=='FibwePublic', 'camera-type'] = 'gp4'\n",
    "val_df.loc[val_df['camera-name']=='MusoleTower', 'camera-type'] = 'gp4'\n",
    "val_df.loc[val_df['camera-name']=='MusolePath', 'camera-type'] = 'gp4'\n",
    "val_df.loc[val_df['camera-name']=='MusolePath2', 'camera-type'] = 'gp4'\n",
    "\n",
    "\n",
    "orig_df['camera-type'] = \"new\"\n",
    "orig_df.loc[orig_df['clip-num']=='FibweParking', 'camera-type'] = 'gp4'\n",
    "orig_df.loc[orig_df['clip-num']=='FibweParking2', 'camera-type'] = 'gp4'\n",
    "orig_df.loc[orig_df['clip-num']=='FibwePublic', 'camera-type'] = 'gp4'\n",
    "orig_df.loc[orig_df['clip-num']=='MusoleTower', 'camera-type'] = 'gp4'\n",
    "orig_df.loc[orig_df['clip-num']=='MusolePath', 'camera-type'] = 'gp4'\n",
    "orig_df.loc[orig_df['clip-num']=='MusolePath2', 'camera-type'] = 'gp4'"
   ]
  },
  {
   "cell_type": "code",
   "execution_count": null,
   "metadata": {},
   "outputs": [],
   "source": [
    "orig_df.head()"
   ]
  },
  {
   "cell_type": "code",
   "execution_count": null,
   "metadata": {},
   "outputs": [],
   "source": [
    "orig_df['clip-num'].unique()"
   ]
  },
  {
   "cell_type": "code",
   "execution_count": null,
   "metadata": {},
   "outputs": [],
   "source": [
    "camera_types = ['gp4', 'new']\n",
    "\n",
    "\n",
    "save = False\n",
    "\n",
    "for camera_type in camera_types:\n",
    "    select_rows = ((val_df['new-method-fraction-total'] > 0)\n",
    "                   & (val_df['camera-type'] == camera_type))\n",
    "    x_pruned = val_df['darkness-mean'][select_rows].values\n",
    "    y_pruned = val_df['new-method-fraction-total'][select_rows].values\n",
    "    weights_pruned = val_df['total-bats'][select_rows].values\n",
    "\n",
    "    select_rows = ((orig_df['new_method_fraction_total'] > 0)\n",
    "                   & (orig_df['camera-type'] == camera_type))\n",
    "    orig_x_pruned = orig_df['darkness_mean'][select_rows].values\n",
    "    orig_y_pruned = orig_df['new_method_fraction_total'][select_rows].values\n",
    "    orig_weights_pruned = orig_df['total_bats'][select_rows].values\n",
    "\n",
    "    x = val_df['darkness-mean'][val_df['camera-type'] == camera_type].values\n",
    "    y = val_df['new-method-fraction-total'][val_df['camera-type'] == camera_type].values\n",
    "    weights = val_df['total-bats'][val_df['camera-type'] == camera_type].values\n",
    "\n",
    "    \n",
    "    select_orig_rows = (~np.isnan(orig_df['total_bats'])\n",
    "                        &(orig_df['total_bats'] > 0)\n",
    "                        &(orig_df['camera-type'] == camera_type))\n",
    "    orig_x = orig_df.loc[select_orig_rows, 'darkness_mean'].values\n",
    "    orig_y = orig_df.loc[select_orig_rows, 'new_method_fraction_total'].values\n",
    "    orig_weights = orig_df.loc[select_orig_rows, 'total_bats'].values\n",
    "\n",
    "    x = np.hstack([x, orig_x])\n",
    "    y = np.hstack([y, orig_y])\n",
    "    weights = np.hstack([weights, orig_weights])\n",
    "\n",
    "    sigmas = 1 / weights\n",
    "\n",
    "    def piecewise_linear(x, x0, y0, k1, k2):\n",
    "        return np.piecewise(x, [x < x0], [lambda x:k1*x + y0-k1*x0, lambda x:k2*x + y0-k2*x0])\n",
    "\n",
    "\n",
    "    xd = np.linspace(5, 140, 140)\n",
    "    x_pruned = np.hstack([x_pruned, orig_x_pruned])\n",
    "    y_pruned = np.hstack([y_pruned, orig_y_pruned])\n",
    "    weights_pruned = np.hstack([weights_pruned, orig_weights_pruned])\n",
    "    \n",
    "#     plt.figure()\n",
    "    \n",
    "    plt.scatter(x_pruned, y_pruned, \n",
    "                s=weights_pruned, alpha=.4)\n",
    "    p , e = optimize.curve_fit(piecewise_linear, x, y, p0=[20, 1, 1, -1], sigma=sigmas)\n",
    "    \n",
    "    residuals = y- piecewise_linear(x, *p)\n",
    "    ss_res = np.sum(residuals**2)\n",
    "    ss_tot = np.sum((y-np.mean(y))**2)\n",
    "    r_squared = 1 - (ss_res / ss_tot)\n",
    "    print(f\"{camera_type}: r_squared: {r_squared}\")\n",
    "    \n",
    "    if camera_type == \"gp4\":\n",
    "        label = \"GoPro 4\"\n",
    "    else:\n",
    "        label = \"GoPro 6 or 7\"\n",
    "    \n",
    "    plt.plot(xd, piecewise_linear(xd, *p), label=label)\n",
    "    plot_title = \"Brightness detection accuracy new and old cameas\"\n",
    "    plt.title(plot_title)\n",
    "    plt.xlabel(\"Average pixel value of frame (blue channel)\")\n",
    "    plt.ylabel(\"Detection Accuracy\")\n",
    "#     print(p)\n",
    "#     perr = np.sqrt(np.diag(e))\n",
    "#     print(perr)\n",
    "if save:\n",
    "    plt.legend()\n",
    "    save_fig(plots_save_folder, plot_title, fig=None)"
   ]
  },
  {
   "cell_type": "code",
   "execution_count": null,
   "metadata": {},
   "outputs": [],
   "source": [
    "val_df['date-folder']"
   ]
  },
  {
   "cell_type": "code",
   "execution_count": null,
   "metadata": {},
   "outputs": [],
   "source": [
    "dates = ['16', '17']\n",
    "\n",
    "\n",
    "save = True\n",
    "\n",
    "for date in dates:\n",
    "    orig_date = date + ' Nov'\n",
    "    val_date = date + 'Nov'\n",
    "    select_rows = ((val_df['new-method-fraction-total'] > 0)\n",
    "                   & (val_df['date-folder'] == val_date))\n",
    "    x_pruned = val_df['darkness-mean'][select_rows].values\n",
    "    y_pruned = val_df['new-method-fraction-total'][select_rows].values\n",
    "    weights_pruned = val_df['total-bats'][select_rows].values\n",
    "\n",
    "    select_rows = ((orig_df['new_method_fraction_total'] > 0)\n",
    "                   & (orig_df['date_folder'] == orig_date))\n",
    "    orig_x_pruned = orig_df['darkness_mean'][select_rows].values\n",
    "    orig_y_pruned = orig_df['new_method_fraction_total'][select_rows].values\n",
    "    orig_weights_pruned = orig_df['total_bats'][select_rows].values\n",
    "\n",
    "    x = val_df['darkness-mean'][val_df['date-folder'] == val_date].values\n",
    "    y = val_df['new-method-fraction-total'][val_df['date-folder'] == val_date].values\n",
    "    weights = val_df['total-bats'][val_df['date-folder'] == val_date].values\n",
    "\n",
    "    \n",
    "    select_orig_rows = (~np.isnan(orig_df['total_bats'])\n",
    "                        &(orig_df['total_bats'] > 0)\n",
    "                        &(orig_df['date_folder'] == orig_date))\n",
    "    orig_x = orig_df.loc[select_orig_rows, 'darkness_mean'].values\n",
    "    orig_y = orig_df.loc[select_orig_rows, 'new_method_fraction_total'].values\n",
    "    orig_weights = orig_df.loc[select_orig_rows, 'total_bats'].values\n",
    "\n",
    "    x = np.hstack([x, orig_x])\n",
    "    y = np.hstack([y, orig_y])\n",
    "    weights = np.hstack([weights, orig_weights])\n",
    "    \n",
    "    \n",
    "    \n",
    "    print(date, 'acc:', np.sum(y * (weights / np.sum(weights))))\n",
    "\n",
    "    sigmas = 1 / weights\n",
    "\n",
    "    def piecewise_linear(x, x0, y0, k1, k2):\n",
    "        return np.piecewise(x, [x < x0], [lambda x:k1*x + y0-k1*x0, lambda x:k2*x + y0-k2*x0])\n",
    "\n",
    "\n",
    "    xd = np.linspace(5, 140, 140)\n",
    "    x_pruned = np.hstack([x_pruned, orig_x_pruned])\n",
    "    y_pruned = np.hstack([y_pruned, orig_y_pruned])\n",
    "    weights_pruned = np.hstack([weights_pruned, orig_weights_pruned])\n",
    "    \n",
    "    plt.scatter(x_pruned, y_pruned, \n",
    "                s=weights_pruned, alpha=.4, label=(date + 'Nov'))\n",
    "    p , e = optimize.curve_fit(piecewise_linear, x, y, p0=[20, 1, 1, -1], sigma=sigmas)\n",
    "    \n",
    "    residuals = y- piecewise_linear(x, *p)\n",
    "    ss_res = np.sum(residuals**2)\n",
    "    ss_tot = np.sum((y-np.mean(y))**2)\n",
    "    r_squared = 1 - (ss_res / ss_tot)\n",
    "    print(f\"{date}: r_squared: {r_squared}\")\n",
    "    \n",
    "    \n",
    "    plt.plot(xd, piecewise_linear(xd, *p))\n",
    "    plot_title = \"Detection accuracy 16th vs 17th\"\n",
    "    plt.title(plot_title)\n",
    "    plt.xlabel(\"Average pixel value of frame (blue channel)\")\n",
    "    plt.ylabel(\"Detection Accuracy\")\n",
    "    print(p)\n",
    "    perr = np.sqrt(np.diag(e))\n",
    "    print(perr)\n",
    "plt.legend()\n",
    "if save:\n",
    "    \n",
    "    save_fig(plots_save_folder, plot_title, fig=None)"
   ]
  },
  {
   "cell_type": "code",
   "execution_count": null,
   "metadata": {},
   "outputs": [],
   "source": []
  },
  {
   "cell_type": "code",
   "execution_count": null,
   "metadata": {},
   "outputs": [],
   "source": []
  },
  {
   "cell_type": "code",
   "execution_count": null,
   "metadata": {},
   "outputs": [],
   "source": [
    "x_pruned = val_df['darkness-mean'][val_df['new-method-fraction-total']>0].values\n",
    "y_pruned = val_df['new-method-fraction-total'][val_df['new-method-fraction-total']>0].values\n",
    "weights_pruned = val_df['total-bats'][val_df['new-method-fraction-total']>0].values\n",
    "\n",
    "orig_x_pruned = orig_df['darkness_mean'][orig_df['new_method_fraction_total']>0].values\n",
    "orig_y_pruned = orig_df['new_method_fraction_total'][orig_df['new_method_fraction_total']>0].values\n",
    "orig_weights_pruned = orig_df['total_bats'][orig_df['new_method_fraction_total']>0].values\n",
    "\n",
    "x = val_df['darkness-mean'].values\n",
    "y = val_df['new-method-fraction-total'].values\n",
    "weights = val_df['total-bats'].values\n",
    "\n",
    "orig_x = orig_df.loc[(~np.isnan(orig_df['total_bats'])&(orig_df['total_bats']>0)), 'darkness_mean'].values\n",
    "orig_y = orig_df.loc[(~np.isnan(orig_df['total_bats'])&(orig_df['total_bats']>0)), 'new_method_fraction_total'].values\n",
    "orig_weights = orig_df.loc[(~np.isnan(orig_df['total_bats'])&(orig_df['total_bats']>0)), 'total_bats'].values \n",
    "\n",
    "x = np.hstack([x, orig_x])\n",
    "y = np.hstack([y, orig_y])\n",
    "weights = np.hstack([weights, orig_weights])\n",
    "\n",
    "sigmas = 1 / weights\n",
    "\n",
    "def piecewise_linear(x, x0, y0, k1, k2):\n",
    "    return np.piecewise(x, [x < x0], [lambda x:k1*x + y0-k1*x0, lambda x:k2*x + y0-k2*x0])\n",
    "\n",
    "\n",
    "xd = np.linspace(0, 170, 170)\n",
    "x_pruned = np.hstack([x_pruned, orig_x_pruned])\n",
    "y_pruned = np.hstack([y_pruned, orig_y_pruned])\n",
    "weights_pruned = np.hstack([weights_pruned, orig_weights_pruned])\n",
    "# Raw\n",
    "# plt.scatter(x, y, \n",
    "#             s=weights, alpha=.4, label='Falloff validation')\n",
    "\n",
    "# Pruned\n",
    "plt.scatter(x_pruned, y_pruned, \n",
    "            s=weights_pruned, alpha=.4, label='Falloff validation', c='k')\n",
    "\n",
    "# Center points\n",
    "# plt.scatter(x_pruned, y_pruned, \n",
    "#             s=1, alpha=.4, label='Falloff validation', c='w')\n",
    "\n",
    "# Just original validation\n",
    "# plt.scatter(orig_x_pruned, orig_y_pruned, \n",
    "#             s=orig_weights_pruned/2, alpha=.4, label='Original validation', c='b')\n",
    "\n",
    "p , e = optimize.curve_fit(piecewise_linear, x, y, p0=[10, 1, 1, 1], sigma=sigmas)\n",
    "plt.plot(xd, piecewise_linear(xd, *p), c='gray')\n",
    "plt.margins(x=0)\n",
    "plt.xticks(np.arange(0, 180, 20), np.arange(0, 180, 20))\n",
    "\n",
    "# plt.legend()\n",
    "\n",
    "plot_title = \"Darkness detection accuracy all black\"\n",
    "# plt.title(plot_title)\n",
    "plt.xlabel(\"Average pixel value of frame (blue channel)\")\n",
    "plt.ylabel(\"Detection Accuracy\")\n",
    "\n",
    "# print(p)\n",
    "# save_fig(plots_save_folder, plot_title, fig=None)"
   ]
  },
  {
   "cell_type": "code",
   "execution_count": null,
   "metadata": {},
   "outputs": [],
   "source": []
  },
  {
   "cell_type": "code",
   "execution_count": null,
   "metadata": {},
   "outputs": [],
   "source": [
    "plots_save_folder"
   ]
  },
  {
   "cell_type": "code",
   "execution_count": null,
   "metadata": {},
   "outputs": [],
   "source": [
    "orig_x = orig_df.loc[(~np.isnan(orig_df['total_bats'])&(orig_df['total_bats']>0)), 'darkness_mean'].values\n",
    "orig_y = orig_df.loc[(~np.isnan(orig_df['total_bats'])&(orig_df['total_bats']>0)), 'total_bats_new_method'].values\n",
    "orig_weights = orig_df.loc[(~np.isnan(orig_df['total_bats'])&(orig_df['total_bats']>0)), 'total_bats'].values \n",
    "\n",
    "x = np.any(np.isnan(orig_x))\n",
    "y =  np.where(np.isnan(orig_y))\n",
    "weights =  np.any(np.isnan(orig_weights))\n",
    "print(x, y, weights)"
   ]
  },
  {
   "cell_type": "code",
   "execution_count": null,
   "metadata": {},
   "outputs": [],
   "source": [
    "p[1]-p[3]*p[0], p[1]-p[2]*p[0]"
   ]
  },
  {
   "cell_type": "code",
   "execution_count": null,
   "metadata": {},
   "outputs": [],
   "source": [
    "x_pruned = val_df['darkness-mean'][val_df['new-method-fraction-total']>0].values\n",
    "y_pruned = val_df['new-method-fraction-total'][val_df['new-method-fraction-total']>0].values\n",
    "weights_pruned = val_df['total-bats'][val_df['new-method-fraction-total']>0].values\n",
    "\n",
    "orig_x_pruned = orig_df['darkness_mean'][orig_df['new_method_fraction_total']>0].values\n",
    "orig_y_pruned = orig_df['new_method_fraction_total'][orig_df['new_method_fraction_total']>0].values\n",
    "orig_weights_pruned = orig_df['total_bats'][orig_df['new_method_fraction_total']>0].values\n",
    "\n",
    "x = val_df['darkness-mean'].values\n",
    "y = val_df['new-method-fraction-total'].values\n",
    "weights = val_df['total-bats'].values\n",
    "\n",
    "orig_x = orig_df.loc[(~np.isnan(orig_df['total_bats'])&(orig_df['total_bats']>0)), 'darkness_mean'].values\n",
    "orig_y = orig_df.loc[(~np.isnan(orig_df['total_bats'])&(orig_df['total_bats']>0)), 'new_method_fraction_total'].values\n",
    "orig_weights = orig_df.loc[(~np.isnan(orig_df['total_bats'])&(orig_df['total_bats']>0)), 'total_bats'].values \n",
    "\n",
    "x = np.hstack([x, orig_x])\n",
    "y = np.hstack([y, orig_y])\n",
    "weights = np.hstack([weights, orig_weights])\n",
    "\n",
    "sigmas = 1 / weights\n",
    "\n",
    "def piecewise_linear(x, x0, y0, k1, k2):\n",
    "    return np.piecewise(x, [x < x0], [lambda x:k1*x + y0-k1*x0, lambda x:k2*x + y0-k2*x0])\n",
    "\n",
    "\n",
    "xd = np.linspace(0, 160, 160)\n",
    "x_pruned = np.hstack([x_pruned, orig_x_pruned])\n",
    "y_pruned = np.hstack([y_pruned, orig_y_pruned])\n",
    "weights_pruned = np.hstack([weights_pruned, orig_weights_pruned/2])\n",
    "plt.scatter(x_pruned, y_pruned, \n",
    "            s=weights_pruned, alpha=.4, label='Deep learning')\n",
    "\n",
    "p , e = optimize.curve_fit(piecewise_linear, x, y, p0=[30, 1, 1, 1], sigma=sigmas)\n",
    "plt.plot(xd, piecewise_linear(xd, *p))\n",
    "plt.legend()\n",
    "\n",
    "\n",
    "x_pruned = val_df['darkness-mean'][val_df['old-method-fraction-total']>0].values\n",
    "y_pruned = val_df['old-method-fraction-total'][val_df['old-method-fraction-total']>0].values\n",
    "weights_pruned = val_df['total-bats'][val_df['old-method-fraction-total']>0].values\n",
    "x_pruned = x_pruned[y_pruned<2]\n",
    "weights_pruned = weights_pruned[y_pruned<2]\n",
    "y_pruned = y_pruned[y_pruned<2]\n",
    "\n",
    "\n",
    "orig_x_pruned = orig_df['darkness_mean'][orig_df['old_method_fraction_total']>0].values\n",
    "orig_y_pruned = orig_df['old_method_fraction_total'][orig_df['old_method_fraction_total']>0].values\n",
    "orig_weights_pruned = orig_df['total_bats'][orig_df['old_method_fraction_total']>0].values\n",
    "\n",
    "x = val_df['darkness-mean'].values\n",
    "y = val_df['old-method-fraction-total'].values\n",
    "weights = val_df['total-bats'].values\n",
    "\n",
    "orig_x = orig_df.loc[(~np.isnan(orig_df['total_bats'])&(orig_df['total_bats']>0)), 'darkness_mean'].values\n",
    "orig_y = orig_df.loc[(~np.isnan(orig_df['total_bats'])&(orig_df['total_bats']>0)), 'old_method_fraction_total'].values\n",
    "orig_weights = orig_df.loc[(~np.isnan(orig_df['total_bats'])&(orig_df['total_bats']>0)), 'total_bats'].values\n",
    "\n",
    "x = np.hstack([x, orig_x])\n",
    "y = np.hstack([y, orig_y])\n",
    "weights = np.hstack([weights, orig_weights/2])\n",
    "\n",
    "sigmas = 1 / weights\n",
    "\n",
    "def piecewise_linear(x, x0, y0, k1, k2):\n",
    "    return np.piecewise(x, [x < x0], [lambda x:k1*x + y0-k1*x0, lambda x:k2*x + y0-k2*x0])\n",
    "\n",
    "\n",
    "xd = np.linspace(0, 160, 160)\n",
    "x_pruned = np.hstack([x_pruned, orig_x_pruned])\n",
    "y_pruned = np.hstack([y_pruned, orig_y_pruned])\n",
    "weights_pruned = np.hstack([weights_pruned, orig_weights_pruned/2])\n",
    "plt.scatter(x_pruned, y_pruned, \n",
    "            s=weights_pruned, alpha=.4, label=\"Old method\")\n",
    "p , e = optimize.curve_fit(piecewise_linear, x, y, p0=[20, 1, 1, 1], sigma=sigmas)\n",
    "plt.plot(xd, piecewise_linear(xd, *p))\n",
    "plt.legend()\n",
    "print(p)\n",
    "\n",
    "plot_title = \"Darkness detection accuracy comparison\"\n",
    "plt.title(plot_title)\n",
    "plt.xlabel(\"Average pixel value of frame (blue channel)\")\n",
    "plt.ylabel(\"Detection Accuracy\")\n",
    "\n",
    "save_fig(plots_save_folder, plot_title, fig=None)"
   ]
  },
  {
   "cell_type": "code",
   "execution_count": null,
   "metadata": {},
   "outputs": [],
   "source": [
    "print(f'function 1: y = {p[2]}x + {p[1] - p[2]*p[0]}')\n",
    "print(f'function 2: y = {p[3]}x + {p[1] - p[3]*p[0]}')"
   ]
  },
  {
   "cell_type": "code",
   "execution_count": null,
   "metadata": {},
   "outputs": [],
   "source": [
    "print(f'function 1: y = {p[2]}x + {p[1] - p[2]*p[0]}')\n",
    "print(f'function 2: y = {p[3]}x + {p[1] - p[3]*p[0]}')"
   ]
  },
  {
   "cell_type": "code",
   "execution_count": null,
   "metadata": {},
   "outputs": [],
   "source": [
    "\n",
    "\n"
   ]
  },
  {
   "cell_type": "code",
   "execution_count": null,
   "metadata": {},
   "outputs": [],
   "source": [
    "plots_save_folder = '.../bats-data/plots/falloff-validation-supplement'\n",
    "\n",
    "os.makedirs(plots_save_folder, exist_ok=True)\n",
    "\n",
    "observation_groups = val_df.loc[~np.isnan(val_df['total-bats'])].groupby(['date-folder', 'camera-name'])\n",
    "\n",
    "percentiles = [.65, .8, .95, .98]\n",
    "\n",
    "old_frac = []\n",
    "new_frac = []\n",
    "\n",
    "for key,item in observation_groups:\n",
    "    a_group = observation_groups.get_group(key)\n",
    "    a_group = a_group.sort_values('clip-num').reset_index()\n",
    "    fig, [ax1, ax2] = plt.subplots(1, 2, figsize=(10, 4))\n",
    "    first_frames = [name.split('-')[6] for name in a_group['video-clip-name']] \n",
    "    ax1.plot(first_frames, a_group['total-bats'], label='human')\n",
    "    ax1.plot(first_frames, a_group['total-bats-new-method'], label='software')\n",
    "    ax1.set_ylim(0, np.max(a_group['total-bats'] + a_group['total-bats-new-method']))\n",
    "    ax1.set_xlabel('Frame number')\n",
    "    ax1.set_ylabel('Bats in clip')\n",
    "    ax1.legend()\n",
    "    cumsum_total = np.cumsum(a_group['total-bats'])\n",
    "    cumsum_new = np.cumsum(a_group['total-bats-new-method'])\n",
    "    ax2.plot(first_frames, cumsum_total, label='human')\n",
    "    ax2.plot(first_frames, cumsum_new, label='software')\n",
    "    ax2.set_xlabel('Frame number')\n",
    "    ax2.set_ylabel('Bat accumulation across clips')\n",
    "    frac_seen_new = cumsum_new.iloc[-1] / cumsum_total.iloc[-1]\n",
    "    frac_seen_old = cumsum_old.iloc[-1] / cumsum_total.iloc[-1]\n",
    "    old_frac.append(frac_seen_old)\n",
    "    new_frac.append(frac_seen_new)\n",
    "    camera = a_group['camera-name'].iloc[0]\n",
    "    date = a_group['date-folder'].iloc[0]\n",
    "    fig.suptitle(f\"{date}, {camera}\", fontsize=14)\n",
    "    ax2.legend()\n",
    "    \n",
    "    plot_title = f\"error falloff and accumulation {date} {camera}\"\n",
    "\n",
    "    save_fig(plots_save_folder, plot_title, fig=fig)"
   ]
  },
  {
   "cell_type": "code",
   "execution_count": null,
   "metadata": {},
   "outputs": [],
   "source": [
    "plt.style.use('default')"
   ]
  },
  {
   "cell_type": "code",
   "execution_count": null,
   "metadata": {},
   "outputs": [],
   "source": [
    "title = 'total bats vs estimated bats'\n",
    "plt.figure(figsize=(5, 5))\n",
    "plt.scatter(val_df['total-bats'], val_df['total-bats-new-method'])\n",
    "plt.title(title)\n",
    "plt.gca().set_aspect('equal', adjustable='box')\n",
    "plt.plot([0, 900], [0, 900], c='r', linewidth=1)\n",
    "plt.xlabel('total bats')\n",
    "plt.ylabel('counted bats')\n",
    "save_fig(plots_save_folder, title)"
   ]
  },
  {
   "cell_type": "code",
   "execution_count": null,
   "metadata": {},
   "outputs": [],
   "source": [
    "plt.figure(figsize=(5,5))\n",
    "title = 'frame darkness vs fraction bats detected'\n",
    "plt.scatter(val_df['darkness-mean'][val_df['new-method-fraction-total']>0], \n",
    "            val_df['new-method-fraction-total'][val_df['new-method-fraction-total']>0], \n",
    "             label='mean-darkness')\n",
    "plt.scatter(val_df['darkness-median'][val_df['new-method-fraction-total']>0], \n",
    "            val_df['new-method-fraction-total'][val_df['new-method-fraction-total']>0], \n",
    "             label='median-darkness')\n",
    "plt.title(title)\n",
    "plt.xlabel('pixel value')\n",
    "plt.ylabel('fraction total bats counted')\n",
    "# plt.scatter(val_df['darkness-max'], val_df['new-method-fraction-total'], s=2, label='max-light')\n",
    "plt.legend()\n",
    "save_fig(plots_save_folder, title)"
   ]
  },
  {
   "cell_type": "code",
   "execution_count": null,
   "metadata": {},
   "outputs": [],
   "source": [
    "plt.figure(figsize=(5,5))\n",
    "title = 'mean darkness vs fraction bats detected'\n",
    "plt.scatter(val_df['darkness-mean'][val_df['new-method-fraction-total']>0], \n",
    "            val_df['new-method-fraction-total'][val_df['new-method-fraction-total']>0], \n",
    "             label='mean-darkness')\n",
    "plt.title(title)\n",
    "plt.xlabel('pixel value')\n",
    "plt.ylabel('fraction total bats counted')\n",
    "# plt.scatter(val_df['darkness-max'], val_df['new-method-fraction-total'], s=2, label='max-light')\n",
    "plt.legend()\n",
    "save_fig(plots_save_folder, title)"
   ]
  },
  {
   "cell_type": "code",
   "execution_count": null,
   "metadata": {},
   "outputs": [],
   "source": [
    "title = 'frame darkness vs fraction detected, circle size is total bats'\n",
    "plt.figure(figsize=(5,5))\n",
    "plt.scatter(val_df['darkness-mean'][val_df['new-method-fraction-total']>0], \n",
    "            val_df['new-method-fraction-total'][val_df['new-method-fraction-total']>0], \n",
    "            s=val_df['total-bats'][val_df['new-method-fraction-total']>0], \n",
    "            label='total bats',\n",
    "            alpha=.3)\n",
    "plt.title(title)\n",
    "plt.legend()\n",
    "plt.xlabel('mean frame darkness')\n",
    "plt.ylabel('fraction total bats counted')\n",
    "save_fig(plots_save_folder, title)"
   ]
  },
  {
   "cell_type": "code",
   "execution_count": null,
   "metadata": {},
   "outputs": [],
   "source": [
    "plt.figure()\n",
    "plt.scatter(val_df['darkness-mean'][val_df['new-method-fraction-total']>0], \n",
    "            val_df['old-method-fraction-total'][val_df['new-method-fraction-total']>0], \n",
    "            s=val_df['total-bats'][val_df['new-method-fraction-total']>0], \n",
    "            label='old')\n",
    "plt.legend()\n",
    "plt.title('frame darkness vs fraction detected, circle size is total bats')"
   ]
  },
  {
   "cell_type": "code",
   "execution_count": null,
   "metadata": {},
   "outputs": [],
   "source": [
    "from numpy.polynomial import Polynomial"
   ]
  },
  {
   "cell_type": "code",
   "execution_count": null,
   "metadata": {},
   "outputs": [],
   "source": [
    "p_all = Polynomial.fit(val_df['darkness-mean'][val_df['new-method-fraction-total']>0],\n",
    "                   val_df['new-method-fraction-total'][val_df['new-method-fraction-total']>0],\n",
    "                   w=val_df['total-bats'][val_df['new-method-fraction-total']>0],\n",
    "                   deg=4)\n",
    "\n",
    "p_16 = Polynomial.fit(val_df['darkness-mean'][val_df['new-method-fraction-total']>0][val_df['date-folder']=='16Nov'],\n",
    "                   val_df['new-method-fraction-total'][val_df['new-method-fraction-total']>0][val_df['date-folder']=='16Nov'],\n",
    "                   w=val_df['total-bats'][val_df['new-method-fraction-total']>0][val_df['date-folder']=='16Nov'],\n",
    "                   deg=4)\n",
    "\n",
    "p_17 = Polynomial.fit(val_df['darkness-mean'][val_df['new-method-fraction-total']>0][val_df['date-folder']=='17Nov'],\n",
    "                   val_df['new-method-fraction-total'][val_df['new-method-fraction-total']>0][val_df['date-folder']=='17Nov'],\n",
    "                   w=val_df['total-bats'][val_df['new-method-fraction-total']>0][val_df['date-folder']=='17Nov'],\n",
    "                   deg=4)"
   ]
  },
  {
   "cell_type": "code",
   "execution_count": null,
   "metadata": {},
   "outputs": [],
   "source": [
    "title = 'frame darkness vs fraction detected, with poly fit'\n",
    "x = np.arange(np.max(val_df['darkness-mean'][val_df['new-method-fraction-total']>0].values))\n",
    "y_all = p_all(x)\n",
    "plt.plot(x, y_all, label='4th degree poly fit')\n",
    "\n",
    "plt.scatter(val_df['darkness-mean'][val_df['new-method-fraction-total']>0],\n",
    "            val_df['new-method-fraction-total'][val_df['new-method-fraction-total']>0],\n",
    "            s=val_df['total-bats'][val_df['new-method-fraction-total']>0], \n",
    "            alpha=.3)\n",
    "\n",
    "plt.legend()\n",
    "plt.title(title)\n",
    "plt.xlabel('mean frame darkness')\n",
    "plt.ylabel('fraction total bats counted')\n",
    "save_fig(plots_save_folder, title)"
   ]
  },
  {
   "cell_type": "code",
   "execution_count": null,
   "metadata": {},
   "outputs": [],
   "source": [
    "title = 'frame darkness vs fraction detected, with fraction counted'\n",
    "frac_passed = [.65,.8, .95, .98]\n",
    "\n",
    "x = np.arange(np.max(val_df['darkness-mean'][val_df['new-method-fraction-total']>0].values))\n",
    "y_all = p_all(x)\n",
    "plt.plot(x, y_all, label='4th degree poly fit')\n",
    "\n",
    "for clip_num in range(4):\n",
    "    plt.scatter(val_df['darkness-mean'][val_df['new-method-fraction-total']>0][val_df['clip-num'].astype(int)==clip_num],\n",
    "                val_df['new-method-fraction-total'][val_df['new-method-fraction-total']>0][val_df['clip-num'].astype(int)==clip_num],\n",
    "                s=val_df['total-bats'][val_df['new-method-fraction-total']>0][val_df['clip-num'].astype(int)==clip_num], \n",
    "                alpha=.3,\n",
    "                label=f'{frac_passed[clip_num]} passed')\n",
    "\n",
    "plt.legend()\n",
    "plt.title(title)\n",
    "plt.xlabel('mean frame darkness')\n",
    "plt.ylabel('fraction total bats counted')\n",
    "save_fig(plots_save_folder, title)"
   ]
  },
  {
   "cell_type": "code",
   "execution_count": null,
   "metadata": {},
   "outputs": [],
   "source": [
    "title = 'frame darkness vs fraction detected, with date'\n",
    "plt.scatter(val_df['darkness-mean'][val_df['new-method-fraction-total']>0][val_df['date-folder']=='17Nov'],\n",
    "            val_df['new-method-fraction-total'][val_df['new-method-fraction-total']>0][val_df['date-folder']=='17Nov'],\n",
    "            s=val_df['total-bats'][val_df['new-method-fraction-total']>0][val_df['date-folder']=='17Nov'], \n",
    "            alpha=.3, label='17Nov')\n",
    "plt.scatter(val_df['darkness-mean'][val_df['new-method-fraction-total']>0][val_df['date-folder']=='16Nov'],\n",
    "            val_df['new-method-fraction-total'][val_df['new-method-fraction-total']>0][val_df['date-folder']=='16Nov'],\n",
    "            s=val_df['total-bats'][val_df['new-method-fraction-total']>0][val_df['date-folder']=='16Nov'], \n",
    "            alpha=.3, label='16Nov')\n",
    "plt.legend()\n",
    "plt.title(title)\n",
    "plt.xlabel('mean frame darkness')\n",
    "plt.ylabel('fraction total bats counted')\n",
    "save_fig(plots_save_folder, title)"
   ]
  },
  {
   "cell_type": "code",
   "execution_count": null,
   "metadata": {},
   "outputs": [],
   "source": [
    "title = 'frame darkness vs fraction detected, with date and fit'\n",
    "x = np.arange(np.max(val_df['darkness-mean'][val_df['new-method-fraction-total']>0].values))\n",
    "y_all = p_all(x)\n",
    "plt.plot(x, y_all, label='combined')\n",
    "y_16 = p_16(x)\n",
    "plt.plot(x, y_16, label='16Nov')\n",
    "y_17 = p_17(x)\n",
    "plt.plot(x, y_17, label='17Nov')\n",
    "plt.scatter(val_df['darkness-mean'][val_df['new-method-fraction-total']>0][val_df['date-folder']=='17Nov'],\n",
    "            val_df['new-method-fraction-total'][val_df['new-method-fraction-total']>0][val_df['date-folder']=='17Nov'],\n",
    "            s=val_df['total-bats'][val_df['new-method-fraction-total']>0][val_df['date-folder']=='17Nov'], \n",
    "            alpha=.3)\n",
    "plt.scatter(val_df['darkness-mean'][val_df['new-method-fraction-total']>0][val_df['date-folder']=='16Nov'],\n",
    "            val_df['new-method-fraction-total'][val_df['new-method-fraction-total']>0][val_df['date-folder']=='16Nov'],\n",
    "            s=val_df['total-bats'][val_df['new-method-fraction-total']>0][val_df['date-folder']=='16Nov'], \n",
    "            alpha=.3)\n",
    "plt.legend()\n",
    "plt.title(title)\n",
    "plt.xlabel('mean frame darkness')\n",
    "plt.ylabel('fraction total bats counted')\n",
    "save_fig(plots_save_folder, title)"
   ]
  },
  {
   "cell_type": "code",
   "execution_count": null,
   "metadata": {},
   "outputs": [],
   "source": [
    "clip_num_date_camera = val_df[val_df['new-method-fraction-total']>0].groupby(['date-folder', 'camera-name'])"
   ]
  },
  {
   "cell_type": "code",
   "execution_count": null,
   "metadata": {},
   "outputs": [],
   "source": [
    "date='17Nov'\n",
    "\n",
    "x = [.65, .80, .95, .98]\n",
    "fig, axs = plt.subplots(5, 2, figsize=(10,10))\n",
    "for ind, name in enumerate(val_df[val_df['date-folder']=='16Nov']['camera-name'].unique()):\n",
    "    plt.figure()\n",
    "    axs[ind%5, ind//5].plot(x, val_df[val_df['camera-name']==name][val_df['date-folder']=='16Nov']['total-bats'], label='total')\n",
    "    axs[ind%5, ind//5].plot(x, val_df[val_df['camera-name']==name][val_df['date-folder']=='16Nov']['total-bats-new-method'], label='counted')\n",
    "    axs[ind%5, ind//5].legend()\n",
    "fig.suptitle(date, fontsize=14)\n",
    "save_fig(plots_save_folder, '17Nov', fig)"
   ]
  },
  {
   "cell_type": "code",
   "execution_count": null,
   "metadata": {},
   "outputs": [],
   "source": [
    "val_df['camera-name']"
   ]
  },
  {
   "cell_type": "code",
   "execution_count": null,
   "metadata": {},
   "outputs": [],
   "source": [
    "clip_num_group = val_df[val_df['new-method-fraction-total']>0].groupby('clip-num')"
   ]
  },
  {
   "cell_type": "code",
   "execution_count": null,
   "metadata": {},
   "outputs": [],
   "source": []
  },
  {
   "cell_type": "code",
   "execution_count": null,
   "metadata": {},
   "outputs": [],
   "source": [
    "clip_num_date_group = val_df[val_df['new-method-fraction-total']>0].groupby(['date-folder', 'clip-num'])\n",
    "print(clip_num_date_group.sum()['total-bats-new-method'])\n",
    "print(clip_num_date_group.sum()['total-bats'])\n",
    "print(clip_num_date_group.sum()['total-bats-new-method']['16Nov'].values / clip_num_date_group.sum()['total-bats']['16Nov'].values)\n",
    "print(clip_num_date_group.sum()['total-bats-new-method']['17Nov'].values / clip_num_date_group.sum()['total-bats']['17Nov'].values)"
   ]
  },
  {
   "cell_type": "code",
   "execution_count": null,
   "metadata": {},
   "outputs": [],
   "source": [
    "nov16_color = ('#3498DB')\n",
    "nov17_color = ('#E74C3C')\n",
    "\n",
    "plt.figure()\n",
    "plt.scatter(val_df['clip-num'][val_df['new-method-fraction-total']>0][val_df['date-folder']=='17Nov'], \n",
    "            val_df['new-method-fraction-total'][val_df['new-method-fraction-total']>0][val_df['date-folder']=='17Nov'], \n",
    "            s=val_df['total-bats'][val_df['new-method-fraction-total']>0][val_df['date-folder']=='17Nov'],\n",
    "           alpha=.3, color=nov16_color)\n",
    "\n",
    "plt.scatter(val_df['clip-num'][val_df['new-method-fraction-total']>0][val_df['date-folder']=='16Nov'], \n",
    "            val_df['new-method-fraction-total'][val_df['new-method-fraction-total']>0][val_df['date-folder']=='16Nov'], \n",
    "            s=val_df['total-bats'][val_df['new-method-fraction-total']>0][val_df['date-folder']=='16Nov'],\n",
    "           alpha=.3, color=nov17_color)\n",
    "\n",
    "weighted_average = (clip_num_group.sum()['total-bats-new-method'].values \n",
    "                    / clip_num_group.sum()['total-bats'].values\n",
    "                   )\n",
    "plt.scatter(np.arange(4), weighted_average, marker= '_', c='g', label='both days')\n",
    "weighted_average_16 = (clip_num_date_group.sum()['total-bats-new-method']['16Nov'].values \n",
    "                       / clip_num_date_group.sum()['total-bats']['16Nov'].values)\n",
    "plt.scatter(np.arange(4), weighted_average_16, marker= '_', c=nov16_color, label='16 Nov')\n",
    "weighted_average_17 = (clip_num_date_group.sum()['total-bats-new-method']['17Nov'].values \n",
    "                       / clip_num_date_group.sum()['total-bats']['17Nov'].values)\n",
    "plt.scatter(np.arange(4), weighted_average_17, marker= '_', c=nov17_color, label='17 Nov')\n",
    "plt.title('fraction of bats detected at .65, .80, .95, .98 of total bats')\n",
    "plt.legend()"
   ]
  },
  {
   "cell_type": "code",
   "execution_count": null,
   "metadata": {},
   "outputs": [],
   "source": [
    "plt.scatter(val_df['total-bats'], val_df['total-bats-new-method'])\n",
    "plt.title('total bats vs. estimated bats')\n",
    "plt.figure()\n",
    "plt.scatter(val_df['darkness-mean'], val_df['new-method-fraction-total'], s=2, label='mean-darkness')\n",
    "plt.scatter(val_df['darkness-median'], val_df['new-method-fraction-total'], s=2, label='median-darkness')\n",
    "plt.title('frame darkness vs fraction detected')\n",
    "# plt.scatter(val_df['darkness-max'], val_df['new-method-fraction-total'], s=2, label='max-light')\n",
    "plt.legend()\n",
    "plt.figure()\n",
    "plt.scatter(val_df['darkness-mean'], val_df['new-method-fraction-total'], s=val_df['total-bats'], label='new')\n",
    "plt.scatter(val_df['darkness-mean'], val_df['old-method-fraction-total'], s=val_df['total-bats'], label='old')\n",
    "plt.legend()\n",
    "plt.title('frame darkness vs fraction detected, circle size is total bats')"
   ]
  },
  {
   "cell_type": "code",
   "execution_count": null,
   "metadata": {},
   "outputs": [],
   "source": [
    "val_df.head()"
   ]
  },
  {
   "cell_type": "code",
   "execution_count": null,
   "metadata": {},
   "outputs": [],
   "source": [
    "day_folders = sorted(glob.glob('.../kasanka-bats/processed/deep-learning/*Nov'))\n",
    "observations = {}\n",
    "for day_folder in day_folders[:2]:\n",
    "    print(day_folder)\n",
    "\n",
    "    date = os.path.basename(day_folder)\n",
    "    track_files = sorted(glob.glob(os.path.join(day_folder, '*/crossing_tracks.npy')))\n",
    "    observations[date] = {}\n",
    "    for track_file in track_files: \n",
    "        camera = track_file.split('/')[-2]\n",
    "        obs = {'date': date,\n",
    "               'camera': camera,\n",
    "               }\n",
    "        crossing_tracks_list = np.load(track_file, allow_pickle=True)\n",
    "        passing_bat_frame = []\n",
    "        passing_bat_size = []\n",
    "        passing_bat_track_ind = []\n",
    "        passing_bat_direction = []\n",
    "        passing_bat_track_id = []\n",
    "        for track_ind, track in enumerate(crossing_tracks_list):\n",
    "            if track['crossed'] > 0:\n",
    "                passing_bat_frame.append(track['crossed'])\n",
    "                passing_bat_size.append(track['mean_wing'])\n",
    "                passing_bat_track_id.append(track_ind)\n",
    "                passing_bat_direction.append(1)\n",
    "\n",
    "            elif track['crossed'] < 0:\n",
    "                passing_bat_frame.append(track['crossed'])\n",
    "                passing_bat_size.append(track['mean_wing'])\n",
    "                passing_bat_track_id.append(track_ind)\n",
    "                passing_bat_direction.append(-1)\n",
    "\n",
    "        obs['frames'] = np.array(passing_bat_frame)\n",
    "        obs['mean_wing'] = np.array(passing_bat_size)\n",
    "        obs['ids'] = np.array(passing_bat_track_id)\n",
    "        obs['direction'] = np.array(passing_bat_direction)\n",
    "        observations[date][camera] = obs"
   ]
  },
  {
   "cell_type": "code",
   "execution_count": null,
   "metadata": {},
   "outputs": [],
   "source": [
    "for date, day_obs in observations.items():\n",
    "    for cam_ind, (cam_name, obs) in enumerate(day_obs.items()):\n",
    "        bat_accumulation = get_bat_accumulation(obs['frames'])\n",
    "        observations[date][cam_name]['accumulation'] = bat_accumulation\n"
   ]
  },
  {
   "cell_type": "code",
   "execution_count": null,
   "metadata": {},
   "outputs": [],
   "source": []
  },
  {
   "cell_type": "code",
   "execution_count": null,
   "metadata": {},
   "outputs": [],
   "source": [
    "\n",
    "\n",
    "percentiles = [.65, .8, .95, .98]\n",
    "accumulation = observations['16Nov']['Puku']['accumulation']\n",
    "accumulation_percent = accumulation / accumulation[-1]\n",
    "plt.plot(accumulation_percent)\n",
    "for percentile in percentiles:\n",
    "    obs_ind = np.argmax(accumulation_percent > percentile)\n",
    "    plt.scatter(obs_ind, accumulation_percent[obs_ind])"
   ]
  },
  {
   "cell_type": "code",
   "execution_count": null,
   "metadata": {},
   "outputs": [],
   "source": [
    "np.argmax(accumulation_percent > percentile)"
   ]
  },
  {
   "cell_type": "code",
   "execution_count": null,
   "metadata": {},
   "outputs": [],
   "source": [
    "import glob\n",
    "import os\n",
    "parent_video_folder = '.../kasanka-bats/gopros/' \n",
    "\n",
    "all_video_files = []\n",
    "for date in ['16Nov', '17Nov', '18Nov', '19Nov', '20Nov']:\n",
    "    all_video_files.extend(glob.glob(parent_video_folder + date + '/*/*.MP4'))\n",
    "#     video_files.extend(glob.glob(parent_video_folder + date + '/BBC/*.MP4'))\n",
    "all_video_files.sort()\n",
    "    # vf = glob.glob(parent_video_folder + '/14_11_g/*.MP4')\n",
    "    # vf.sort()\n",
    "    # video_files.extend(vf)\n",
    "# print(*video_files, sep='\\n')\n",
    "\n",
    "median_files = 0\n",
    "mean_files = 0\n",
    "max_files = 0\n",
    "\n",
    "video_files = []\n",
    "\n",
    "for video_file in all_video_files:\n",
    "    \n",
    "    video_name = os.path.basename(video_file)\n",
    "    video_name = video_name.split('.')[-2]\n",
    "    parent_output_folder = '/home/golden/kenya_drones/kasanka-bats/processed/deep-learning'\n",
    "    observation_name = video_file.split('/')[-2]\n",
    "    output_folder = os.path.join(parent_output_folder, video_file.split('/')[-3], observation_name)\n",
    "    \n",
    "    if os.path.exists(os.path.join(output_folder, f'mean-blue-{video_name}.npy')):\n",
    "        mean_files += 1\n",
    "    else:\n",
    "        video_files.append(video_file)\n",
    "    if os.path.exists(os.path.join(output_folder, f'median-blue-{video_name}.npy')):\n",
    "        median_files += 1\n",
    "    if os.path.exists(os.path.join(output_folder, f'max-blue-{video_name}.npy')):\n",
    "        max_files += 1\n",
    "\n",
    "print(f'num mean: {mean_files}, num median: {mean_files}, num max: {max_files}')\n",
    "print(f'fraction mean: {mean_files / len(all_video_files)}')"
   ]
  },
  {
   "cell_type": "code",
   "execution_count": null,
   "metadata": {},
   "outputs": [],
   "source": [
    "len(all_video_files)"
   ]
  },
  {
   "cell_type": "code",
   "execution_count": null,
   "metadata": {},
   "outputs": [],
   "source": []
  },
  {
   "cell_type": "code",
   "execution_count": null,
   "metadata": {},
   "outputs": [],
   "source": []
  },
  {
   "cell_type": "code",
   "execution_count": null,
   "metadata": {},
   "outputs": [],
   "source": []
  },
  {
   "cell_type": "code",
   "execution_count": null,
   "metadata": {},
   "outputs": [],
   "source": []
  },
  {
   "cell_type": "code",
   "execution_count": null,
   "metadata": {},
   "outputs": [],
   "source": []
  },
  {
   "cell_type": "code",
   "execution_count": null,
   "metadata": {},
   "outputs": [],
   "source": []
  },
  {
   "cell_type": "code",
   "execution_count": null,
   "metadata": {},
   "outputs": [],
   "source": []
  },
  {
   "cell_type": "code",
   "execution_count": null,
   "metadata": {},
   "outputs": [],
   "source": []
  }
 ],
 "metadata": {
  "kernelspec": {
   "display_name": "Python 3",
   "language": "python",
   "name": "python3"
  },
  "language_info": {
   "codemirror_mode": {
    "name": "ipython",
    "version": 3
   },
   "file_extension": ".py",
   "mimetype": "text/x-python",
   "name": "python",
   "nbconvert_exporter": "python",
   "pygments_lexer": "ipython3",
   "version": "3.8.10"
  }
 },
 "nbformat": 4,
 "nbformat_minor": 4
}
