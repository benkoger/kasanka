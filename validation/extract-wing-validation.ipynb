{
 "cells": [
  {
   "cell_type": "code",
   "execution_count": null,
   "metadata": {},
   "outputs": [],
   "source": [
    "import numpy as np\n",
    "import os\n",
    "import glob\n",
    "import cv2\n",
    "from scipy import signal\n",
    "import matplotlib.pyplot as plt\n",
    "import pandas as pd\n",
    "import matplotlib as mpl\n",
    "import bat_functions as bf"
   ]
  },
  {
   "cell_type": "code",
   "execution_count": null,
   "metadata": {},
   "outputs": [],
   "source": []
  },
  {
   "cell_type": "code",
   "execution_count": null,
   "metadata": {},
   "outputs": [],
   "source": [
    "plot_folder = '.../bats-data/plots'\n",
    "save_folder = os.path.join(plot_folder, 'wingbeats')"
   ]
  },
  {
   "cell_type": "code",
   "execution_count": null,
   "metadata": {},
   "outputs": [],
   "source": [
    "# frame_root_folder = '/media/golden/Elements/bats'\n",
    "# date = '16Nov'\n",
    "# camera = 'FibwePublic'\n",
    "# frame_files = sorted(glob.glob(os.path.join(frame_root_folder, date, camera, '*/*.jpg')))\n",
    "# len(frame_files)"
   ]
  },
  {
   "cell_type": "code",
   "execution_count": null,
   "metadata": {},
   "outputs": [],
   "source": [
    "tracks = raw_tracks[date][camera]"
   ]
  },
  {
   "cell_type": "code",
   "execution_count": null,
   "metadata": {},
   "outputs": [],
   "source": [
    "track_lengths = [len(track['track']) for track in tracks]"
   ]
  },
  {
   "cell_type": "code",
   "execution_count": null,
   "metadata": {},
   "outputs": [],
   "source": [
    "track_lengths = sorted(track_lengths)\n",
    "hist = np.histogram(track_lengths)\n",
    "num_lengths = hist[0]\n",
    "bins = hist[1]\n",
    "plt.scatter(bins[1:], num_lengths)\n",
    "cum_lengths = np.cumsum(num_lengths)\n",
    "plt.figure()\n",
    "plt.plot(bins[1:], cum_lengths / cum_lengths[-1])"
   ]
  },
  {
   "cell_type": "code",
   "execution_count": null,
   "metadata": {},
   "outputs": [],
   "source": []
  },
  {
   "cell_type": "code",
   "execution_count": null,
   "metadata": {},
   "outputs": [],
   "source": [
    "frame_ind = 15000\n",
    "frame = plt.imread(frame_files[frame_ind])"
   ]
  },
  {
   "cell_type": "code",
   "execution_count": null,
   "metadata": {},
   "outputs": [],
   "source": [
    "# raw_tracks[date][observation_name][0]['contour']"
   ]
  },
  {
   "cell_type": "code",
   "execution_count": null,
   "metadata": {},
   "outputs": [],
   "source": [
    "def get_peaks(track):\n",
    "    if not 'rects' in track.keys():\n",
    "        track['rects'] = get_rects(track)\n",
    "                    \n",
    "    max_edge = np.nanmax(track['rects'], 1)\n",
    "    max_edge = max_edge[~np.isnan(max_edge)]\n",
    "    peaks = signal.find_peaks(max_edge)[0]\n",
    "    \n",
    "    return peaks, max_edge"
   ]
  },
  {
   "cell_type": "code",
   "execution_count": null,
   "metadata": {},
   "outputs": [],
   "source": [
    "frame_root_folder = '.../Elements/bats'\n",
    "date = '17Nov'\n",
    "glob.glob(os.path.join(frame_root_folder, date, '*'))"
   ]
  },
  {
   "cell_type": "code",
   "execution_count": null,
   "metadata": {},
   "outputs": [],
   "source": [
    "cameras_frame_shift = {'16Nov':{'Chyniangale': 0,\n",
    "               'BBC': -1209,\n",
    "               'FibwePublic': 0,\n",
    "               'MusoleTower': 0,\n",
    "               'Puku': 0,\n",
    "               'FibweParking': 0,\n",
    "               'MusoleParking': 0,\n",
    "               'MusolePath': 0,\n",
    "               'Sunset': 0,\n",
    "               'NotChyniangale': 0,\n",
    "               },\n",
    "               '17Nov':{'Chyniangale': 0,\n",
    "               'BBC': 0,\n",
    "               'FibwePublic': 0,\n",
    "               'MusoleTower': 0,\n",
    "               'Puku': 0,\n",
    "               'FibweParking2': -805,\n",
    "               'MusoleParking': 0,\n",
    "               'MusolePath2': 0,\n",
    "               'Sunset': 0,\n",
    "               'NotChyniangale': 0,\n",
    "               }\n",
    "              }"
   ]
  },
  {
   "cell_type": "code",
   "execution_count": null,
   "metadata": {},
   "outputs": [],
   "source": [
    "save_folder = '.../bats-data/wing-validation'\n",
    "os.makedirs(os.path.join(save_folder, 'validation-images'), exist_ok=True)\n",
    "os.makedirs(os.path.join(save_folder, 'validation-csvs'), exist_ok=True)\n",
    "             \n",
    "\n",
    "    \n",
    "num_tracks = 0\n",
    "shift = 0\n",
    "track_width = 3\n",
    "draw_tracks = False\n",
    "draw_contours = False\n",
    "\n",
    "save_annotation_ims = True\n",
    "show_plots = False\n",
    "\n",
    "border = 15\n",
    "\n",
    "samples_per_obs = 100\n",
    "\n",
    "np.random.seed(1993)\n",
    "\n",
    "frame_root_folder = '.../Elements/bats'\n",
    "root_folder = '.../kasanka-bats/processed/deep-learning'\n",
    "raw_tracks = {}\n",
    "for date in ['16Nov', '17Nov']:\n",
    "    day_folder = os.path.join(root_folder, date)\n",
    "    raw_tracks[date] = {}\n",
    "    track_files = sorted(\n",
    "        glob.glob(os.path.join(day_folder, '*/crossing_tracks.npy'))\n",
    "    )\n",
    "    for track_file in track_files:\n",
    "        camera = track_file.split('/')[-2]\n",
    "        raw_track_list = np.load(track_file, allow_pickle=True)\n",
    "        raw_tracks[date][camera] = raw_track_list\n",
    "\n",
    "    camera_folders = sorted(\n",
    "        glob.glob(os.path.join(frame_root_folder, date, '*'))\n",
    "    )\n",
    "    cameras = [os.path.basename(cf) for cf in camera_folders]\n",
    "    for camera in cameras:\n",
    "        if 'test' in camera:\n",
    "            continue\n",
    "        frame_files = sorted(\n",
    "            glob.glob(os.path.join(frame_root_folder, date, camera, '*/*.jpg'))\n",
    "        )\n",
    "\n",
    "        track_list = raw_tracks[date][camera]\n",
    "        inds = np.random.choice(len(track_list), \n",
    "                                samples_per_obs , \n",
    "                                replace=False)\n",
    "\n",
    "        \n",
    "        \n",
    "        frame_shift = cameras_frame_shift[date][camera]\n",
    "        for track_ind, track in zip(inds, track_list[inds]):\n",
    "\n",
    "            try:\n",
    "                wing_peaks, max_edge = get_peaks(track)\n",
    "            #     print(wing_peaks)\n",
    "            #     plt.figure()\n",
    "            #     plt.plot(max_edge)\n",
    "            #     plt.scatter(wing_peaks, max_edge[wing_peaks])\n",
    "\n",
    "                if wing_peaks.size:\n",
    "                    rel_frame = np.random.choice(wing_peaks)\n",
    "                else:\n",
    "                    rel_frame = np.random.randint(0, track['track'].shape[0])\n",
    "                    print('rel frame', rel_frame)\n",
    "                frame_ind = track['first_frame'] + rel_frame - frame_shift\n",
    "                frame = plt.imread(frame_files[frame_ind])\n",
    "                contour = track['contour'][rel_frame]\n",
    "                rect = cv2.minAreaRect(contour)\n",
    "                box = cv2.boxPoints(rect)\n",
    "\n",
    "                xmin = np.min(contour[:,0]) - border\n",
    "                ymin = np.min(contour[:,1]) - border\n",
    "                xmax = np.max(contour[:,0]) + border\n",
    "                ymax = np.max(contour[:,1]) + border\n",
    "\n",
    "                crop = frame[ymin-border:ymax+border, xmin-border:xmax+border]\n",
    "                bright_crop = np.copy(crop)\n",
    "                bias = np.min(bright_crop)\n",
    "                bright_crop -= bias\n",
    "                scale = np.max(bright_crop)\n",
    "                bright_crop = bright_crop / scale\n",
    "                crop_shape = bright_crop.shape\n",
    "\n",
    "                if save_annotation_ims:\n",
    "                    file_name = f'date_{date}_camera_{camera}_frame_{frame_ind}_track_{track_ind}_x_{xmin}_y_{ymin}'\n",
    "                    save_file = os.path.join(save_folder, 'validation-images', file_name + '.png')\n",
    "                    bright_crop_bgr = cv2.cvtColor(bright_crop.astype(np.float32), \n",
    "                                                     cv2.COLOR_BGR2RGB)\n",
    "                    cv2.imwrite(save_file, bright_crop_bgr*255)\n",
    "                    crop_info = pd.DataFrame({'date': date,\n",
    "                                              'camera': camera,\n",
    "                                              'frame': frame_ind,\n",
    "                                              'xmin': xmin,\n",
    "                                              'ymin': ymin,\n",
    "                                              'xmax': xmax,\n",
    "                                              'ymax': ymax,\n",
    "                                              'border': border,\n",
    "                                              'hard': False,\n",
    "                                              'wing_estimate': np.max(rect[1]),\n",
    "                                              'wingtip1_x': -1,\n",
    "                                              'wingtip1_y': -1,\n",
    "                                              'wingtip2_x': -1,\n",
    "                                              'wingtip2_y': -1,\n",
    "                                             },\n",
    "                                            index=[0]\n",
    "                                            )\n",
    "                    crop_info_file = os.path.join(save_folder, 'validation-csvs', file_name + '.csv')\n",
    "                    crop_info.to_csv(crop_info_file, index=False)\n",
    "\n",
    "\n",
    "                if show_plots:\n",
    "                    fig, axs = plt.subplots(1, 3, figsize=(15, 5))\n",
    "                    axs[0].imshow(crop)\n",
    "                    axs[1].imshow(bright_crop)\n",
    "                    if draw_contours:\n",
    "                        if len(contour.shape) > 1:\n",
    "                            rect = cv2.minAreaRect(contour)\n",
    "                            box = cv2.boxPoints(rect)\n",
    "                            box_d = np.int0(box)\n",
    "                            cv2.drawContours(frame, [box_d], 0, (0,255,100), 1)\n",
    "                            cv2.drawContours(frame, [contour], 0, (255,255,100), 1)\n",
    "                    rescaled = (frame[ymin-border:ymax+border, xmin-border:xmax+border]-bias) / scale\n",
    "                    rescaled = np.minimum(rescaled, 1.0)\n",
    "                    axs[2].imshow(rescaled)\n",
    "            except:\n",
    "                print(f'issue with {date} {camera} track {track_ind}')\n",
    "# fig.savefig()"
   ]
  },
  {
   "cell_type": "code",
   "execution_count": null,
   "metadata": {},
   "outputs": [],
   "source": [
    "inds"
   ]
  },
  {
   "cell_type": "code",
   "execution_count": null,
   "metadata": {},
   "outputs": [],
   "source": [
    "pd.DataFrame(d, index=[0])"
   ]
  },
  {
   "cell_type": "code",
   "execution_count": null,
   "metadata": {},
   "outputs": [],
   "source": [
    "x = (frame[ymin-border:ymax+border, xmin-border:xmax+border]-bias) / scale\n",
    "print(x.min(), x.max())"
   ]
  },
  {
   "cell_type": "code",
   "execution_count": null,
   "metadata": {},
   "outputs": [],
   "source": [
    "frame.shape[0]-ymax-20, frame.shape[0]-(ymin) +20"
   ]
  },
  {
   "cell_type": "code",
   "execution_count": null,
   "metadata": {},
   "outputs": [],
   "source": [
    "wing_peaks"
   ]
  },
  {
   "cell_type": "code",
   "execution_count": null,
   "metadata": {},
   "outputs": [],
   "source": []
  },
  {
   "cell_type": "code",
   "execution_count": null,
   "metadata": {},
   "outputs": [],
   "source": []
  }
 ],
 "metadata": {
  "kernelspec": {
   "display_name": "Python 3",
   "language": "python",
   "name": "python3"
  },
  "language_info": {
   "codemirror_mode": {
    "name": "ipython",
    "version": 3
   },
   "file_extension": ".py",
   "mimetype": "text/x-python",
   "name": "python",
   "nbconvert_exporter": "python",
   "pygments_lexer": "ipython3",
   "version": "3.8.10"
  }
 },
 "nbformat": 4,
 "nbformat_minor": 4
}
