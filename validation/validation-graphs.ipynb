{
 "cells": [
  {
   "cell_type": "code",
   "execution_count": null,
   "metadata": {},
   "outputs": [],
   "source": [
    "import pandas as pd\n",
    "import numpy as np\n",
    "import matplotlib.pyplot as plt"
   ]
  },
  {
   "cell_type": "code",
   "execution_count": null,
   "metadata": {},
   "outputs": [],
   "source": [
    "validation_csv = '.../bats-data/bat_counting_error_quantification_with_counts_padded.csv'\n",
    "dark_csv = '.../bats-data/bat_counting_error_quantification_dark.csv'\n",
    "# falloff_csv = '/home/golden/Dropbox/bats-data/falloff-validation-test.csv'"
   ]
  },
  {
   "cell_type": "code",
   "execution_count": null,
   "metadata": {},
   "outputs": [],
   "source": [
    "val_df = pd.read_csv(validation_csv)\n",
    "# val_df = pd.read_csv(falloff_csv)"
   ]
  },
  {
   "cell_type": "code",
   "execution_count": null,
   "metadata": {},
   "outputs": [],
   "source": [
    "dark_df = pd.read_csv(dark_csv)"
   ]
  },
  {
   "cell_type": "code",
   "execution_count": null,
   "metadata": {},
   "outputs": [],
   "source": [
    "dark_df.head()"
   ]
  },
  {
   "cell_type": "code",
   "execution_count": null,
   "metadata": {},
   "outputs": [],
   "source": [
    "print(len(dark_df.columns.values))\n",
    "print(len(val_df.columns.values))"
   ]
  },
  {
   "cell_type": "code",
   "execution_count": null,
   "metadata": {},
   "outputs": [],
   "source": [
    "dark_inds = dark_df['number-missed-detections-new'].notnull()\n",
    "print(np.sum(dark_inds))"
   ]
  },
  {
   "cell_type": "code",
   "execution_count": null,
   "metadata": {},
   "outputs": [],
   "source": [
    "val_df.loc[dark_inds, 'total_bats'] = (\n",
    "    (val_df.loc[dark_inds, 'new_method_count_going'] \n",
    "     - pd.to_numeric(dark_df.loc[dark_inds, 'false-detections-moving-up-blue-new'], errors='coerce')\n",
    "    )\n",
    "    - (val_df.loc[dark_inds, 'new_method_count_coming'] \n",
    "       - pd.to_numeric(dark_df.loc[dark_inds, 'number-false-detections-moving-down-yellow-new'], errors='coerce')\n",
    "      )\n",
    "    + pd.to_numeric(dark_df.loc[dark_inds, 'number-missed-detections-new'], errors='coerce')\n",
    ")"
   ]
  },
  {
   "cell_type": "code",
   "execution_count": null,
   "metadata": {},
   "outputs": [],
   "source": [
    "# val_df.head()"
   ]
  },
  {
   "cell_type": "code",
   "execution_count": null,
   "metadata": {},
   "outputs": [],
   "source": [
    "# val_df['camera-name'] = [s.split('-')[2] for s in val_df['Video clip name'].values]\n",
    "# val_df['clip-num'] = [s.split('-')[4] for s in val_df['Video clip name'].values]"
   ]
  },
  {
   "cell_type": "code",
   "execution_count": null,
   "metadata": {},
   "outputs": [],
   "source": [
    "total_bat_values = np.sum(~np.isnan(val_df['total_bats']))\n",
    "old_bat_values = np.sum(~np.isnan(val_df['total_bats_old_method']))\n",
    "new_bat_values = np.sum(~np.isnan(val_df['total_bats_new_method']))\n",
    "print(f'total bat values: {total_bat_values} '\n",
    "     + f'old bat values: {old_bat_values} '\n",
    "     + f'new bat values: {new_bat_values}')"
   ]
  },
  {
   "cell_type": "code",
   "execution_count": null,
   "metadata": {},
   "outputs": [],
   "source": [
    "print(val_df['total_bats_old_method'].sum())\n",
    "print(val_df.loc[~np.isnan(val_df['total_bats']), 'total_bats_old_method'].sum())"
   ]
  },
  {
   "cell_type": "code",
   "execution_count": null,
   "metadata": {},
   "outputs": [],
   "source": []
  },
  {
   "cell_type": "code",
   "execution_count": null,
   "metadata": {},
   "outputs": [],
   "source": []
  },
  {
   "cell_type": "code",
   "execution_count": null,
   "metadata": {},
   "outputs": [],
   "source": [
    "val_df.loc[val_df['camera_name']=='MusoleTower']"
   ]
  },
  {
   "cell_type": "code",
   "execution_count": null,
   "metadata": {},
   "outputs": [],
   "source": [
    "# ind = 19\n",
    "# # val_df.loc[ind, 'Number missed detections'] = 0\n",
    "# # val_df.loc[ind, 'Number false detections moving up (blue)'] = 0\n",
    "# # val_df.loc[ind, 'Number false detections moving down (yellow)'] = 0\n",
    "# # val_df.loc[ind, 'total_bats'] = 0\n",
    "# val_df.loc[ind]"
   ]
  },
  {
   "cell_type": "code",
   "execution_count": null,
   "metadata": {},
   "outputs": [],
   "source": [
    "observation_groups = val_df.loc[~np.isnan(val_df['total_bats'])].groupby(['date_folder', 'camera-name'])\n",
    "\n",
    "old_frac = []\n",
    "new_frac = []\n",
    "\n",
    "for key,item in observation_groups:\n",
    "    a_group = observation_groups.get_group(key)\n",
    "    a_group = a_group.sort_values('clip-num').reset_index()\n",
    "    fig, [ax1, ax2] = plt.subplots(2, 1)\n",
    "    ax1.plot(a_group['total_bats'], label='total')\n",
    "    ax1.plot(a_group['total_bats_old_method'], label='old')\n",
    "    ax1.plot(a_group['total_bats_new_method'], label='new')\n",
    "    ax1.legend()\n",
    "    cumsum_total = np.cumsum(a_group['total_bats'])\n",
    "    cumsum_old = np.cumsum(a_group['total_bats_old_method'])\n",
    "    cumsum_new = np.cumsum(a_group['total_bats_new_method'])\n",
    "    ax2.plot(cumsum_total, label='total')\n",
    "    ax2.plot(cumsum_old, label='old')\n",
    "    ax2.plot(cumsum_new, label='new')\n",
    "    frac_seen_new = cumsum_new.iloc[-1] / cumsum_total.iloc[-1]\n",
    "    frac_seen_old = cumsum_old.iloc[-1] / cumsum_total.iloc[-1]\n",
    "    old_frac.append(frac_seen_old)\n",
    "    new_frac.append(frac_seen_new)\n",
    "    camera = a_group['camera-name'].iloc[0]\n",
    "    date = a_group['date_folder'].iloc[0]\n",
    "    fig.suptitle(f\"{date}, {camera}: new {frac_seen_new}, old {frac_seen_old}\", fontsize=14)\n",
    "    ax2.legend()\n",
    "    \n",
    "print('old', np.mean(old_frac), 'new', np.mean(new_frac))"
   ]
  },
  {
   "cell_type": "code",
   "execution_count": null,
   "metadata": {},
   "outputs": [],
   "source": [
    "a_group['camera-name'].iloc[0]"
   ]
  },
  {
   "cell_type": "code",
   "execution_count": null,
   "metadata": {},
   "outputs": [],
   "source": [
    "frame_root_folder = '.../Elements/bats'"
   ]
  },
  {
   "cell_type": "code",
   "execution_count": null,
   "metadata": {},
   "outputs": [],
   "source": [
    "import glob\n",
    "import os\n",
    "\n",
    "date = '17Nov'\n",
    "camera_name = 'FibwePublic'\n",
    "\n",
    "frame_files = sorted(\n",
    "                glob.glob(os.path.join(frame_root_folder, \n",
    "                                       date,\n",
    "                                       camera_name, \n",
    "                                       \"*\", \n",
    "                                       \"*.jpg\")\n",
    "                         )\n",
    "            )"
   ]
  },
  {
   "cell_type": "code",
   "execution_count": null,
   "metadata": {},
   "outputs": [],
   "source": []
  }
 ],
 "metadata": {
  "kernelspec": {
   "display_name": "Python 3",
   "language": "python",
   "name": "python3"
  },
  "language_info": {
   "codemirror_mode": {
    "name": "ipython",
    "version": 3
   },
   "file_extension": ".py",
   "mimetype": "text/x-python",
   "name": "python",
   "nbconvert_exporter": "python",
   "pygments_lexer": "ipython3",
   "version": "3.8.10"
  }
 },
 "nbformat": 4,
 "nbformat_minor": 4
}
