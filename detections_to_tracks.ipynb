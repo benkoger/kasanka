{
 "cells": [
  {
   "cell_type": "code",
   "execution_count": null,
   "metadata": {},
   "outputs": [],
   "source": [
    "import numpy as np\n",
    "import sys\n",
    "import os\n",
    "import glob\n",
    "import matplotlib.pyplot as plt\n",
    "import h5py\n",
    "import cv2\n",
    "import gc\n",
    "import bat_functions as kbf\n",
    "from multiprocessing import Pool"
   ]
  },
  {
   "cell_type": "code",
   "execution_count": null,
   "metadata": {},
   "outputs": [],
   "source": [
    "track_folder = \".../kasanka-bats/processed/deep-learning\"\n",
    "day = \"16Nov\"\n",
    "camera_folders = sorted(glob.glob(os.path.join(track_folder, day, '*')))"
   ]
  },
  {
   "cell_type": "code",
   "execution_count": null,
   "metadata": {},
   "outputs": [],
   "source": [
    "camera_folders"
   ]
  },
  {
   "cell_type": "code",
   "execution_count": null,
   "metadata": {},
   "outputs": [],
   "source": [
    "observation_folders = glob.glob(\n",
    "    '.../kasanka-bats/processed/deep-learning/16Nov/*/raw_tracks.npy')\n",
    "print(len(observation_folders))"
   ]
  },
  {
   "cell_type": "code",
   "execution_count": null,
   "metadata": {},
   "outputs": [],
   "source": [
    "# for camera_folder in camera_folders:\n",
    "#     print(os.path.basename(camera_folder))\n",
    "#     print(os.path.exists(os.path.join(camera_folder, 'centers.npy')))"
   ]
  },
  {
   "cell_type": "code",
   "execution_count": null,
   "metadata": {},
   "outputs": [],
   "source": [
    "n_camera_folders = []\n",
    "for folder in camera_folders:\n",
    "    tracks_file = os.path.join(folder, 'raw_tracks.npy')\n",
    "    if os.path.exists(tracks_file):\n",
    "        print(tracks_file)\n",
    "    else:\n",
    "        n_camera_folders.append(folder)\n",
    "# n_camera_folders.extend(camera_folders[2:5])\n",
    "# n_camera_folders.append(camera_folders[6])\n",
    "# n_camera_folders.extend(camera_folders[8:])\n",
    "print('to track')\n",
    "print(*n_camera_folders, sep='\\n')"
   ]
  },
  {
   "cell_type": "code",
   "execution_count": null,
   "metadata": {},
   "outputs": [],
   "source": [
    "# camera_folders = n_camera_folders\n",
    "n_camera_folders = n_camera_folders[:]\n",
    "n_camera_folders"
   ]
  },
  {
   "cell_type": "code",
   "execution_count": null,
   "metadata": {},
   "outputs": [],
   "source": [
    "# def get_obs_ind_from_file(elem):\n",
    "#     return int(elem.split('_')[-1].split('.')[0])\n",
    "\n",
    "# num_contour_files = 15\n",
    "\n",
    "# for camera_folder in camera_folders[:]:\n",
    "#     contours = np.load(os.path.join(camera_folder, 'contours.npy'), allow_pickle=True)\n",
    "# #     centers = np.load(os.path.join(camera_folder, 'centers.npy'), allow_pickle=True)\n",
    "# #     rects = np.load(os.path.join(camera_folder, 'rects.npy'), allow_pickle=True)\n",
    "# #     sizes = np.load(os.path.join(camera_folder, 'size.npy'), allow_pickle=True)\n",
    "# #     frame_folder = os.path.join(camera_folder, 'example-frames')\n",
    "# #     frame_files = sorted(glob.glob(os.path.join(frame_folder, '*.jpg')), key=get_obs_ind_from_file)\n",
    "\n",
    "#     new_contours = []\n",
    "#     file_num = 0\n",
    "#     for frame_ind, cs in enumerate(contours):\n",
    "#         if frame_ind % int(len(contours)/num_contour_files) == 0:\n",
    "#             # start new file\n",
    "#             file_name = f'contours-compressed-{file_num:02d}.npy'\n",
    "#             file = os.path.join(camera_folder, file_name)\n",
    "#             np.save(file, np.array(new_contours, dtype=object))\n",
    "#             new_contours = []\n",
    "#             file_num += 1\n",
    "#         if frame_ind % 10000 == 0:\n",
    "#             print(frame_ind)\n",
    "#         new_contours.append([])\n",
    "#         for c in cs:\n",
    "#             cc\t= np.squeeze(cv2.approxPolyDP(c, 0.1, closed=True))\n",
    "#             new_contours[-1].append(cc)\n",
    "#     file_name = f'contours-compressed-{file_num:02d}.npy'\n",
    "#     file = os.path.join(camera_folder, file_name)\n",
    "#     np.save(file, np.array(new_contours, dtype=object))"
   ]
  },
  {
   "cell_type": "code",
   "execution_count": null,
   "metadata": {},
   "outputs": [],
   "source": [
    "# x = sorted(\n",
    "#             glob.glob(os.path.join(camera_folders[5], 'contours-compressed-*.npy'))\n",
    "#         )\n",
    "# centers = np.load(os.path.join(camera_folders[5], 'centers.npy'), allow_pickle=True)"
   ]
  },
  {
   "cell_type": "code",
   "execution_count": null,
   "metadata": {},
   "outputs": [],
   "source": [
    "# ind = 4\n",
    "# print(len(centers[ind]), len(c[ind]))"
   ]
  },
  {
   "cell_type": "code",
   "execution_count": null,
   "metadata": {},
   "outputs": [],
   "source": [
    "# c = np.load(x[1], allow_pickle=True)"
   ]
  },
  {
   "cell_type": "code",
   "execution_count": null,
   "metadata": {},
   "outputs": [],
   "source": [
    "# len(c)\n",
    "# len(c[100])"
   ]
  },
  {
   "cell_type": "code",
   "execution_count": null,
   "metadata": {},
   "outputs": [],
   "source": [
    "def track(camera_dict):\n",
    "#     try:\n",
    "    camera_folder = camera_dict['camera_folder']\n",
    "    first_frame = camera_dict['first_frame']\n",
    "    max_frame = camera_dict['max_frame']\n",
    "    print('{} begun. '.format(os.path.basename(camera_folder)))\n",
    "    contours_files = sorted(\n",
    "        glob.glob(os.path.join(camera_folder, 'contours-compressed-*.npy'))\n",
    "    )\n",
    "    if contours_files:\n",
    "        contours_files = contours_files[1:]\n",
    "        centers = np.load(os.path.join(camera_folder, 'centers.npy'), allow_pickle=True)\n",
    "        sizes = np.load(os.path.join(camera_folder, 'size.npy'), allow_pickle=True)\n",
    "        tracks_file = os.path.join(camera_folder, f'first_frame_{first_frame}_max_val_{max_frame}_raw_tracks.npy')\n",
    "        raw_tracks = kbf.find_tracks(first_frame, centers, contours_files=contours_files, \n",
    "                                     sizes_list=sizes, tracks_file=tracks_file,\n",
    "                                    max_frame=max_frame)\n",
    "#     except:\n",
    "#         print(camera_folder, 'failed.')"
   ]
  },
  {
   "cell_type": "code",
   "execution_count": null,
   "metadata": {},
   "outputs": [],
   "source": [
    "n_camera_folders"
   ]
  },
  {
   "cell_type": "code",
   "execution_count": null,
   "metadata": {},
   "outputs": [],
   "source": [
    "camera_dicts = []\n",
    "for camera_folder in n_camera_folders:\n",
    "    centers_file = os.path.join(camera_folder, 'centers.npy')\n",
    "    centers = np.load(centers_file, allow_pickle=True)\n",
    "    max_vals = np.linspace(0, len(centers), 10, dtype=int)[1:].tolist()\n",
    "    max_vals[-1] = None\n",
    "    min_vals = np.linspace(0, len(centers), 10, dtype=int)[:-1]\n",
    "    # 15 second overlap\n",
    "    min_vals[1:] = min_vals[1:] - 450\n",
    "    for min_val, max_val in zip(min_vals, max_vals):\n",
    "        min_val = np.max([min_val, 0])\n",
    "        camera_dict = {'camera_folder': camera_folder,\n",
    "                       'first_frame': min_val,\n",
    "                       'max_frame': max_val}\n",
    "        if max_val is None:\n",
    "            tracks_basename = f'first_frame_{min_val:06d}_max_val_{max_val}_raw_tracks.npy'\n",
    "        else:\n",
    "            tracks_basename = f'first_frame_{min_val:06d}_max_val_{max_val:06d}_raw_tracks.npy'\n",
    "        tracks_file = os.path.join(camera_folder, tracks_basename)\n",
    "        if not os.path.exists(tracks_file):\n",
    "            print(tracks_file)\n",
    "            camera_dicts.append(camera_dict)\n",
    "        "
   ]
  },
  {
   "cell_type": "code",
   "execution_count": null,
   "metadata": {},
   "outputs": [],
   "source": [
    "print(camera_folder)\n",
    "print(camera_dicts)"
   ]
  },
  {
   "cell_type": "code",
   "execution_count": null,
   "metadata": {},
   "outputs": [],
   "source": [
    "first_frame_ind = 100\n",
    "\n",
    "contours_files = sorted(\n",
    "        glob.glob(os.path.join(camera_folder, 'contours-compressed-*.npy'))\n",
    "    )\n",
    "if contours_files:\n",
    "    contours_files = contours_files[1:]\n",
    "    centers = np.load(os.path.join(camera_folder, 'centers.npy'), allow_pickle=True)\n",
    "\n",
    "contours_file_ind = 0\n",
    "contours_list = np.load(contours_files[contours_file_ind], allow_pickle=True)\n",
    "previous_contours_seen = 0\n",
    "while first_frame_ind >= previous_contours_seen + len(contours_list):\n",
    "    contours_file_ind += 1\n",
    "    previous_contours_seen += len(contours_list)\n",
    "    contours_list = np.load(contours_files[contours_file_ind], allow_pickle=True)\n",
    "print(f'using {contours_files[contours_file_ind]}')    \n",
    "\n",
    "contours_ind = first_frame_ind - previous_contours_seen - 1"
   ]
  },
  {
   "cell_type": "code",
   "execution_count": null,
   "metadata": {},
   "outputs": [],
   "source": [
    "first_frame_ind = 100\n",
    "\n",
    "# for first_frame_ind in range(first_frame_ind, first_frame_ind + 1000):\n",
    "contours_ind = first_frame_ind - previous_contours_seen - 1\n",
    "if len(contours_list[contours_ind+1]) != len(centers[first_frame_ind]):\n",
    "    print(first_frame_ind)"
   ]
  },
  {
   "cell_type": "code",
   "execution_count": null,
   "metadata": {},
   "outputs": [],
   "source": [
    "print(os.path.join(gopro_folder, camera_name, '*', 'contours-compressed-*.npy'))"
   ]
  },
  {
   "cell_type": "code",
   "execution_count": null,
   "metadata": {},
   "outputs": [],
   "source": [
    "for camera_folder in n_camera_folders[:1]:\n",
    "    print(os.path.basename(camera_folder))\n",
    "    centers = np.load(os.path.join(camera_folder, 'centers.npy'), allow_pickle=True)\n",
    "    contours_files = sorted(\n",
    "            glob.glob(os.path.join(camera_folder, 'contours-compressed-*.npy'))\n",
    "        )\n",
    "    contours = [np.load(f, allow_pickle=True) for f in contours_files]\n",
    "    camera_name = os.path.basename(camera_folder)\n",
    "    \n",
    "    contour_lengths = [len(c) for c in contours]\n",
    "    print(contour_lengths)\n",
    "    print(sum(contour_lengths), len(centers), len(contours_files))"
   ]
  },
  {
   "cell_type": "code",
   "execution_count": null,
   "metadata": {},
   "outputs": [],
   "source": [
    "centers = np.zeros((60930, 2))\n",
    "contours_list = [[0,1,2,3] for i in range(centers.shape[0])]\n",
    "print(len(centers), len(contours_list))"
   ]
  },
  {
   "cell_type": "code",
   "execution_count": null,
   "metadata": {},
   "outputs": [],
   "source": []
  },
  {
   "cell_type": "code",
   "execution_count": null,
   "metadata": {},
   "outputs": [],
   "source": [
    "tracks = np.load(tracks_file, allow_pickle=True)"
   ]
  },
  {
   "cell_type": "code",
   "execution_count": null,
   "metadata": {},
   "outputs": [],
   "source": [
    "len(tracks)"
   ]
  },
  {
   "cell_type": "code",
   "execution_count": null,
   "metadata": {},
   "outputs": [],
   "source": [
    "camera_dicts"
   ]
  },
  {
   "cell_type": "code",
   "execution_count": null,
   "metadata": {},
   "outputs": [],
   "source": [
    "with Pool(processes=5) as pool:\n",
    "    pool.map(track, camera_dicts)"
   ]
  },
  {
   "cell_type": "code",
   "execution_count": null,
   "metadata": {},
   "outputs": [],
   "source": [
    "glob.glob(file)"
   ]
  },
  {
   "cell_type": "code",
   "execution_count": null,
   "metadata": {},
   "outputs": [],
   "source": [
    "def get_obs_ind_from_file(elem):\n",
    "    return int(elem.split('_')[-1].split('.')[0])\n",
    "\n",
    "# num_contour_files = 15\n",
    "\n",
    "for camera_folder in camera_folders[5:6]:\n",
    "\n",
    "    frame_folder = os.path.join(camera_folder, 'example-frames')\n",
    "    frame_files = sorted(glob.glob(os.path.join(frame_folder, '*.jpg')), key=get_obs_ind_from_file)\n",
    "    centers = np.load(os.path.join(camera_folder, 'centers.npy'), allow_pickle=True)"
   ]
  },
  {
   "cell_type": "code",
   "execution_count": null,
   "metadata": {},
   "outputs": [],
   "source": [
    "len(frame_files), len(centers)"
   ]
  },
  {
   "cell_type": "code",
   "execution_count": null,
   "metadata": {},
   "outputs": [],
   "source": [
    "plt.figure(figsize=(20,10))\n",
    "example_frame_ind = 80\n",
    "shift = 48\n",
    "obs_ind = int(frame_files[example_frame_ind].split('_')[-1].split('.')[0])\n",
    "im = plt.imread(frame_files[example_frame_ind])\n",
    "plt.imshow(im, vmin=0, vmax=255)\n",
    "plt.colorbar()\n",
    "plt.scatter(shift + centers[obs_ind][:,0], shift + centers[obs_ind][:,1], c='r', s=.1)\n",
    "x_border = [shift, shift, im.shape[1] - shift, im.shape[1] - shift, shift]\n",
    "y_border = [shift, im.shape[0] - shift, im.shape[0] - shift, shift, shift]\n",
    "plt.plot(x_border, y_border)\n",
    "plt.figure(figsize=(20,10))\n",
    "plt.imshow(im)\n",
    "\n",
    "plt.colorbar()\n",
    "plt.scatter(shift + centers[obs_ind][:,0], shift + centers[obs_ind][:,1], c='r', s=1)\n",
    "x_border = [shift, shift, im.shape[1] - shift, im.shape[1] - shift, shift]\n",
    "y_border = [shift, im.shape[0] - shift, im.shape[0] - shift, shift, shift]\n",
    "plt.plot(x_border, y_border)"
   ]
  },
  {
   "cell_type": "code",
   "execution_count": null,
   "metadata": {},
   "outputs": [],
   "source": [
    "plt.figure(figsize=(20,10))\n",
    "example_frame_ind = 0\n",
    "shift = 48\n",
    "obs_ind = int(frame_files[example_frame_ind].split('_')[-1].split('.')[0])\n",
    "im = plt.imread(frame_files[example_frame_ind])\n",
    "plt.imshow(im, vmin=0, vmax=255)\n",
    "plt.colorbar()\n",
    "plt.scatter(shift + centers[obs_ind][:,0], shift + centers[obs_ind][:,1], c='r', s=.1)\n",
    "x_border = [shift, shift, im.shape[1] - shift, im.shape[1] - shift, shift]\n",
    "y_border = [shift, im.shape[0] - shift, im.shape[0] - shift, shift, shift]\n",
    "plt.plot(x_border, y_border)\n",
    "plt.figure(figsize=(20,10))\n",
    "plt.imshow(im)\n",
    "\n",
    "plt.colorbar()\n",
    "plt.scatter(shift + centers[obs_ind][:,0], shift + centers[obs_ind][:,1], c='r', s=1)\n",
    "x_border = [shift, shift, im.shape[1] - shift, im.shape[1] - shift, shift]\n",
    "y_border = [shift, im.shape[0] - shift, im.shape[0] - shift, shift, shift]\n",
    "plt.plot(x_border, y_border)\n"
   ]
  },
  {
   "cell_type": "code",
   "execution_count": null,
   "metadata": {},
   "outputs": [],
   "source": [
    "# contour_folder = os.path.join(camera_folder, 'contours')\n",
    "# os.makedirs(contour_folder, exist_ok=True)"
   ]
  },
  {
   "cell_type": "code",
   "execution_count": null,
   "metadata": {},
   "outputs": [],
   "source": [
    "file"
   ]
  },
  {
   "cell_type": "code",
   "execution_count": null,
   "metadata": {},
   "outputs": [],
   "source": [
    "# import time\n",
    "# t0 = time.time()\n",
    "# for obs_ind, contour_list in enumerate(contours[0:2000]):\n",
    "#     file = os.path.join(contour_folder, f'contours_obs-ind_{obs_ind:06}.npy')\n",
    "#     np.save(file, np.array(contour_list, dtype=object))\n",
    "# total = time.time() - t0\n",
    "\n",
    "# print(total, total/obs_ind)"
   ]
  },
  {
   "cell_type": "code",
   "execution_count": null,
   "metadata": {},
   "outputs": [],
   "source": [
    "# contour_files = sorted(glob.glob(os.path.join(contour_folder, '*.npy')))"
   ]
  },
  {
   "cell_type": "code",
   "execution_count": null,
   "metadata": {},
   "outputs": [],
   "source": []
  },
  {
   "cell_type": "code",
   "execution_count": null,
   "metadata": {},
   "outputs": [],
   "source": []
  },
  {
   "cell_type": "code",
   "execution_count": null,
   "metadata": {},
   "outputs": [],
   "source": []
  },
  {
   "cell_type": "code",
   "execution_count": null,
   "metadata": {},
   "outputs": [],
   "source": []
  },
  {
   "cell_type": "code",
   "execution_count": null,
   "metadata": {},
   "outputs": [],
   "source": []
  },
  {
   "cell_type": "code",
   "execution_count": null,
   "metadata": {},
   "outputs": [],
   "source": []
  },
  {
   "cell_type": "code",
   "execution_count": null,
   "metadata": {},
   "outputs": [],
   "source": []
  },
  {
   "cell_type": "code",
   "execution_count": null,
   "metadata": {},
   "outputs": [],
   "source": []
  }
 ],
 "metadata": {
  "kernelspec": {
   "display_name": "Python 3",
   "language": "python",
   "name": "python3"
  },
  "language_info": {
   "codemirror_mode": {
    "name": "ipython",
    "version": 3
   },
   "file_extension": ".py",
   "mimetype": "text/x-python",
   "name": "python",
   "nbconvert_exporter": "python",
   "pygments_lexer": "ipython3",
   "version": "3.8.10"
  }
 },
 "nbformat": 4,
 "nbformat_minor": 4
}
